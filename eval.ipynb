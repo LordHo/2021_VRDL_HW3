{
 "cells": [
  {
   "cell_type": "code",
   "execution_count": null,
   "metadata": {},
   "outputs": [],
   "source": [
    "from mask_rcnn_eval import eval\n",
    "import time\n",
    "import os\n",
    "date = time.strftime(\"%Y-%m-%d %H-%M-%S\", time.localtime())\n",
    "model_path = os.path.join('model', 'Mask R-CNN',\n",
    "                              '2021-12-11 14-30-48-epoch-67.pkl')\n",
    "eval(date, model_path)"
   ]
  },
  {
   "cell_type": "code",
   "execution_count": null,
   "metadata": {},
   "outputs": [],
   "source": [
    "from mask_rcnn_eval import loadtestimageinfo\n",
    "loadtestimageinfo()"
   ]
  },
  {
   "cell_type": "code",
   "execution_count": null,
   "metadata": {},
   "outputs": [],
   "source": [
    "from mask_rcnn_eval import eval_coco\n",
    "import time\n",
    "date = time.strftime(\"%Y-%m-%d %H-%M-%S\", time.localtime())\n",
    "model_path = os.path.join('model', 'Mask R-CNN',\n",
    "                              '2021-12-11 14-30-48-epoch-67.pkl')\n",
    "eval_coco(date, model_path)"
   ]
  },
  {
   "cell_type": "code",
   "execution_count": null,
   "metadata": {},
   "outputs": [],
   "source": [
    "from mask_rcnn_eval import eval_divide\n",
    "import time\n",
    "import os\n",
    "date = time.strftime(\"%Y-%m-%d %H-%M-%S\", time.localtime())\n",
    "model_path = os.path.join('model', 'Mask R-CNN', 'image-4-divide-4',\n",
    "                              '2021-12-12 16-21-08-epoch-68.pkl')\n",
    "eval_divide(date, model_path, threshold=0.9999, minarea=500)"
   ]
  },
  {
   "cell_type": "code",
   "execution_count": null,
   "metadata": {},
   "outputs": [],
   "source": [
    "from mask_rcnn_eval import eval_coco_divide\n",
    "import time\n",
    "import os\n",
    "date = time.strftime(\"%Y-%m-%d %H-%M-%S\", time.localtime())\n",
    "model_path = os.path.join('model', 'Mask R-CNN', 'image-4-divide-4',\n",
    "                              '2021-12-12 16-21-08-epoch-93.pkl')\n",
    "eval_coco_divide(date, model_path, threshold=0.9999, minarea=200)"
   ]
  },
  {
   "cell_type": "code",
   "execution_count": null,
   "metadata": {},
   "outputs": [],
   "source": [
    "from mask_rcnn_eval import eval_coco_divide, mergeanswers, eval_divide\n",
    "import time\n",
    "import os\n",
    "test_1_model_path = os.path.join('model', 'Mask R-CNN', \n",
    "    'test-1-divide-4', '2021-12-13 00-05-35-epoch-95.pkl')\n",
    "test_2_model_path = os.path.join('model', 'Mask R-CNN', \n",
    "    'test-2-divide-4', '2021-12-13 00-05-35-epoch-98.pkl')\n",
    "test_3_model_path = os.path.join('model', 'Mask R-CNN', \n",
    "    'test-3-divide-4', '2021-12-13 00-05-35-epoch-100.pkl')\n",
    "test_4_model_path = os.path.join('model', 'Mask R-CNN', \n",
    "    'image-4-divide-4', '2021-12-12 16-21-08-epoch-93.pkl')\n",
    "test_5_model_path = os.path.join('model', 'Mask R-CNN', \n",
    "    'divide-4', '2021-12-12 00-00-07-epoch-100.pkl')\n",
    "test_6_model_path = os.path.join('model', 'Mask R-CNN', \n",
    "    'test-6-divide-4', '2021-12-13 00-05-35-epoch-86.pkl')\n",
    "model_path_list = [test_1_model_path, test_2_model_path, test_3_model_path,\n",
    "                    test_4_model_path, test_5_model_path, test_6_model_path]\n",
    "answers_list = []"
   ]
  },
  {
   "cell_type": "code",
   "execution_count": null,
   "metadata": {},
   "outputs": [],
   "source": [
    "for i in range(1, 7):\n",
    "    date = time.strftime(\"%Y-%m-%d %H-%M-%S\", time.localtime())\n",
    "    eval_image_dir = os.path.join('dataset', 'test_only_one_image', f'test-{i}')\n",
    "    print(eval_image_dir)\n",
    "    if i == 4:\n",
    "        model_path = model_path_list[3]\n",
    "    else:\n",
    "        model_path = model_path_list[4]\n",
    "    print(model_path)\n",
    "    # eval_divide(date, eval_image_dir, model_path, threshold=0.9999, minarea=100)\n",
    "    answers = eval_coco_divide(date, eval_image_dir, model_path, return_answers=True, threshold=0.9999)\n",
    "    answers_list.append(answers)"
   ]
  },
  {
   "cell_type": "code",
   "execution_count": null,
   "metadata": {},
   "outputs": [],
   "source": [
    "mergeanswers(answers_list, date)"
   ]
  }
 ],
 "metadata": {
  "interpreter": {
   "hash": "4023601d2c66765c2cd41cc7509af1d35fa85332d14551f25660655c523b7ce6"
  },
  "kernelspec": {
   "display_name": "Python 3.7.11 64-bit ('VRDL_HW3': conda)",
   "language": "python",
   "name": "python3"
  },
  "language_info": {
   "codemirror_mode": {
    "name": "ipython",
    "version": 3
   },
   "file_extension": ".py",
   "mimetype": "text/x-python",
   "name": "python",
   "nbconvert_exporter": "python",
   "pygments_lexer": "ipython3",
   "version": "3.7.11"
  },
  "orig_nbformat": 4
 },
 "nbformat": 4,
 "nbformat_minor": 2
}
