{
 "cells": [
  {
   "cell_type": "code",
   "execution_count": null,
   "metadata": {},
   "outputs": [],
   "source": [
    "import time\n",
    "from mask_rcnn_train import train\n",
    "from dataset import test_MaskRCNNTrainDataset\n",
    "date = time.strftime(\"%Y-%m-%d %H-%M-%S\", time.localtime())\n",
    "# train(date)\n",
    "# test_MaskRCNNTrainDataset()"
   ]
  },
  {
   "cell_type": "code",
   "execution_count": null,
   "metadata": {},
   "outputs": [],
   "source": [
    "# import numpy as np\n",
    "# import torch\n",
    "# device = torch.device('cuda' if torch.cuda.is_available() else 'cpu')\n",
    "# # print(device)\n",
    "\n",
    "# input = torch.as_tensor(np.ones(3, dtype=np.float32))\n",
    "# if input.dtype == torch.float32:\n",
    "#     # input = input.to(device).type(torch.cuda.FloatTensor)\n",
    "#     input = input.type(torch.cuda.FloatTensor)\n",
    "#     print(input.get_device())\n",
    "# print(input.dtype)"
   ]
  },
  {
   "cell_type": "code",
   "execution_count": null,
   "metadata": {},
   "outputs": [],
   "source": [
    "import time\n",
    "from mask_rcnn_train import train\n",
    "from dataset import test_MaskRCNNTrainDataset\n",
    "import os\n",
    "date = time.strftime(\"%Y-%m-%d %H-%M-%S\", time.localtime())\n",
    "# only train image_4\n",
    "load_model_path = os.path.join('model', 'Mask R-CNN', 'divide-4',\n",
    "                              '2021-12-12 00-00-07-epoch-100.pkl')\n",
    "for i in [1, 2, 3, 6]:\n",
    "    train_dir = os.path.join('dataset', f'test-{i}-divide-4')\n",
    "    save_model_dir = os.path.join('model', 'Mask R-CNN', f'test-{i}-divide-4')\n",
    "    train(date, train_dir, save_model_dir, load_model_path)"
   ]
  },
  {
   "cell_type": "code",
   "execution_count": 1,
   "metadata": {},
   "outputs": [
    {
     "name": "stdout",
     "output_type": "stream",
     "text": [
      "dataset\\divide-2\n",
      "model\\Mask R-CNN (ResNet-101 + FPN)\n",
      "True\n",
      "Device: cuda\n"
     ]
    },
    {
     "name": "stderr",
     "output_type": "stream",
     "text": [
      "  0%|          | 0/96 [00:00<?, ?it/s]C:\\Users\\Lab620\\Anaconda3\\envs\\VRDL_HW3\\lib\\site-packages\\torch\\nn\\functional.py:718: UserWarning: Named tensors and all their associated APIs are an experimental feature and subject to change. Please do not use them for anything important until they are released as stable. (Triggered internally at  ..\\c10/core/TensorImpl.h:1156.)\n",
      "  return torch.max_pool2d(input, kernel_size, stride, padding, dilation, ceil_mode)\n",
      "Epoch: 1, lr: 5e-04, total loss: 1.6038, loss_classifier: 0.7364 loss_box_reg: 0.5459 loss_mask: 0.3478 loss_objectness: 0.2844 loss_rpn_box_reg: 0.2517: 100%|██████████| 96/96 [01:43<00:00,  1.07s/it]\n"
     ]
    },
    {
     "name": "stdout",
     "output_type": "stream",
     "text": [
      "Save model at epoch 1.\n"
     ]
    },
    {
     "name": "stderr",
     "output_type": "stream",
     "text": [
      "  0%|          | 0/96 [00:00<?, ?it/s]"
     ]
    },
    {
     "name": "stdout",
     "output_type": "stream",
     "text": [
      "model\\Mask R-CNN (ResNet-101 + FPN)\\2021-12-16 20-13-14-best.pkl\n"
     ]
    },
    {
     "name": "stderr",
     "output_type": "stream",
     "text": [
      "Epoch: 2, lr: 5e-04, total loss: 1.3573, loss_classifier: 0.7683 loss_box_reg: 0.4918 loss_mask: 0.3059 loss_objectness: 0.1941 loss_rpn_box_reg: 0.2126: 100%|██████████| 96/96 [01:47<00:00,  1.12s/it]\n"
     ]
    },
    {
     "name": "stdout",
     "output_type": "stream",
     "text": [
      "Save model at epoch 2.\n"
     ]
    },
    {
     "name": "stderr",
     "output_type": "stream",
     "text": [
      "  0%|          | 0/96 [00:00<?, ?it/s]"
     ]
    },
    {
     "name": "stdout",
     "output_type": "stream",
     "text": [
      "model\\Mask R-CNN (ResNet-101 + FPN)\\2021-12-16 20-13-14-best.pkl\n"
     ]
    },
    {
     "name": "stderr",
     "output_type": "stream",
     "text": [
      "Epoch: 3, lr: 5e-04, total loss: 1.2610, loss_classifier: 0.8002 loss_box_reg: 0.4665 loss_mask: 0.2975 loss_objectness: 0.1559 loss_rpn_box_reg: 0.1923: 100%|██████████| 96/96 [01:40<00:00,  1.05s/it]\n"
     ]
    },
    {
     "name": "stdout",
     "output_type": "stream",
     "text": [
      "Save model at epoch 3.\n"
     ]
    },
    {
     "name": "stderr",
     "output_type": "stream",
     "text": [
      "  0%|          | 0/96 [00:00<?, ?it/s]"
     ]
    },
    {
     "name": "stdout",
     "output_type": "stream",
     "text": [
      "model\\Mask R-CNN (ResNet-101 + FPN)\\2021-12-16 20-13-14-best.pkl\n"
     ]
    },
    {
     "name": "stderr",
     "output_type": "stream",
     "text": [
      "Epoch: 4, lr: 5e-04, total loss: 1.2468, loss_classifier: 0.7805 loss_box_reg: 0.4569 loss_mask: 0.2947 loss_objectness: 0.1594 loss_rpn_box_reg: 0.1884: 100%|██████████| 96/96 [01:52<00:00,  1.17s/it]\n"
     ]
    },
    {
     "name": "stdout",
     "output_type": "stream",
     "text": [
      "Save model at epoch 4.\n"
     ]
    },
    {
     "name": "stderr",
     "output_type": "stream",
     "text": [
      "  0%|          | 0/96 [00:00<?, ?it/s]"
     ]
    },
    {
     "name": "stdout",
     "output_type": "stream",
     "text": [
      "model\\Mask R-CNN (ResNet-101 + FPN)\\2021-12-16 20-13-14-best.pkl\n"
     ]
    },
    {
     "name": "stderr",
     "output_type": "stream",
     "text": [
      "Epoch: 5, lr: 5e-04, total loss: 1.2252, loss_classifier: 0.7309 loss_box_reg: 0.4483 loss_mask: 0.2902 loss_objectness: 0.1525 loss_rpn_box_reg: 0.1891: 100%|██████████| 96/96 [01:40<00:00,  1.05s/it]\n"
     ]
    },
    {
     "name": "stdout",
     "output_type": "stream",
     "text": [
      "Save model at epoch 5.\n"
     ]
    },
    {
     "name": "stderr",
     "output_type": "stream",
     "text": [
      "  0%|          | 0/96 [00:00<?, ?it/s]"
     ]
    },
    {
     "name": "stdout",
     "output_type": "stream",
     "text": [
      "model\\Mask R-CNN (ResNet-101 + FPN)\\2021-12-16 20-13-14-best.pkl\n"
     ]
    },
    {
     "name": "stderr",
     "output_type": "stream",
     "text": [
      "Epoch: 6, lr: 5e-04, total loss: 1.1435, loss_classifier: 0.7225 loss_box_reg: 0.4277 loss_mask: 0.2796 loss_objectness: 0.1261 loss_rpn_box_reg: 0.1703: 100%|██████████| 96/96 [01:37<00:00,  1.02s/it]\n"
     ]
    },
    {
     "name": "stdout",
     "output_type": "stream",
     "text": [
      "Save model at epoch 6.\n"
     ]
    },
    {
     "name": "stderr",
     "output_type": "stream",
     "text": [
      "  0%|          | 0/96 [00:00<?, ?it/s]"
     ]
    },
    {
     "name": "stdout",
     "output_type": "stream",
     "text": [
      "model\\Mask R-CNN (ResNet-101 + FPN)\\2021-12-16 20-13-14-best.pkl\n"
     ]
    },
    {
     "name": "stderr",
     "output_type": "stream",
     "text": [
      "Epoch: 7, lr: 5e-04, total loss: 1.1398, loss_classifier: 0.6694 loss_box_reg: 0.4238 loss_mask: 0.2812 loss_objectness: 0.1272 loss_rpn_box_reg: 0.1671: 100%|██████████| 96/96 [01:44<00:00,  1.09s/it]\n"
     ]
    },
    {
     "name": "stdout",
     "output_type": "stream",
     "text": [
      "Save model at epoch 7.\n"
     ]
    },
    {
     "name": "stderr",
     "output_type": "stream",
     "text": [
      "  0%|          | 0/96 [00:00<?, ?it/s]"
     ]
    },
    {
     "name": "stdout",
     "output_type": "stream",
     "text": [
      "model\\Mask R-CNN (ResNet-101 + FPN)\\2021-12-16 20-13-14-best.pkl\n"
     ]
    },
    {
     "name": "stderr",
     "output_type": "stream",
     "text": [
      "Epoch: 8, lr: 5e-04, total loss: 1.1121, loss_classifier: 0.7050 loss_box_reg: 0.4159 loss_mask: 0.2747 loss_objectness: 0.1172 loss_rpn_box_reg: 0.1670: 100%|██████████| 96/96 [01:39<00:00,  1.04s/it]\n"
     ]
    },
    {
     "name": "stdout",
     "output_type": "stream",
     "text": [
      "Save model at epoch 8.\n"
     ]
    },
    {
     "name": "stderr",
     "output_type": "stream",
     "text": [
      "  0%|          | 0/96 [00:00<?, ?it/s]"
     ]
    },
    {
     "name": "stdout",
     "output_type": "stream",
     "text": [
      "model\\Mask R-CNN (ResNet-101 + FPN)\\2021-12-16 20-13-14-best.pkl\n"
     ]
    },
    {
     "name": "stderr",
     "output_type": "stream",
     "text": [
      "Epoch: 9, lr: 5e-04, total loss: 1.1111, loss_classifier: 0.7197 loss_box_reg: 0.4150 loss_mask: 0.2788 loss_objectness: 0.1153 loss_rpn_box_reg: 0.1626: 100%|██████████| 96/96 [01:41<00:00,  1.05s/it]\n"
     ]
    },
    {
     "name": "stdout",
     "output_type": "stream",
     "text": [
      "Save model at epoch 9.\n"
     ]
    },
    {
     "name": "stderr",
     "output_type": "stream",
     "text": [
      "  0%|          | 0/96 [00:00<?, ?it/s]"
     ]
    },
    {
     "name": "stdout",
     "output_type": "stream",
     "text": [
      "model\\Mask R-CNN (ResNet-101 + FPN)\\2021-12-16 20-13-14-best.pkl\n"
     ]
    },
    {
     "name": "stderr",
     "output_type": "stream",
     "text": [
      "Epoch: 10, lr: 5e-04, total loss: 1.0607, loss_classifier: 0.7029 loss_box_reg: 0.3930 loss_mask: 0.2710 loss_objectness: 0.1059 loss_rpn_box_reg: 0.1553: 100%|██████████| 96/96 [01:43<00:00,  1.07s/it]\n"
     ]
    },
    {
     "name": "stdout",
     "output_type": "stream",
     "text": [
      "Save model at epoch 10.\n"
     ]
    },
    {
     "name": "stderr",
     "output_type": "stream",
     "text": [
      "  0%|          | 0/96 [00:00<?, ?it/s]"
     ]
    },
    {
     "name": "stdout",
     "output_type": "stream",
     "text": [
      "model\\Mask R-CNN (ResNet-101 + FPN)\\2021-12-16 20-13-14-best.pkl\n"
     ]
    },
    {
     "name": "stderr",
     "output_type": "stream",
     "text": [
      "Epoch: 11, lr: 5e-04, total loss: 1.0711, loss_classifier: 0.7151 loss_box_reg: 0.3984 loss_mask: 0.2723 loss_objectness: 0.1048 loss_rpn_box_reg: 0.1596: 100%|██████████| 96/96 [01:42<00:00,  1.06s/it]\n",
      "Epoch: 12, lr: 5e-04, total loss: 1.0171, loss_classifier: 0.6893 loss_box_reg: 0.3758 loss_mask: 0.2671 loss_objectness: 0.0895 loss_rpn_box_reg: 0.1511: 100%|██████████| 96/96 [01:47<00:00,  1.12s/it]\n"
     ]
    },
    {
     "name": "stdout",
     "output_type": "stream",
     "text": [
      "Save model at epoch 12.\n"
     ]
    },
    {
     "name": "stderr",
     "output_type": "stream",
     "text": [
      "  0%|          | 0/96 [00:00<?, ?it/s]"
     ]
    },
    {
     "name": "stdout",
     "output_type": "stream",
     "text": [
      "model\\Mask R-CNN (ResNet-101 + FPN)\\2021-12-16 20-13-14-best.pkl\n"
     ]
    },
    {
     "name": "stderr",
     "output_type": "stream",
     "text": [
      "Epoch: 13, lr: 5e-04, total loss: 1.0032, loss_classifier: 0.7151 loss_box_reg: 0.3752 loss_mask: 0.2601 loss_objectness: 0.0918 loss_rpn_box_reg: 0.1461: 100%|██████████| 96/96 [01:38<00:00,  1.03s/it]\n"
     ]
    },
    {
     "name": "stdout",
     "output_type": "stream",
     "text": [
      "Save model at epoch 13.\n"
     ]
    },
    {
     "name": "stderr",
     "output_type": "stream",
     "text": [
      "  0%|          | 0/96 [00:00<?, ?it/s]"
     ]
    },
    {
     "name": "stdout",
     "output_type": "stream",
     "text": [
      "model\\Mask R-CNN (ResNet-101 + FPN)\\2021-12-16 20-13-14-best.pkl\n"
     ]
    },
    {
     "name": "stderr",
     "output_type": "stream",
     "text": [
      "Epoch: 14, lr: 5e-04, total loss: 0.9903, loss_classifier: 0.7227 loss_box_reg: 0.3661 loss_mask: 0.2617 loss_objectness: 0.0840 loss_rpn_box_reg: 0.1476: 100%|██████████| 96/96 [01:45<00:00,  1.10s/it]\n"
     ]
    },
    {
     "name": "stdout",
     "output_type": "stream",
     "text": [
      "Save model at epoch 14.\n"
     ]
    },
    {
     "name": "stderr",
     "output_type": "stream",
     "text": [
      "  0%|          | 0/96 [00:00<?, ?it/s]"
     ]
    },
    {
     "name": "stdout",
     "output_type": "stream",
     "text": [
      "model\\Mask R-CNN (ResNet-101 + FPN)\\2021-12-16 20-13-14-best.pkl\n"
     ]
    },
    {
     "name": "stderr",
     "output_type": "stream",
     "text": [
      "Epoch: 15, lr: 5e-04, total loss: 0.9944, loss_classifier: 0.7084 loss_box_reg: 0.3721 loss_mask: 0.2585 loss_objectness: 0.0901 loss_rpn_box_reg: 0.1444: 100%|██████████| 96/96 [01:46<00:00,  1.11s/it]\n",
      "Epoch: 16, lr: 5e-04, total loss: 0.9686, loss_classifier: 0.7221 loss_box_reg: 0.3568 loss_mask: 0.2598 loss_objectness: 0.0845 loss_rpn_box_reg: 0.1375: 100%|██████████| 96/96 [01:46<00:00,  1.11s/it]\n"
     ]
    },
    {
     "name": "stdout",
     "output_type": "stream",
     "text": [
      "Save model at epoch 16.\n"
     ]
    },
    {
     "name": "stderr",
     "output_type": "stream",
     "text": [
      "  0%|          | 0/96 [00:00<?, ?it/s]"
     ]
    },
    {
     "name": "stdout",
     "output_type": "stream",
     "text": [
      "model\\Mask R-CNN (ResNet-101 + FPN)\\2021-12-16 20-13-14-best.pkl\n"
     ]
    },
    {
     "name": "stderr",
     "output_type": "stream",
     "text": [
      "Epoch: 17, lr: 5e-04, total loss: 0.9464, loss_classifier: 0.7095 loss_box_reg: 0.3549 loss_mask: 0.2550 loss_objectness: 0.0768 loss_rpn_box_reg: 0.1322: 100%|██████████| 96/96 [01:44<00:00,  1.09s/it]\n"
     ]
    },
    {
     "name": "stdout",
     "output_type": "stream",
     "text": [
      "Save model at epoch 17.\n"
     ]
    },
    {
     "name": "stderr",
     "output_type": "stream",
     "text": [
      "  0%|          | 0/96 [00:00<?, ?it/s]"
     ]
    },
    {
     "name": "stdout",
     "output_type": "stream",
     "text": [
      "model\\Mask R-CNN (ResNet-101 + FPN)\\2021-12-16 20-13-14-best.pkl\n"
     ]
    },
    {
     "name": "stderr",
     "output_type": "stream",
     "text": [
      "Epoch: 18, lr: 5e-04, total loss: 0.9191, loss_classifier: 0.7474 loss_box_reg: 0.3459 loss_mask: 0.2490 loss_objectness: 0.0705 loss_rpn_box_reg: 0.1292: 100%|██████████| 96/96 [01:43<00:00,  1.08s/it]\n"
     ]
    },
    {
     "name": "stdout",
     "output_type": "stream",
     "text": [
      "Save model at epoch 18.\n"
     ]
    },
    {
     "name": "stderr",
     "output_type": "stream",
     "text": [
      "  0%|          | 0/96 [00:00<?, ?it/s]"
     ]
    },
    {
     "name": "stdout",
     "output_type": "stream",
     "text": [
      "model\\Mask R-CNN (ResNet-101 + FPN)\\2021-12-16 20-13-14-best.pkl\n"
     ]
    },
    {
     "name": "stderr",
     "output_type": "stream",
     "text": [
      "Epoch: 19, lr: 5e-04, total loss: 0.9016, loss_classifier: 0.7792 loss_box_reg: 0.3355 loss_mask: 0.2478 loss_objectness: 0.0684 loss_rpn_box_reg: 0.1260: 100%|██████████| 96/96 [01:45<00:00,  1.10s/it]\n"
     ]
    },
    {
     "name": "stdout",
     "output_type": "stream",
     "text": [
      "Save model at epoch 19.\n"
     ]
    },
    {
     "name": "stderr",
     "output_type": "stream",
     "text": [
      "  0%|          | 0/96 [00:00<?, ?it/s]"
     ]
    },
    {
     "name": "stdout",
     "output_type": "stream",
     "text": [
      "model\\Mask R-CNN (ResNet-101 + FPN)\\2021-12-16 20-13-14-best.pkl\n"
     ]
    },
    {
     "name": "stderr",
     "output_type": "stream",
     "text": [
      "Epoch: 20, lr: 5e-04, total loss: 0.9125, loss_classifier: 0.7649 loss_box_reg: 0.3358 loss_mask: 0.2487 loss_objectness: 0.0766 loss_rpn_box_reg: 0.1270: 100%|██████████| 96/96 [01:43<00:00,  1.07s/it]\n",
      "Epoch: 21, lr: 5e-04, total loss: 0.8986, loss_classifier: 0.7334 loss_box_reg: 0.3299 loss_mask: 0.2463 loss_objectness: 0.0730 loss_rpn_box_reg: 0.1261: 100%|██████████| 96/96 [01:40<00:00,  1.05s/it]\n"
     ]
    },
    {
     "name": "stdout",
     "output_type": "stream",
     "text": [
      "Save model at epoch 21.\n"
     ]
    },
    {
     "name": "stderr",
     "output_type": "stream",
     "text": [
      "  0%|          | 0/96 [00:00<?, ?it/s]"
     ]
    },
    {
     "name": "stdout",
     "output_type": "stream",
     "text": [
      "model\\Mask R-CNN (ResNet-101 + FPN)\\2021-12-16 20-13-14-best.pkl\n"
     ]
    },
    {
     "name": "stderr",
     "output_type": "stream",
     "text": [
      "Epoch: 22, lr: 5e-04, total loss: 0.8773, loss_classifier: 0.7493 loss_box_reg: 0.3256 loss_mask: 0.2436 loss_objectness: 0.0645 loss_rpn_box_reg: 0.1219: 100%|██████████| 96/96 [01:41<00:00,  1.06s/it]\n"
     ]
    },
    {
     "name": "stdout",
     "output_type": "stream",
     "text": [
      "Save model at epoch 22.\n"
     ]
    },
    {
     "name": "stderr",
     "output_type": "stream",
     "text": [
      "  0%|          | 0/96 [00:00<?, ?it/s]"
     ]
    },
    {
     "name": "stdout",
     "output_type": "stream",
     "text": [
      "model\\Mask R-CNN (ResNet-101 + FPN)\\2021-12-16 20-13-14-best.pkl\n"
     ]
    },
    {
     "name": "stderr",
     "output_type": "stream",
     "text": [
      "Epoch: 23, lr: 5e-04, total loss: 0.8421, loss_classifier: 0.7696 loss_box_reg: 0.3071 loss_mask: 0.2380 loss_objectness: 0.0620 loss_rpn_box_reg: 0.1162: 100%|██████████| 96/96 [01:44<00:00,  1.08s/it]\n"
     ]
    },
    {
     "name": "stdout",
     "output_type": "stream",
     "text": [
      "Save model at epoch 23.\n"
     ]
    },
    {
     "name": "stderr",
     "output_type": "stream",
     "text": [
      "  0%|          | 0/96 [00:00<?, ?it/s]"
     ]
    },
    {
     "name": "stdout",
     "output_type": "stream",
     "text": [
      "model\\Mask R-CNN (ResNet-101 + FPN)\\2021-12-16 20-13-14-best.pkl\n"
     ]
    },
    {
     "name": "stderr",
     "output_type": "stream",
     "text": [
      "Epoch: 24, lr: 5e-04, total loss: 0.8179, loss_classifier: 0.7385 loss_box_reg: 0.2957 loss_mask: 0.2341 loss_objectness: 0.0570 loss_rpn_box_reg: 0.1140: 100%|██████████| 96/96 [01:47<00:00,  1.12s/it]\n"
     ]
    },
    {
     "name": "stdout",
     "output_type": "stream",
     "text": [
      "Save model at epoch 24.\n"
     ]
    },
    {
     "name": "stderr",
     "output_type": "stream",
     "text": [
      "  0%|          | 0/96 [00:00<?, ?it/s]"
     ]
    },
    {
     "name": "stdout",
     "output_type": "stream",
     "text": [
      "model\\Mask R-CNN (ResNet-101 + FPN)\\2021-12-16 20-13-14-best.pkl\n"
     ]
    },
    {
     "name": "stderr",
     "output_type": "stream",
     "text": [
      "Epoch: 25, lr: 5e-04, total loss: 0.8330, loss_classifier: 0.7552 loss_box_reg: 0.3024 loss_mask: 0.2360 loss_objectness: 0.0616 loss_rpn_box_reg: 0.1149: 100%|██████████| 96/96 [01:41<00:00,  1.05s/it]\n",
      "Epoch: 26, lr: 5e-04, total loss: 0.8302, loss_classifier: 0.7744 loss_box_reg: 0.3029 loss_mask: 0.2357 loss_objectness: 0.0610 loss_rpn_box_reg: 0.1128: 100%|██████████| 96/96 [01:35<00:00,  1.00it/s]\n",
      "Epoch: 27, lr: 5e-04, total loss: 0.8541, loss_classifier: 0.7536 loss_box_reg: 0.3128 loss_mask: 0.2377 loss_objectness: 0.0640 loss_rpn_box_reg: 0.1207: 100%|██████████| 96/96 [01:44<00:00,  1.09s/it]\n",
      "Epoch: 28, lr: 5e-04, total loss: 0.8016, loss_classifier: 0.8144 loss_box_reg: 0.2924 loss_mask: 0.2310 loss_objectness: 0.0521 loss_rpn_box_reg: 0.1106: 100%|██████████| 96/96 [01:45<00:00,  1.10s/it]\n"
     ]
    },
    {
     "name": "stdout",
     "output_type": "stream",
     "text": [
      "Save model at epoch 28.\n"
     ]
    },
    {
     "name": "stderr",
     "output_type": "stream",
     "text": [
      "  0%|          | 0/96 [00:00<?, ?it/s]"
     ]
    },
    {
     "name": "stdout",
     "output_type": "stream",
     "text": [
      "model\\Mask R-CNN (ResNet-101 + FPN)\\2021-12-16 20-13-14-best.pkl\n"
     ]
    },
    {
     "name": "stderr",
     "output_type": "stream",
     "text": [
      "Epoch: 29, lr: 5e-04, total loss: 0.7795, loss_classifier: 0.7613 loss_box_reg: 0.2789 loss_mask: 0.2260 loss_objectness: 0.0523 loss_rpn_box_reg: 0.1093: 100%|██████████| 96/96 [01:52<00:00,  1.17s/it]\n"
     ]
    },
    {
     "name": "stdout",
     "output_type": "stream",
     "text": [
      "Save model at epoch 29.\n"
     ]
    },
    {
     "name": "stderr",
     "output_type": "stream",
     "text": [
      "  0%|          | 0/96 [00:00<?, ?it/s]"
     ]
    },
    {
     "name": "stdout",
     "output_type": "stream",
     "text": [
      "model\\Mask R-CNN (ResNet-101 + FPN)\\2021-12-16 20-13-14-best.pkl\n"
     ]
    },
    {
     "name": "stderr",
     "output_type": "stream",
     "text": [
      "Epoch: 30, lr: 5e-04, total loss: 0.7508, loss_classifier: 0.7791 loss_box_reg: 0.2654 loss_mask: 0.2203 loss_objectness: 0.0509 loss_rpn_box_reg: 0.1042: 100%|██████████| 96/96 [01:39<00:00,  1.04s/it]\n"
     ]
    },
    {
     "name": "stdout",
     "output_type": "stream",
     "text": [
      "Save model at epoch 30.\n"
     ]
    },
    {
     "name": "stderr",
     "output_type": "stream",
     "text": [
      "  0%|          | 0/96 [00:00<?, ?it/s]"
     ]
    },
    {
     "name": "stdout",
     "output_type": "stream",
     "text": [
      "model\\Mask R-CNN (ResNet-101 + FPN)\\2021-12-16 20-13-14-best.pkl\n"
     ]
    },
    {
     "name": "stderr",
     "output_type": "stream",
     "text": [
      "Epoch: 31, lr: 5e-04, total loss: 0.7761, loss_classifier: 0.7683 loss_box_reg: 0.2756 loss_mask: 0.2275 loss_objectness: 0.0540 loss_rpn_box_reg: 0.1052: 100%|██████████| 96/96 [01:41<00:00,  1.06s/it]\n",
      "Epoch: 32, lr: 5e-04, total loss: 0.7546, loss_classifier: 0.8252 loss_box_reg: 0.2725 loss_mask: 0.2211 loss_objectness: 0.0474 loss_rpn_box_reg: 0.1030: 100%|██████████| 96/96 [01:41<00:00,  1.06s/it]\n",
      "Epoch: 33, lr: 5e-04, total loss: 0.7439, loss_classifier: 0.8015 loss_box_reg: 0.2644 loss_mask: 0.2178 loss_objectness: 0.0513 loss_rpn_box_reg: 0.1014: 100%|██████████| 96/96 [01:50<00:00,  1.15s/it]\n"
     ]
    },
    {
     "name": "stdout",
     "output_type": "stream",
     "text": [
      "Save model at epoch 33.\n"
     ]
    },
    {
     "name": "stderr",
     "output_type": "stream",
     "text": [
      "  0%|          | 0/96 [00:00<?, ?it/s]"
     ]
    },
    {
     "name": "stdout",
     "output_type": "stream",
     "text": [
      "model\\Mask R-CNN (ResNet-101 + FPN)\\2021-12-16 20-13-14-best.pkl\n"
     ]
    },
    {
     "name": "stderr",
     "output_type": "stream",
     "text": [
      "Epoch: 34, lr: 5e-04, total loss: 0.7361, loss_classifier: 0.7691 loss_box_reg: 0.2570 loss_mask: 0.2196 loss_objectness: 0.0496 loss_rpn_box_reg: 0.1001: 100%|██████████| 96/96 [01:41<00:00,  1.06s/it]\n"
     ]
    },
    {
     "name": "stdout",
     "output_type": "stream",
     "text": [
      "Save model at epoch 34.\n"
     ]
    },
    {
     "name": "stderr",
     "output_type": "stream",
     "text": [
      "  0%|          | 0/96 [00:00<?, ?it/s]"
     ]
    },
    {
     "name": "stdout",
     "output_type": "stream",
     "text": [
      "model\\Mask R-CNN (ResNet-101 + FPN)\\2021-12-16 20-13-14-best.pkl\n"
     ]
    },
    {
     "name": "stderr",
     "output_type": "stream",
     "text": [
      "Epoch: 35, lr: 5e-04, total loss: 0.7283, loss_classifier: 0.8109 loss_box_reg: 0.2559 loss_mask: 0.2180 loss_objectness: 0.0479 loss_rpn_box_reg: 0.0976: 100%|██████████| 96/96 [01:51<00:00,  1.16s/it]\n"
     ]
    },
    {
     "name": "stdout",
     "output_type": "stream",
     "text": [
      "Save model at epoch 35.\n"
     ]
    },
    {
     "name": "stderr",
     "output_type": "stream",
     "text": [
      "  0%|          | 0/96 [00:00<?, ?it/s]"
     ]
    },
    {
     "name": "stdout",
     "output_type": "stream",
     "text": [
      "model\\Mask R-CNN (ResNet-101 + FPN)\\2021-12-16 20-13-14-best.pkl\n"
     ]
    },
    {
     "name": "stderr",
     "output_type": "stream",
     "text": [
      "Epoch: 36, lr: 5e-04, total loss: 0.7082, loss_classifier: 0.7821 loss_box_reg: 0.2513 loss_mask: 0.2113 loss_objectness: 0.0448 loss_rpn_box_reg: 0.0952: 100%|██████████| 96/96 [01:40<00:00,  1.05s/it]\n"
     ]
    },
    {
     "name": "stdout",
     "output_type": "stream",
     "text": [
      "Save model at epoch 36.\n"
     ]
    },
    {
     "name": "stderr",
     "output_type": "stream",
     "text": [
      "  0%|          | 0/96 [00:00<?, ?it/s]"
     ]
    },
    {
     "name": "stdout",
     "output_type": "stream",
     "text": [
      "model\\Mask R-CNN (ResNet-101 + FPN)\\2021-12-16 20-13-14-best.pkl\n"
     ]
    },
    {
     "name": "stderr",
     "output_type": "stream",
     "text": [
      "Epoch: 37, lr: 5e-04, total loss: 0.7133, loss_classifier: 0.7841 loss_box_reg: 0.2506 loss_mask: 0.2106 loss_objectness: 0.0496 loss_rpn_box_reg: 0.0971: 100%|██████████| 96/96 [01:51<00:00,  1.16s/it]\n",
      "Epoch: 38, lr: 5e-04, total loss: 0.6853, loss_classifier: 0.7457 loss_box_reg: 0.2409 loss_mask: 0.2077 loss_objectness: 0.0415 loss_rpn_box_reg: 0.0913: 100%|██████████| 96/96 [01:42<00:00,  1.07s/it]\n"
     ]
    },
    {
     "name": "stdout",
     "output_type": "stream",
     "text": [
      "Save model at epoch 38.\n"
     ]
    },
    {
     "name": "stderr",
     "output_type": "stream",
     "text": [
      "  0%|          | 0/96 [00:00<?, ?it/s]"
     ]
    },
    {
     "name": "stdout",
     "output_type": "stream",
     "text": [
      "model\\Mask R-CNN (ResNet-101 + FPN)\\2021-12-16 20-13-14-best.pkl\n"
     ]
    },
    {
     "name": "stderr",
     "output_type": "stream",
     "text": [
      "Epoch: 39, lr: 5e-04, total loss: 0.7016, loss_classifier: 0.7664 loss_box_reg: 0.2454 loss_mask: 0.2128 loss_objectness: 0.0445 loss_rpn_box_reg: 0.0924: 100%|██████████| 96/96 [01:52<00:00,  1.17s/it]\n",
      "Epoch: 40, lr: 5e-04, total loss: 0.7170, loss_classifier: 0.7585 loss_box_reg: 0.2539 loss_mask: 0.2132 loss_objectness: 0.0460 loss_rpn_box_reg: 0.0972: 100%|██████████| 96/96 [01:47<00:00,  1.12s/it]\n",
      "Epoch: 41, lr: 5e-04, total loss: 0.6882, loss_classifier: 0.7940 loss_box_reg: 0.2375 loss_mask: 0.2109 loss_objectness: 0.0411 loss_rpn_box_reg: 0.0932: 100%|██████████| 96/96 [01:41<00:00,  1.06s/it]\n",
      "Epoch: 42, lr: 5e-04, total loss: 0.6655, loss_classifier: 0.9010 loss_box_reg: 0.2309 loss_mask: 0.2048 loss_objectness: 0.0408 loss_rpn_box_reg: 0.0865: 100%|██████████| 96/96 [01:46<00:00,  1.11s/it]\n"
     ]
    },
    {
     "name": "stdout",
     "output_type": "stream",
     "text": [
      "Save model at epoch 42.\n"
     ]
    },
    {
     "name": "stderr",
     "output_type": "stream",
     "text": [
      "  0%|          | 0/96 [00:00<?, ?it/s]"
     ]
    },
    {
     "name": "stdout",
     "output_type": "stream",
     "text": [
      "model\\Mask R-CNN (ResNet-101 + FPN)\\2021-12-16 20-13-14-best.pkl\n"
     ]
    },
    {
     "name": "stderr",
     "output_type": "stream",
     "text": [
      "Epoch: 43, lr: 5e-04, total loss: 0.6594, loss_classifier: 0.8477 loss_box_reg: 0.2288 loss_mask: 0.2044 loss_objectness: 0.0374 loss_rpn_box_reg: 0.0865: 100%|██████████| 96/96 [01:44<00:00,  1.09s/it]\n"
     ]
    },
    {
     "name": "stdout",
     "output_type": "stream",
     "text": [
      "Save model at epoch 43.\n"
     ]
    },
    {
     "name": "stderr",
     "output_type": "stream",
     "text": [
      "  0%|          | 0/96 [00:00<?, ?it/s]"
     ]
    },
    {
     "name": "stdout",
     "output_type": "stream",
     "text": [
      "model\\Mask R-CNN (ResNet-101 + FPN)\\2021-12-16 20-13-14-best.pkl\n"
     ]
    },
    {
     "name": "stderr",
     "output_type": "stream",
     "text": [
      "Epoch: 44, lr: 5e-04, total loss: 0.7010, loss_classifier: 0.8191 loss_box_reg: 0.2467 loss_mask: 0.2096 loss_objectness: 0.0466 loss_rpn_box_reg: 0.0934: 100%|██████████| 96/96 [01:50<00:00,  1.15s/it]\n",
      "Epoch: 45, lr: 5e-04, total loss: 0.6866, loss_classifier: 0.8004 loss_box_reg: 0.2466 loss_mask: 0.2082 loss_objectness: 0.0391 loss_rpn_box_reg: 0.0886: 100%|██████████| 96/96 [01:42<00:00,  1.06s/it]\n",
      "Epoch: 46, lr: 5e-04, total loss: 0.6496, loss_classifier: 0.9398 loss_box_reg: 0.2234 loss_mask: 0.2018 loss_objectness: 0.0391 loss_rpn_box_reg: 0.0843: 100%|██████████| 96/96 [01:44<00:00,  1.09s/it]\n"
     ]
    },
    {
     "name": "stdout",
     "output_type": "stream",
     "text": [
      "Save model at epoch 46.\n"
     ]
    },
    {
     "name": "stderr",
     "output_type": "stream",
     "text": [
      "  0%|          | 0/96 [00:00<?, ?it/s]"
     ]
    },
    {
     "name": "stdout",
     "output_type": "stream",
     "text": [
      "model\\Mask R-CNN (ResNet-101 + FPN)\\2021-12-16 20-13-14-best.pkl\n"
     ]
    },
    {
     "name": "stderr",
     "output_type": "stream",
     "text": [
      "Epoch: 47, lr: 5e-04, total loss: 0.6353, loss_classifier: 0.9370 loss_box_reg: 0.2185 loss_mask: 0.1981 loss_objectness: 0.0370 loss_rpn_box_reg: 0.0826: 100%|██████████| 96/96 [01:39<00:00,  1.04s/it]\n"
     ]
    },
    {
     "name": "stdout",
     "output_type": "stream",
     "text": [
      "Save model at epoch 47.\n"
     ]
    },
    {
     "name": "stderr",
     "output_type": "stream",
     "text": [
      "  0%|          | 0/96 [00:00<?, ?it/s]"
     ]
    },
    {
     "name": "stdout",
     "output_type": "stream",
     "text": [
      "model\\Mask R-CNN (ResNet-101 + FPN)\\2021-12-16 20-13-14-best.pkl\n"
     ]
    },
    {
     "name": "stderr",
     "output_type": "stream",
     "text": [
      "Epoch: 48, lr: 5e-04, total loss: 0.6234, loss_classifier: 0.8797 loss_box_reg: 0.2143 loss_mask: 0.1938 loss_objectness: 0.0332 loss_rpn_box_reg: 0.0851: 100%|██████████| 96/96 [01:45<00:00,  1.10s/it]\n"
     ]
    },
    {
     "name": "stdout",
     "output_type": "stream",
     "text": [
      "Save model at epoch 48.\n"
     ]
    },
    {
     "name": "stderr",
     "output_type": "stream",
     "text": [
      "  0%|          | 0/96 [00:00<?, ?it/s]"
     ]
    },
    {
     "name": "stdout",
     "output_type": "stream",
     "text": [
      "model\\Mask R-CNN (ResNet-101 + FPN)\\2021-12-16 20-13-14-best.pkl\n"
     ]
    },
    {
     "name": "stderr",
     "output_type": "stream",
     "text": [
      "Epoch: 49, lr: 5e-04, total loss: 0.6264, loss_classifier: 0.8694 loss_box_reg: 0.2128 loss_mask: 0.1972 loss_objectness: 0.0363 loss_rpn_box_reg: 0.0815: 100%|██████████| 96/96 [01:50<00:00,  1.15s/it]\n",
      "Epoch: 50, lr: 5e-04, total loss: 0.6074, loss_classifier: 0.8448 loss_box_reg: 0.2054 loss_mask: 0.1916 loss_objectness: 0.0338 loss_rpn_box_reg: 0.0807: 100%|██████████| 96/96 [01:40<00:00,  1.05s/it]\n"
     ]
    },
    {
     "name": "stdout",
     "output_type": "stream",
     "text": [
      "Save model at epoch 50.\n"
     ]
    },
    {
     "name": "stderr",
     "output_type": "stream",
     "text": [
      "  0%|          | 0/96 [00:00<?, ?it/s]"
     ]
    },
    {
     "name": "stdout",
     "output_type": "stream",
     "text": [
      "model\\Mask R-CNN (ResNet-101 + FPN)\\2021-12-16 20-13-14-best.pkl\n"
     ]
    },
    {
     "name": "stderr",
     "output_type": "stream",
     "text": [
      "Epoch: 51, lr: 5e-05, total loss: 0.5497, loss_classifier: 0.9104 loss_box_reg: 0.1786 loss_mask: 0.1830 loss_objectness: 0.0297 loss_rpn_box_reg: 0.0669: 100%|██████████| 96/96 [01:45<00:00,  1.09s/it]\n"
     ]
    },
    {
     "name": "stdout",
     "output_type": "stream",
     "text": [
      "Save model at epoch 51.\n"
     ]
    },
    {
     "name": "stderr",
     "output_type": "stream",
     "text": [
      "  0%|          | 0/96 [00:00<?, ?it/s]"
     ]
    },
    {
     "name": "stdout",
     "output_type": "stream",
     "text": [
      "model\\Mask R-CNN (ResNet-101 + FPN)\\2021-12-16 20-13-14-best.pkl\n"
     ]
    },
    {
     "name": "stderr",
     "output_type": "stream",
     "text": [
      "Epoch: 52, lr: 5e-05, total loss: 0.4941, loss_classifier: 0.9527 loss_box_reg: 0.1524 loss_mask: 0.1715 loss_objectness: 0.0266 loss_rpn_box_reg: 0.0579: 100%|██████████| 96/96 [01:39<00:00,  1.03s/it]\n"
     ]
    },
    {
     "name": "stdout",
     "output_type": "stream",
     "text": [
      "Save model at epoch 52.\n"
     ]
    },
    {
     "name": "stderr",
     "output_type": "stream",
     "text": [
      "  0%|          | 0/96 [00:00<?, ?it/s]"
     ]
    },
    {
     "name": "stdout",
     "output_type": "stream",
     "text": [
      "model\\Mask R-CNN (ResNet-101 + FPN)\\2021-12-16 20-13-14-best.pkl\n"
     ]
    },
    {
     "name": "stderr",
     "output_type": "stream",
     "text": [
      "Epoch: 53, lr: 5e-05, total loss: 0.4741, loss_classifier: 0.9604 loss_box_reg: 0.1420 loss_mask: 0.1674 loss_objectness: 0.0236 loss_rpn_box_reg: 0.0573: 100%|██████████| 96/96 [01:44<00:00,  1.08s/it]\n"
     ]
    },
    {
     "name": "stdout",
     "output_type": "stream",
     "text": [
      "Save model at epoch 53.\n"
     ]
    },
    {
     "name": "stderr",
     "output_type": "stream",
     "text": [
      "  0%|          | 0/96 [00:00<?, ?it/s]"
     ]
    },
    {
     "name": "stdout",
     "output_type": "stream",
     "text": [
      "model\\Mask R-CNN (ResNet-101 + FPN)\\2021-12-16 20-13-14-best.pkl\n"
     ]
    },
    {
     "name": "stderr",
     "output_type": "stream",
     "text": [
      "Epoch: 54, lr: 5e-05, total loss: 0.4585, loss_classifier: 0.9610 loss_box_reg: 0.1329 loss_mask: 0.1655 loss_objectness: 0.0235 loss_rpn_box_reg: 0.0537: 100%|██████████| 96/96 [01:38<00:00,  1.02s/it]\n"
     ]
    },
    {
     "name": "stdout",
     "output_type": "stream",
     "text": [
      "Save model at epoch 54.\n"
     ]
    },
    {
     "name": "stderr",
     "output_type": "stream",
     "text": [
      "  0%|          | 0/96 [00:00<?, ?it/s]"
     ]
    },
    {
     "name": "stdout",
     "output_type": "stream",
     "text": [
      "model\\Mask R-CNN (ResNet-101 + FPN)\\2021-12-16 20-13-14-best.pkl\n"
     ]
    },
    {
     "name": "stderr",
     "output_type": "stream",
     "text": [
      "Epoch: 55, lr: 5e-05, total loss: 0.4442, loss_classifier: 0.9919 loss_box_reg: 0.1265 loss_mask: 0.1629 loss_objectness: 0.0230 loss_rpn_box_reg: 0.0503: 100%|██████████| 96/96 [01:37<00:00,  1.01s/it]\n"
     ]
    },
    {
     "name": "stdout",
     "output_type": "stream",
     "text": [
      "Save model at epoch 55.\n"
     ]
    },
    {
     "name": "stderr",
     "output_type": "stream",
     "text": [
      "  0%|          | 0/96 [00:00<?, ?it/s]"
     ]
    },
    {
     "name": "stdout",
     "output_type": "stream",
     "text": [
      "model\\Mask R-CNN (ResNet-101 + FPN)\\2021-12-16 20-13-14-best.pkl\n"
     ]
    },
    {
     "name": "stderr",
     "output_type": "stream",
     "text": [
      "Epoch: 56, lr: 5e-05, total loss: 0.4366, loss_classifier: 0.9797 loss_box_reg: 0.1207 loss_mask: 0.1620 loss_objectness: 0.0245 loss_rpn_box_reg: 0.0484: 100%|██████████| 96/96 [01:42<00:00,  1.07s/it]\n"
     ]
    },
    {
     "name": "stdout",
     "output_type": "stream",
     "text": [
      "Save model at epoch 56.\n"
     ]
    },
    {
     "name": "stderr",
     "output_type": "stream",
     "text": [
      "  0%|          | 0/96 [00:00<?, ?it/s]"
     ]
    },
    {
     "name": "stdout",
     "output_type": "stream",
     "text": [
      "model\\Mask R-CNN (ResNet-101 + FPN)\\2021-12-16 20-13-14-best.pkl\n"
     ]
    },
    {
     "name": "stderr",
     "output_type": "stream",
     "text": [
      "Epoch: 57, lr: 5e-05, total loss: 0.4231, loss_classifier: 0.9577 loss_box_reg: 0.1156 loss_mask: 0.1581 loss_objectness: 0.0208 loss_rpn_box_reg: 0.0495: 100%|██████████| 96/96 [01:39<00:00,  1.04s/it]\n"
     ]
    },
    {
     "name": "stdout",
     "output_type": "stream",
     "text": [
      "Save model at epoch 57.\n"
     ]
    },
    {
     "name": "stderr",
     "output_type": "stream",
     "text": [
      "  0%|          | 0/96 [00:00<?, ?it/s]"
     ]
    },
    {
     "name": "stdout",
     "output_type": "stream",
     "text": [
      "model\\Mask R-CNN (ResNet-101 + FPN)\\2021-12-16 20-13-14-best.pkl\n"
     ]
    },
    {
     "name": "stderr",
     "output_type": "stream",
     "text": [
      "Epoch: 58, lr: 5e-05, total loss: 0.4151, loss_classifier: 0.9804 loss_box_reg: 0.1118 loss_mask: 0.1564 loss_objectness: 0.0212 loss_rpn_box_reg: 0.0475: 100%|██████████| 96/96 [01:45<00:00,  1.10s/it]\n"
     ]
    },
    {
     "name": "stdout",
     "output_type": "stream",
     "text": [
      "Save model at epoch 58.\n"
     ]
    },
    {
     "name": "stderr",
     "output_type": "stream",
     "text": [
      "  0%|          | 0/96 [00:00<?, ?it/s]"
     ]
    },
    {
     "name": "stdout",
     "output_type": "stream",
     "text": [
      "model\\Mask R-CNN (ResNet-101 + FPN)\\2021-12-16 20-13-14-best.pkl\n"
     ]
    },
    {
     "name": "stderr",
     "output_type": "stream",
     "text": [
      "Epoch: 59, lr: 5e-05, total loss: 0.4093, loss_classifier: 0.9562 loss_box_reg: 0.1087 loss_mask: 0.1548 loss_objectness: 0.0217 loss_rpn_box_reg: 0.0467: 100%|██████████| 96/96 [01:35<00:00,  1.01it/s]\n"
     ]
    },
    {
     "name": "stdout",
     "output_type": "stream",
     "text": [
      "Save model at epoch 59.\n"
     ]
    },
    {
     "name": "stderr",
     "output_type": "stream",
     "text": [
      "  0%|          | 0/96 [00:00<?, ?it/s]"
     ]
    },
    {
     "name": "stdout",
     "output_type": "stream",
     "text": [
      "model\\Mask R-CNN (ResNet-101 + FPN)\\2021-12-16 20-13-14-best.pkl\n"
     ]
    },
    {
     "name": "stderr",
     "output_type": "stream",
     "text": [
      "Epoch: 60, lr: 5e-05, total loss: 0.3967, loss_classifier: 0.9563 loss_box_reg: 0.1032 loss_mask: 0.1518 loss_objectness: 0.0205 loss_rpn_box_reg: 0.0453: 100%|██████████| 96/96 [01:46<00:00,  1.11s/it]\n"
     ]
    },
    {
     "name": "stdout",
     "output_type": "stream",
     "text": [
      "Save model at epoch 60.\n"
     ]
    },
    {
     "name": "stderr",
     "output_type": "stream",
     "text": [
      "  0%|          | 0/96 [00:00<?, ?it/s]"
     ]
    },
    {
     "name": "stdout",
     "output_type": "stream",
     "text": [
      "model\\Mask R-CNN (ResNet-101 + FPN)\\2021-12-16 20-13-14-best.pkl\n"
     ]
    },
    {
     "name": "stderr",
     "output_type": "stream",
     "text": [
      "Epoch: 61, lr: 5e-05, total loss: 0.3932, loss_classifier: 0.9697 loss_box_reg: 0.1020 loss_mask: 0.1513 loss_objectness: 0.0200 loss_rpn_box_reg: 0.0442: 100%|██████████| 96/96 [01:48<00:00,  1.13s/it]\n"
     ]
    },
    {
     "name": "stdout",
     "output_type": "stream",
     "text": [
      "Save model at epoch 61.\n"
     ]
    },
    {
     "name": "stderr",
     "output_type": "stream",
     "text": [
      "  0%|          | 0/96 [00:00<?, ?it/s]"
     ]
    },
    {
     "name": "stdout",
     "output_type": "stream",
     "text": [
      "model\\Mask R-CNN (ResNet-101 + FPN)\\2021-12-16 20-13-14-best.pkl\n"
     ]
    },
    {
     "name": "stderr",
     "output_type": "stream",
     "text": [
      "Epoch: 62, lr: 5e-05, total loss: 0.3903, loss_classifier: 0.9871 loss_box_reg: 0.0998 loss_mask: 0.1499 loss_objectness: 0.0199 loss_rpn_box_reg: 0.0457: 100%|██████████| 96/96 [01:45<00:00,  1.10s/it]\n"
     ]
    },
    {
     "name": "stdout",
     "output_type": "stream",
     "text": [
      "Save model at epoch 62.\n"
     ]
    },
    {
     "name": "stderr",
     "output_type": "stream",
     "text": [
      "  0%|          | 0/96 [00:00<?, ?it/s]"
     ]
    },
    {
     "name": "stdout",
     "output_type": "stream",
     "text": [
      "model\\Mask R-CNN (ResNet-101 + FPN)\\2021-12-16 20-13-14-best.pkl\n"
     ]
    },
    {
     "name": "stderr",
     "output_type": "stream",
     "text": [
      "Epoch: 63, lr: 5e-05, total loss: 0.3811, loss_classifier: 1.0122 loss_box_reg: 0.0968 loss_mask: 0.1486 loss_objectness: 0.0183 loss_rpn_box_reg: 0.0432: 100%|██████████| 96/96 [01:39<00:00,  1.04s/it]\n"
     ]
    },
    {
     "name": "stdout",
     "output_type": "stream",
     "text": [
      "Save model at epoch 63.\n"
     ]
    },
    {
     "name": "stderr",
     "output_type": "stream",
     "text": [
      "  0%|          | 0/96 [00:00<?, ?it/s]"
     ]
    },
    {
     "name": "stdout",
     "output_type": "stream",
     "text": [
      "model\\Mask R-CNN (ResNet-101 + FPN)\\2021-12-16 20-13-14-best.pkl\n"
     ]
    },
    {
     "name": "stderr",
     "output_type": "stream",
     "text": [
      "Epoch: 64, lr: 5e-05, total loss: 0.3724, loss_classifier: 1.0140 loss_box_reg: 0.0934 loss_mask: 0.1468 loss_objectness: 0.0159 loss_rpn_box_reg: 0.0430: 100%|██████████| 96/96 [01:37<00:00,  1.01s/it]\n"
     ]
    },
    {
     "name": "stdout",
     "output_type": "stream",
     "text": [
      "Save model at epoch 64.\n"
     ]
    },
    {
     "name": "stderr",
     "output_type": "stream",
     "text": [
      "  0%|          | 0/96 [00:00<?, ?it/s]"
     ]
    },
    {
     "name": "stdout",
     "output_type": "stream",
     "text": [
      "model\\Mask R-CNN (ResNet-101 + FPN)\\2021-12-16 20-13-14-best.pkl\n"
     ]
    },
    {
     "name": "stderr",
     "output_type": "stream",
     "text": [
      "Epoch: 65, lr: 5e-05, total loss: 0.3692, loss_classifier: 1.0159 loss_box_reg: 0.0903 loss_mask: 0.1444 loss_objectness: 0.0186 loss_rpn_box_reg: 0.0437: 100%|██████████| 96/96 [01:38<00:00,  1.03s/it]\n"
     ]
    },
    {
     "name": "stdout",
     "output_type": "stream",
     "text": [
      "Save model at epoch 65.\n"
     ]
    },
    {
     "name": "stderr",
     "output_type": "stream",
     "text": [
      "  0%|          | 0/96 [00:00<?, ?it/s]"
     ]
    },
    {
     "name": "stdout",
     "output_type": "stream",
     "text": [
      "model\\Mask R-CNN (ResNet-101 + FPN)\\2021-12-16 20-13-14-best.pkl\n"
     ]
    },
    {
     "name": "stderr",
     "output_type": "stream",
     "text": [
      "Epoch: 66, lr: 5e-05, total loss: 0.3608, loss_classifier: 0.9969 loss_box_reg: 0.0887 loss_mask: 0.1431 loss_objectness: 0.0163 loss_rpn_box_reg: 0.0411: 100%|██████████| 96/96 [01:41<00:00,  1.06s/it]\n"
     ]
    },
    {
     "name": "stdout",
     "output_type": "stream",
     "text": [
      "Save model at epoch 66.\n"
     ]
    },
    {
     "name": "stderr",
     "output_type": "stream",
     "text": [
      "  0%|          | 0/96 [00:00<?, ?it/s]"
     ]
    },
    {
     "name": "stdout",
     "output_type": "stream",
     "text": [
      "model\\Mask R-CNN (ResNet-101 + FPN)\\2021-12-16 20-13-14-best.pkl\n"
     ]
    },
    {
     "name": "stderr",
     "output_type": "stream",
     "text": [
      "Epoch: 67, lr: 5e-05, total loss: 0.3572, loss_classifier: 0.9950 loss_box_reg: 0.0882 loss_mask: 0.1415 loss_objectness: 0.0170 loss_rpn_box_reg: 0.0398: 100%|██████████| 96/96 [01:45<00:00,  1.10s/it]\n"
     ]
    },
    {
     "name": "stdout",
     "output_type": "stream",
     "text": [
      "Save model at epoch 67.\n"
     ]
    },
    {
     "name": "stderr",
     "output_type": "stream",
     "text": [
      "  0%|          | 0/96 [00:00<?, ?it/s]"
     ]
    },
    {
     "name": "stdout",
     "output_type": "stream",
     "text": [
      "model\\Mask R-CNN (ResNet-101 + FPN)\\2021-12-16 20-13-14-best.pkl\n"
     ]
    },
    {
     "name": "stderr",
     "output_type": "stream",
     "text": [
      "Epoch: 68, lr: 5e-05, total loss: 0.3532, loss_classifier: 0.9994 loss_box_reg: 0.0875 loss_mask: 0.1402 loss_objectness: 0.0162 loss_rpn_box_reg: 0.0392: 100%|██████████| 96/96 [01:36<00:00,  1.00s/it]\n"
     ]
    },
    {
     "name": "stdout",
     "output_type": "stream",
     "text": [
      "Save model at epoch 68.\n"
     ]
    },
    {
     "name": "stderr",
     "output_type": "stream",
     "text": [
      "  0%|          | 0/96 [00:00<?, ?it/s]"
     ]
    },
    {
     "name": "stdout",
     "output_type": "stream",
     "text": [
      "model\\Mask R-CNN (ResNet-101 + FPN)\\2021-12-16 20-13-14-best.pkl\n"
     ]
    },
    {
     "name": "stderr",
     "output_type": "stream",
     "text": [
      "Epoch: 69, lr: 5e-05, total loss: 0.3476, loss_classifier: 0.9901 loss_box_reg: 0.0828 loss_mask: 0.1400 loss_objectness: 0.0160 loss_rpn_box_reg: 0.0388: 100%|██████████| 96/96 [01:51<00:00,  1.16s/it]\n"
     ]
    },
    {
     "name": "stdout",
     "output_type": "stream",
     "text": [
      "Save model at epoch 69.\n"
     ]
    },
    {
     "name": "stderr",
     "output_type": "stream",
     "text": [
      "  0%|          | 0/96 [00:00<?, ?it/s]"
     ]
    },
    {
     "name": "stdout",
     "output_type": "stream",
     "text": [
      "model\\Mask R-CNN (ResNet-101 + FPN)\\2021-12-16 20-13-14-best.pkl\n"
     ]
    },
    {
     "name": "stderr",
     "output_type": "stream",
     "text": [
      "Epoch: 70, lr: 5e-05, total loss: 0.3424, loss_classifier: 0.9794 loss_box_reg: 0.0802 loss_mask: 0.1378 loss_objectness: 0.0173 loss_rpn_box_reg: 0.0382: 100%|██████████| 96/96 [01:45<00:00,  1.10s/it]\n"
     ]
    },
    {
     "name": "stdout",
     "output_type": "stream",
     "text": [
      "Save model at epoch 70.\n"
     ]
    },
    {
     "name": "stderr",
     "output_type": "stream",
     "text": [
      "  0%|          | 0/96 [00:00<?, ?it/s]"
     ]
    },
    {
     "name": "stdout",
     "output_type": "stream",
     "text": [
      "model\\Mask R-CNN (ResNet-101 + FPN)\\2021-12-16 20-13-14-best.pkl\n"
     ]
    },
    {
     "name": "stderr",
     "output_type": "stream",
     "text": [
      "Epoch: 71, lr: 5e-05, total loss: 0.3387, loss_classifier: 1.0081 loss_box_reg: 0.0782 loss_mask: 0.1361 loss_objectness: 0.0166 loss_rpn_box_reg: 0.0397: 100%|██████████| 96/96 [01:41<00:00,  1.06s/it]\n"
     ]
    },
    {
     "name": "stdout",
     "output_type": "stream",
     "text": [
      "Save model at epoch 71.\n"
     ]
    },
    {
     "name": "stderr",
     "output_type": "stream",
     "text": [
      "  0%|          | 0/96 [00:00<?, ?it/s]"
     ]
    },
    {
     "name": "stdout",
     "output_type": "stream",
     "text": [
      "model\\Mask R-CNN (ResNet-101 + FPN)\\2021-12-16 20-13-14-best.pkl\n"
     ]
    },
    {
     "name": "stderr",
     "output_type": "stream",
     "text": [
      "Epoch: 72, lr: 5e-05, total loss: 0.3375, loss_classifier: 1.0497 loss_box_reg: 0.0767 loss_mask: 0.1359 loss_objectness: 0.0186 loss_rpn_box_reg: 0.0383: 100%|██████████| 96/96 [01:44<00:00,  1.09s/it]\n"
     ]
    },
    {
     "name": "stdout",
     "output_type": "stream",
     "text": [
      "Save model at epoch 72.\n"
     ]
    },
    {
     "name": "stderr",
     "output_type": "stream",
     "text": [
      "  0%|          | 0/96 [00:00<?, ?it/s]"
     ]
    },
    {
     "name": "stdout",
     "output_type": "stream",
     "text": [
      "model\\Mask R-CNN (ResNet-101 + FPN)\\2021-12-16 20-13-14-best.pkl\n"
     ]
    },
    {
     "name": "stderr",
     "output_type": "stream",
     "text": [
      "Epoch: 73, lr: 5e-05, total loss: 0.3325, loss_classifier: 1.0848 loss_box_reg: 0.0763 loss_mask: 0.1342 loss_objectness: 0.0160 loss_rpn_box_reg: 0.0389: 100%|██████████| 96/96 [01:40<00:00,  1.05s/it]\n"
     ]
    },
    {
     "name": "stdout",
     "output_type": "stream",
     "text": [
      "Save model at epoch 73.\n"
     ]
    },
    {
     "name": "stderr",
     "output_type": "stream",
     "text": [
      "  0%|          | 0/96 [00:00<?, ?it/s]"
     ]
    },
    {
     "name": "stdout",
     "output_type": "stream",
     "text": [
      "model\\Mask R-CNN (ResNet-101 + FPN)\\2021-12-16 20-13-14-best.pkl\n"
     ]
    },
    {
     "name": "stderr",
     "output_type": "stream",
     "text": [
      "Epoch: 74, lr: 5e-05, total loss: 0.3279, loss_classifier: 1.0911 loss_box_reg: 0.0752 loss_mask: 0.1329 loss_objectness: 0.0149 loss_rpn_box_reg: 0.0383: 100%|██████████| 96/96 [01:41<00:00,  1.06s/it]\n"
     ]
    },
    {
     "name": "stdout",
     "output_type": "stream",
     "text": [
      "Save model at epoch 74.\n"
     ]
    },
    {
     "name": "stderr",
     "output_type": "stream",
     "text": [
      "  0%|          | 0/96 [00:00<?, ?it/s]"
     ]
    },
    {
     "name": "stdout",
     "output_type": "stream",
     "text": [
      "model\\Mask R-CNN (ResNet-101 + FPN)\\2021-12-16 20-13-14-best.pkl\n"
     ]
    },
    {
     "name": "stderr",
     "output_type": "stream",
     "text": [
      "Epoch: 75, lr: 5e-05, total loss: 0.3241, loss_classifier: 1.0920 loss_box_reg: 0.0744 loss_mask: 0.1319 loss_objectness: 0.0155 loss_rpn_box_reg: 0.0364: 100%|██████████| 96/96 [01:49<00:00,  1.14s/it]\n"
     ]
    },
    {
     "name": "stdout",
     "output_type": "stream",
     "text": [
      "Save model at epoch 75.\n"
     ]
    },
    {
     "name": "stderr",
     "output_type": "stream",
     "text": [
      "  0%|          | 0/96 [00:00<?, ?it/s]"
     ]
    },
    {
     "name": "stdout",
     "output_type": "stream",
     "text": [
      "model\\Mask R-CNN (ResNet-101 + FPN)\\2021-12-16 20-13-14-best.pkl\n"
     ]
    },
    {
     "name": "stderr",
     "output_type": "stream",
     "text": [
      "Epoch: 76, lr: 5e-05, total loss: 0.3243, loss_classifier: 1.0958 loss_box_reg: 0.0745 loss_mask: 0.1310 loss_objectness: 0.0163 loss_rpn_box_reg: 0.0370: 100%|██████████| 96/96 [01:40<00:00,  1.04s/it]\n",
      "Epoch: 77, lr: 5e-05, total loss: 0.3167, loss_classifier: 1.1178 loss_box_reg: 0.0699 loss_mask: 0.1300 loss_objectness: 0.0152 loss_rpn_box_reg: 0.0366: 100%|██████████| 96/96 [01:45<00:00,  1.10s/it]\n"
     ]
    },
    {
     "name": "stdout",
     "output_type": "stream",
     "text": [
      "Save model at epoch 77.\n"
     ]
    },
    {
     "name": "stderr",
     "output_type": "stream",
     "text": [
      "  0%|          | 0/96 [00:00<?, ?it/s]"
     ]
    },
    {
     "name": "stdout",
     "output_type": "stream",
     "text": [
      "model\\Mask R-CNN (ResNet-101 + FPN)\\2021-12-16 20-13-14-best.pkl\n"
     ]
    },
    {
     "name": "stderr",
     "output_type": "stream",
     "text": [
      "Epoch: 78, lr: 5e-05, total loss: 0.3174, loss_classifier: 1.1398 loss_box_reg: 0.0728 loss_mask: 0.1291 loss_objectness: 0.0150 loss_rpn_box_reg: 0.0360: 100%|██████████| 96/96 [01:40<00:00,  1.04s/it]\n",
      "Epoch: 79, lr: 5e-05, total loss: 0.3101, loss_classifier: 1.1424 loss_box_reg: 0.0677 loss_mask: 0.1274 loss_objectness: 0.0148 loss_rpn_box_reg: 0.0365: 100%|██████████| 96/96 [01:52<00:00,  1.17s/it]\n"
     ]
    },
    {
     "name": "stdout",
     "output_type": "stream",
     "text": [
      "Save model at epoch 79.\n"
     ]
    },
    {
     "name": "stderr",
     "output_type": "stream",
     "text": [
      "  0%|          | 0/96 [00:00<?, ?it/s]"
     ]
    },
    {
     "name": "stdout",
     "output_type": "stream",
     "text": [
      "model\\Mask R-CNN (ResNet-101 + FPN)\\2021-12-16 20-13-14-best.pkl\n"
     ]
    },
    {
     "name": "stderr",
     "output_type": "stream",
     "text": [
      "Epoch: 80, lr: 5e-05, total loss: 0.3075, loss_classifier: 1.1497 loss_box_reg: 0.0683 loss_mask: 0.1266 loss_objectness: 0.0137 loss_rpn_box_reg: 0.0357: 100%|██████████| 96/96 [01:39<00:00,  1.04s/it]\n"
     ]
    },
    {
     "name": "stdout",
     "output_type": "stream",
     "text": [
      "Save model at epoch 80.\n"
     ]
    },
    {
     "name": "stderr",
     "output_type": "stream",
     "text": [
      "  0%|          | 0/96 [00:00<?, ?it/s]"
     ]
    },
    {
     "name": "stdout",
     "output_type": "stream",
     "text": [
      "model\\Mask R-CNN (ResNet-101 + FPN)\\2021-12-16 20-13-14-best.pkl\n"
     ]
    },
    {
     "name": "stderr",
     "output_type": "stream",
     "text": [
      "Epoch: 81, lr: 5e-05, total loss: 0.3022, loss_classifier: 1.1035 loss_box_reg: 0.0662 loss_mask: 0.1245 loss_objectness: 0.0141 loss_rpn_box_reg: 0.0352: 100%|██████████| 96/96 [01:44<00:00,  1.09s/it]\n"
     ]
    },
    {
     "name": "stdout",
     "output_type": "stream",
     "text": [
      "Save model at epoch 81.\n"
     ]
    },
    {
     "name": "stderr",
     "output_type": "stream",
     "text": [
      "  0%|          | 0/96 [00:00<?, ?it/s]"
     ]
    },
    {
     "name": "stdout",
     "output_type": "stream",
     "text": [
      "model\\Mask R-CNN (ResNet-101 + FPN)\\2021-12-16 20-13-14-best.pkl\n"
     ]
    },
    {
     "name": "stderr",
     "output_type": "stream",
     "text": [
      "Epoch: 82, lr: 5e-05, total loss: 0.3031, loss_classifier: 1.1027 loss_box_reg: 0.0647 loss_mask: 0.1248 loss_objectness: 0.0153 loss_rpn_box_reg: 0.0358: 100%|██████████| 96/96 [01:34<00:00,  1.02it/s]\n",
      "Epoch: 83, lr: 5e-05, total loss: 0.2996, loss_classifier: 1.1191 loss_box_reg: 0.0635 loss_mask: 0.1228 loss_objectness: 0.0167 loss_rpn_box_reg: 0.0352: 100%|██████████| 96/96 [01:51<00:00,  1.16s/it]\n"
     ]
    },
    {
     "name": "stdout",
     "output_type": "stream",
     "text": [
      "Save model at epoch 83.\n"
     ]
    },
    {
     "name": "stderr",
     "output_type": "stream",
     "text": [
      "  0%|          | 0/96 [00:00<?, ?it/s]"
     ]
    },
    {
     "name": "stdout",
     "output_type": "stream",
     "text": [
      "model\\Mask R-CNN (ResNet-101 + FPN)\\2021-12-16 20-13-14-best.pkl\n"
     ]
    },
    {
     "name": "stderr",
     "output_type": "stream",
     "text": [
      "Epoch: 84, lr: 5e-05, total loss: 0.2972, loss_classifier: 1.1292 loss_box_reg: 0.0657 loss_mask: 0.1224 loss_objectness: 0.0145 loss_rpn_box_reg: 0.0333: 100%|██████████| 96/96 [01:42<00:00,  1.07s/it]\n"
     ]
    },
    {
     "name": "stdout",
     "output_type": "stream",
     "text": [
      "Save model at epoch 84.\n"
     ]
    },
    {
     "name": "stderr",
     "output_type": "stream",
     "text": [
      "  0%|          | 0/96 [00:00<?, ?it/s]"
     ]
    },
    {
     "name": "stdout",
     "output_type": "stream",
     "text": [
      "model\\Mask R-CNN (ResNet-101 + FPN)\\2021-12-16 20-13-14-best.pkl\n"
     ]
    },
    {
     "name": "stderr",
     "output_type": "stream",
     "text": [
      "Epoch: 85, lr: 5e-05, total loss: 0.2925, loss_classifier: 1.1954 loss_box_reg: 0.0623 loss_mask: 0.1218 loss_objectness: 0.0142 loss_rpn_box_reg: 0.0332: 100%|██████████| 96/96 [01:49<00:00,  1.14s/it]\n"
     ]
    },
    {
     "name": "stdout",
     "output_type": "stream",
     "text": [
      "Save model at epoch 85.\n"
     ]
    },
    {
     "name": "stderr",
     "output_type": "stream",
     "text": [
      "  0%|          | 0/96 [00:00<?, ?it/s]"
     ]
    },
    {
     "name": "stdout",
     "output_type": "stream",
     "text": [
      "model\\Mask R-CNN (ResNet-101 + FPN)\\2021-12-16 20-13-14-best.pkl\n"
     ]
    },
    {
     "name": "stderr",
     "output_type": "stream",
     "text": [
      "Epoch: 86, lr: 5e-05, total loss: 0.2939, loss_classifier: 1.2364 loss_box_reg: 0.0636 loss_mask: 0.1212 loss_objectness: 0.0147 loss_rpn_box_reg: 0.0337: 100%|██████████| 96/96 [01:41<00:00,  1.05s/it]\n",
      "Epoch: 87, lr: 5e-05, total loss: 0.2870, loss_classifier: 1.2445 loss_box_reg: 0.0604 loss_mask: 0.1195 loss_objectness: 0.0137 loss_rpn_box_reg: 0.0337: 100%|██████████| 96/96 [01:42<00:00,  1.07s/it]\n"
     ]
    },
    {
     "name": "stdout",
     "output_type": "stream",
     "text": [
      "Save model at epoch 87.\n"
     ]
    },
    {
     "name": "stderr",
     "output_type": "stream",
     "text": [
      "  0%|          | 0/96 [00:00<?, ?it/s]"
     ]
    },
    {
     "name": "stdout",
     "output_type": "stream",
     "text": [
      "model\\Mask R-CNN (ResNet-101 + FPN)\\2021-12-16 20-13-14-best.pkl\n"
     ]
    },
    {
     "name": "stderr",
     "output_type": "stream",
     "text": [
      "Epoch: 88, lr: 5e-05, total loss: 0.2864, loss_classifier: 1.2590 loss_box_reg: 0.0604 loss_mask: 0.1196 loss_objectness: 0.0143 loss_rpn_box_reg: 0.0323: 100%|██████████| 96/96 [01:36<00:00,  1.00s/it]\n"
     ]
    },
    {
     "name": "stdout",
     "output_type": "stream",
     "text": [
      "Save model at epoch 88.\n"
     ]
    },
    {
     "name": "stderr",
     "output_type": "stream",
     "text": [
      "  0%|          | 0/96 [00:00<?, ?it/s]"
     ]
    },
    {
     "name": "stdout",
     "output_type": "stream",
     "text": [
      "model\\Mask R-CNN (ResNet-101 + FPN)\\2021-12-16 20-13-14-best.pkl\n"
     ]
    },
    {
     "name": "stderr",
     "output_type": "stream",
     "text": [
      "Epoch: 89, lr: 5e-05, total loss: 0.2850, loss_classifier: 1.2409 loss_box_reg: 0.0599 loss_mask: 0.1183 loss_objectness: 0.0151 loss_rpn_box_reg: 0.0326: 100%|██████████| 96/96 [01:45<00:00,  1.09s/it]\n"
     ]
    },
    {
     "name": "stdout",
     "output_type": "stream",
     "text": [
      "Save model at epoch 89.\n"
     ]
    },
    {
     "name": "stderr",
     "output_type": "stream",
     "text": [
      "  0%|          | 0/96 [00:00<?, ?it/s]"
     ]
    },
    {
     "name": "stdout",
     "output_type": "stream",
     "text": [
      "model\\Mask R-CNN (ResNet-101 + FPN)\\2021-12-16 20-13-14-best.pkl\n"
     ]
    },
    {
     "name": "stderr",
     "output_type": "stream",
     "text": [
      "Epoch: 90, lr: 5e-05, total loss: 0.2837, loss_classifier: 1.2501 loss_box_reg: 0.0604 loss_mask: 0.1180 loss_objectness: 0.0142 loss_rpn_box_reg: 0.0322: 100%|██████████| 96/96 [01:39<00:00,  1.04s/it]\n"
     ]
    },
    {
     "name": "stdout",
     "output_type": "stream",
     "text": [
      "Save model at epoch 90.\n"
     ]
    },
    {
     "name": "stderr",
     "output_type": "stream",
     "text": [
      "  0%|          | 0/96 [00:00<?, ?it/s]"
     ]
    },
    {
     "name": "stdout",
     "output_type": "stream",
     "text": [
      "model\\Mask R-CNN (ResNet-101 + FPN)\\2021-12-16 20-13-14-best.pkl\n"
     ]
    },
    {
     "name": "stderr",
     "output_type": "stream",
     "text": [
      "Epoch: 91, lr: 5e-05, total loss: 0.2762, loss_classifier: 1.2485 loss_box_reg: 0.0580 loss_mask: 0.1167 loss_objectness: 0.0119 loss_rpn_box_reg: 0.0313: 100%|██████████| 96/96 [01:53<00:00,  1.18s/it]\n"
     ]
    },
    {
     "name": "stdout",
     "output_type": "stream",
     "text": [
      "Save model at epoch 91.\n"
     ]
    },
    {
     "name": "stderr",
     "output_type": "stream",
     "text": [
      "  0%|          | 0/96 [00:00<?, ?it/s]"
     ]
    },
    {
     "name": "stdout",
     "output_type": "stream",
     "text": [
      "model\\Mask R-CNN (ResNet-101 + FPN)\\2021-12-16 20-13-14-best.pkl\n"
     ]
    },
    {
     "name": "stderr",
     "output_type": "stream",
     "text": [
      "Epoch: 92, lr: 5e-05, total loss: 0.2786, loss_classifier: 1.2638 loss_box_reg: 0.0584 loss_mask: 0.1161 loss_objectness: 0.0134 loss_rpn_box_reg: 0.0327: 100%|██████████| 96/96 [01:46<00:00,  1.11s/it]\n",
      "Epoch: 93, lr: 5e-05, total loss: 0.2762, loss_classifier: 1.2744 loss_box_reg: 0.0570 loss_mask: 0.1165 loss_objectness: 0.0133 loss_rpn_box_reg: 0.0311: 100%|██████████| 96/96 [01:41<00:00,  1.06s/it]\n",
      "Epoch: 94, lr: 5e-05, total loss: 0.2736, loss_classifier: 1.1975 loss_box_reg: 0.0547 loss_mask: 0.1146 loss_objectness: 0.0122 loss_rpn_box_reg: 0.0348: 100%|██████████| 96/96 [01:43<00:00,  1.08s/it]\n"
     ]
    },
    {
     "name": "stdout",
     "output_type": "stream",
     "text": [
      "Save model at epoch 94.\n"
     ]
    },
    {
     "name": "stderr",
     "output_type": "stream",
     "text": [
      "  0%|          | 0/96 [00:00<?, ?it/s]"
     ]
    },
    {
     "name": "stdout",
     "output_type": "stream",
     "text": [
      "model\\Mask R-CNN (ResNet-101 + FPN)\\2021-12-16 20-13-14-best.pkl\n"
     ]
    },
    {
     "name": "stderr",
     "output_type": "stream",
     "text": [
      "Epoch: 95, lr: 5e-05, total loss: 0.2740, loss_classifier: 1.2448 loss_box_reg: 0.0562 loss_mask: 0.1141 loss_objectness: 0.0148 loss_rpn_box_reg: 0.0318: 100%|██████████| 96/96 [01:43<00:00,  1.07s/it]\n",
      "Epoch: 96, lr: 5e-05, total loss: 0.2675, loss_classifier: 1.2181 loss_box_reg: 0.0530 loss_mask: 0.1133 loss_objectness: 0.0138 loss_rpn_box_reg: 0.0308: 100%|██████████| 96/96 [01:41<00:00,  1.06s/it]\n"
     ]
    },
    {
     "name": "stdout",
     "output_type": "stream",
     "text": [
      "Save model at epoch 96.\n"
     ]
    },
    {
     "name": "stderr",
     "output_type": "stream",
     "text": [
      "  0%|          | 0/96 [00:00<?, ?it/s]"
     ]
    },
    {
     "name": "stdout",
     "output_type": "stream",
     "text": [
      "model\\Mask R-CNN (ResNet-101 + FPN)\\2021-12-16 20-13-14-best.pkl\n"
     ]
    },
    {
     "name": "stderr",
     "output_type": "stream",
     "text": [
      "Epoch: 97, lr: 5e-05, total loss: 0.2707, loss_classifier: 1.1989 loss_box_reg: 0.0544 loss_mask: 0.1139 loss_objectness: 0.0134 loss_rpn_box_reg: 0.0321: 100%|██████████| 96/96 [01:36<00:00,  1.01s/it]\n",
      "Epoch: 98, lr: 5e-05, total loss: 0.2642, loss_classifier: 1.2583 loss_box_reg: 0.0529 loss_mask: 0.1125 loss_objectness: 0.0128 loss_rpn_box_reg: 0.0298: 100%|██████████| 96/96 [01:42<00:00,  1.07s/it]\n"
     ]
    },
    {
     "name": "stdout",
     "output_type": "stream",
     "text": [
      "Save model at epoch 98.\n"
     ]
    },
    {
     "name": "stderr",
     "output_type": "stream",
     "text": [
      "  0%|          | 0/96 [00:00<?, ?it/s]"
     ]
    },
    {
     "name": "stdout",
     "output_type": "stream",
     "text": [
      "model\\Mask R-CNN (ResNet-101 + FPN)\\2021-12-16 20-13-14-best.pkl\n"
     ]
    },
    {
     "name": "stderr",
     "output_type": "stream",
     "text": [
      "Epoch: 99, lr: 5e-05, total loss: 0.2637, loss_classifier: 1.2243 loss_box_reg: 0.0535 loss_mask: 0.1120 loss_objectness: 0.0127 loss_rpn_box_reg: 0.0296: 100%|██████████| 96/96 [01:55<00:00,  1.20s/it]\n"
     ]
    },
    {
     "name": "stdout",
     "output_type": "stream",
     "text": [
      "Save model at epoch 99.\n"
     ]
    },
    {
     "name": "stderr",
     "output_type": "stream",
     "text": [
      "  0%|          | 0/96 [00:00<?, ?it/s]"
     ]
    },
    {
     "name": "stdout",
     "output_type": "stream",
     "text": [
      "model\\Mask R-CNN (ResNet-101 + FPN)\\2021-12-16 20-13-14-best.pkl\n"
     ]
    },
    {
     "name": "stderr",
     "output_type": "stream",
     "text": [
      "Epoch: 100, lr: 5e-05, total loss: 0.2592, loss_classifier: 1.2286 loss_box_reg: 0.0515 loss_mask: 0.1104 loss_objectness: 0.0119 loss_rpn_box_reg: 0.0303: 100%|██████████| 96/96 [01:40<00:00,  1.04s/it]\n"
     ]
    },
    {
     "name": "stdout",
     "output_type": "stream",
     "text": [
      "Save model at epoch 100.\n",
      "model\\Mask R-CNN (ResNet-101 + FPN)\\2021-12-16 20-13-14-best.pkl\n"
     ]
    }
   ],
   "source": [
    "import time\n",
    "from mask_rcnn_train import train\n",
    "from dataset import test_MaskRCNNTrainDataset\n",
    "import os\n",
    "from mask_rcnn_eval import createdir\n",
    "date = time.strftime(\"%Y-%m-%d %H-%M-%S\", time.localtime())\n",
    "\n",
    "train_dir = os.path.join('dataset', 'divide-2')\n",
    "print(train_dir)\n",
    "save_model_dir = os.path.join('model', 'Mask R-CNN (ResNet-101 + FPN)')\n",
    "createdir(save_model_dir)\n",
    "print(save_model_dir)\n",
    "load_model_path = os.path.join('model', 'Mask R-CNN (ResNet-101 + FPN)', '2021-12-16 19-43-31-best.pkl')\n",
    "# load_model_path = None\n",
    "train(date, train_dir, save_model_dir, load_model_path=load_model_path, model='resnet_101_fpn')"
   ]
  }
 ],
 "metadata": {
  "interpreter": {
   "hash": "4023601d2c66765c2cd41cc7509af1d35fa85332d14551f25660655c523b7ce6"
  },
  "kernelspec": {
   "display_name": "Python 3.7.11 64-bit ('VRDL_HW3': conda)",
   "language": "python",
   "name": "python3"
  },
  "language_info": {
   "codemirror_mode": {
    "name": "ipython",
    "version": 3
   },
   "file_extension": ".py",
   "mimetype": "text/x-python",
   "name": "python",
   "nbconvert_exporter": "python",
   "pygments_lexer": "ipython3",
   "version": "3.7.11"
  },
  "orig_nbformat": 4
 },
 "nbformat": 4,
 "nbformat_minor": 2
}
