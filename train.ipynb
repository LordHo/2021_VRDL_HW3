{
 "cells": [
  {
   "cell_type": "code",
   "execution_count": null,
   "metadata": {},
   "outputs": [],
   "source": [
    "import time\n",
    "from mask_rcnn_train import train\n",
    "from dataset import test_MaskRCNNTrainDataset\n",
    "date = time.strftime(\"%Y-%m-%d %H-%M-%S\", time.localtime())\n",
    "# train(date)\n",
    "# test_MaskRCNNTrainDataset()"
   ]
  },
  {
   "cell_type": "code",
   "execution_count": null,
   "metadata": {},
   "outputs": [],
   "source": [
    "# import numpy as np\n",
    "# import torch\n",
    "# device = torch.device('cuda' if torch.cuda.is_available() else 'cpu')\n",
    "# # print(device)\n",
    "\n",
    "# input = torch.as_tensor(np.ones(3, dtype=np.float32))\n",
    "# if input.dtype == torch.float32:\n",
    "#     # input = input.to(device).type(torch.cuda.FloatTensor)\n",
    "#     input = input.type(torch.cuda.FloatTensor)\n",
    "#     print(input.get_device())\n",
    "# print(input.dtype)"
   ]
  },
  {
   "cell_type": "code",
   "execution_count": 1,
   "metadata": {},
   "outputs": [
    {
     "name": "stdout",
     "output_type": "stream",
     "text": [
      "True\n",
      "Device: cuda\n"
     ]
    },
    {
     "name": "stderr",
     "output_type": "stream",
     "text": [
      "  0%|          | 0/16 [00:00<?, ?it/s]C:\\Users\\Lab620\\Anaconda3\\envs\\VRDL_HW3\\lib\\site-packages\\torch\\_tensor.py:575: UserWarning: floor_divide is deprecated, and will be removed in a future version of pytorch. It currently rounds toward 0 (like the 'trunc' function NOT 'floor'). This results in incorrect rounding for negative values.\n",
      "To keep the current behavior, use torch.div(a, b, rounding_mode='trunc'), or for actual floor division, use torch.div(a, b, rounding_mode='floor'). (Triggered internally at  ..\\aten\\src\\ATen\\native\\BinaryOps.cpp:467.)\n",
      "  return torch.floor_divide(self, other)\n",
      "C:\\Users\\Lab620\\Anaconda3\\envs\\VRDL_HW3\\lib\\site-packages\\torch\\nn\\functional.py:718: UserWarning: Named tensors and all their associated APIs are an experimental feature and subject to change. Please do not use them for anything important until they are released as stable. (Triggered internally at  ..\\c10/core/TensorImpl.h:1156.)\n",
      "  return torch.max_pool2d(input, kernel_size, stride, padding, dilation, ceil_mode)\n",
      "Epoch: 1, lr: 1e-05, loss_classifier: 0.02 loss_box_reg: 0.02 loss_mask: 0.08 loss_objectness: 0.00 loss_rpn_box_reg: 0.01: 100%|██████████| 16/16 [00:17<00:00,  1.06s/it]\n"
     ]
    },
    {
     "name": "stdout",
     "output_type": "stream",
     "text": [
      "Save model at epoch 1.\n"
     ]
    },
    {
     "name": "stderr",
     "output_type": "stream",
     "text": [
      "  0%|          | 0/16 [00:00<?, ?it/s]"
     ]
    },
    {
     "name": "stdout",
     "output_type": "stream",
     "text": [
      "model\\Mask R-CNN\\test-1-divide-4\\2021-12-13 00-05-35-epoch-1.pkl\n"
     ]
    },
    {
     "name": "stderr",
     "output_type": "stream",
     "text": [
      "Epoch: 2, lr: 1e-05, loss_classifier: 0.03 loss_box_reg: 0.05 loss_mask: 0.08 loss_objectness: 0.00 loss_rpn_box_reg: 0.01: 100%|██████████| 16/16 [00:15<00:00,  1.03it/s]\n",
      "Epoch: 3, lr: 1e-05, loss_classifier: 0.02 loss_box_reg: 0.04 loss_mask: 0.08 loss_objectness: 0.00 loss_rpn_box_reg: 0.01: 100%|██████████| 16/16 [00:16<00:00,  1.00s/it]\n",
      "Epoch: 4, lr: 1e-05, loss_classifier: 0.02 loss_box_reg: 0.03 loss_mask: 0.08 loss_objectness: 0.00 loss_rpn_box_reg: 0.01: 100%|██████████| 16/16 [00:15<00:00,  1.00it/s]\n",
      "Epoch: 5, lr: 1e-05, loss_classifier: 0.02 loss_box_reg: 0.03 loss_mask: 0.08 loss_objectness: 0.00 loss_rpn_box_reg: 0.01: 100%|██████████| 16/16 [00:16<00:00,  1.00s/it]\n",
      "Epoch: 6, lr: 1e-05, loss_classifier: 0.02 loss_box_reg: 0.03 loss_mask: 0.08 loss_objectness: 0.00 loss_rpn_box_reg: 0.01: 100%|██████████| 16/16 [00:16<00:00,  1.00s/it]\n",
      "Epoch: 7, lr: 1e-05, loss_classifier: 0.02 loss_box_reg: 0.03 loss_mask: 0.08 loss_objectness: 0.00 loss_rpn_box_reg: 0.01: 100%|██████████| 16/16 [00:16<00:00,  1.00s/it]\n",
      "Epoch: 8, lr: 1e-05, loss_classifier: 0.02 loss_box_reg: 0.03 loss_mask: 0.08 loss_objectness: 0.00 loss_rpn_box_reg: 0.01: 100%|██████████| 16/16 [00:15<00:00,  1.00it/s]\n",
      "Epoch: 9, lr: 1e-05, loss_classifier: 0.02 loss_box_reg: 0.03 loss_mask: 0.08 loss_objectness: 0.00 loss_rpn_box_reg: 0.01: 100%|██████████| 16/16 [00:15<00:00,  1.00it/s]\n",
      "Epoch: 10, lr: 1e-05, loss_classifier: 0.02 loss_box_reg: 0.03 loss_mask: 0.08 loss_objectness: 0.00 loss_rpn_box_reg: 0.01: 100%|██████████| 16/16 [00:16<00:00,  1.00s/it]\n",
      "Epoch: 11, lr: 1e-05, loss_classifier: 0.02 loss_box_reg: 0.02 loss_mask: 0.08 loss_objectness: 0.00 loss_rpn_box_reg: 0.01: 100%|██████████| 16/16 [00:16<00:00,  1.01s/it]\n"
     ]
    },
    {
     "name": "stdout",
     "output_type": "stream",
     "text": [
      "Save model at epoch 11.\n"
     ]
    },
    {
     "name": "stderr",
     "output_type": "stream",
     "text": [
      "  0%|          | 0/16 [00:00<?, ?it/s]"
     ]
    },
    {
     "name": "stdout",
     "output_type": "stream",
     "text": [
      "model\\Mask R-CNN\\test-1-divide-4\\2021-12-13 00-05-35-epoch-11.pkl\n"
     ]
    },
    {
     "name": "stderr",
     "output_type": "stream",
     "text": [
      "Epoch: 12, lr: 1e-05, loss_classifier: 0.02 loss_box_reg: 0.02 loss_mask: 0.07 loss_objectness: 0.00 loss_rpn_box_reg: 0.00: 100%|██████████| 16/16 [00:16<00:00,  1.01s/it]\n"
     ]
    },
    {
     "name": "stdout",
     "output_type": "stream",
     "text": [
      "Save model at epoch 12.\n"
     ]
    },
    {
     "name": "stderr",
     "output_type": "stream",
     "text": [
      "  0%|          | 0/16 [00:00<?, ?it/s]"
     ]
    },
    {
     "name": "stdout",
     "output_type": "stream",
     "text": [
      "model\\Mask R-CNN\\test-1-divide-4\\2021-12-13 00-05-35-epoch-12.pkl\n"
     ]
    },
    {
     "name": "stderr",
     "output_type": "stream",
     "text": [
      "Epoch: 13, lr: 1e-05, loss_classifier: 0.01 loss_box_reg: 0.02 loss_mask: 0.07 loss_objectness: 0.00 loss_rpn_box_reg: 0.00: 100%|██████████| 16/16 [00:16<00:00,  1.00s/it]\n"
     ]
    },
    {
     "name": "stdout",
     "output_type": "stream",
     "text": [
      "Save model at epoch 13.\n"
     ]
    },
    {
     "name": "stderr",
     "output_type": "stream",
     "text": [
      "  0%|          | 0/16 [00:00<?, ?it/s]"
     ]
    },
    {
     "name": "stdout",
     "output_type": "stream",
     "text": [
      "model\\Mask R-CNN\\test-1-divide-4\\2021-12-13 00-05-35-epoch-13.pkl\n"
     ]
    },
    {
     "name": "stderr",
     "output_type": "stream",
     "text": [
      "Epoch: 14, lr: 1e-05, loss_classifier: 0.02 loss_box_reg: 0.02 loss_mask: 0.07 loss_objectness: 0.00 loss_rpn_box_reg: 0.00: 100%|██████████| 16/16 [00:16<00:00,  1.00s/it]\n",
      "Epoch: 15, lr: 1e-05, loss_classifier: 0.02 loss_box_reg: 0.02 loss_mask: 0.07 loss_objectness: 0.00 loss_rpn_box_reg: 0.00: 100%|██████████| 16/16 [00:15<00:00,  1.00it/s]\n",
      "Epoch: 16, lr: 1e-05, loss_classifier: 0.02 loss_box_reg: 0.02 loss_mask: 0.07 loss_objectness: 0.00 loss_rpn_box_reg: 0.00: 100%|██████████| 16/16 [00:16<00:00,  1.00s/it]\n",
      "Epoch: 17, lr: 1e-05, loss_classifier: 0.02 loss_box_reg: 0.03 loss_mask: 0.07 loss_objectness: 0.00 loss_rpn_box_reg: 0.01: 100%|██████████| 16/16 [00:16<00:00,  1.01s/it]\n",
      "Epoch: 18, lr: 1e-05, loss_classifier: 0.02 loss_box_reg: 0.02 loss_mask: 0.07 loss_objectness: 0.00 loss_rpn_box_reg: 0.00: 100%|██████████| 16/16 [00:15<00:00,  1.01it/s]\n",
      "Epoch: 19, lr: 1e-05, loss_classifier: 0.02 loss_box_reg: 0.02 loss_mask: 0.07 loss_objectness: 0.00 loss_rpn_box_reg: 0.00: 100%|██████████| 16/16 [00:16<00:00,  1.00s/it]\n",
      "Epoch: 20, lr: 1e-05, loss_classifier: 0.02 loss_box_reg: 0.02 loss_mask: 0.07 loss_objectness: 0.00 loss_rpn_box_reg: 0.00: 100%|██████████| 16/16 [00:15<00:00,  1.00it/s]\n",
      "Epoch: 21, lr: 1e-05, loss_classifier: 0.02 loss_box_reg: 0.02 loss_mask: 0.07 loss_objectness: 0.00 loss_rpn_box_reg: 0.00: 100%|██████████| 16/16 [00:16<00:00,  1.00s/it]\n"
     ]
    },
    {
     "name": "stdout",
     "output_type": "stream",
     "text": [
      "Save model at epoch 21.\n"
     ]
    },
    {
     "name": "stderr",
     "output_type": "stream",
     "text": [
      "  0%|          | 0/16 [00:00<?, ?it/s]"
     ]
    },
    {
     "name": "stdout",
     "output_type": "stream",
     "text": [
      "model\\Mask R-CNN\\test-1-divide-4\\2021-12-13 00-05-35-epoch-21.pkl\n"
     ]
    },
    {
     "name": "stderr",
     "output_type": "stream",
     "text": [
      "Epoch: 22, lr: 1e-05, loss_classifier: 0.02 loss_box_reg: 0.02 loss_mask: 0.07 loss_objectness: 0.00 loss_rpn_box_reg: 0.00: 100%|██████████| 16/16 [00:16<00:00,  1.00s/it]\n",
      "Epoch: 23, lr: 1e-05, loss_classifier: 0.02 loss_box_reg: 0.03 loss_mask: 0.07 loss_objectness: 0.00 loss_rpn_box_reg: 0.00: 100%|██████████| 16/16 [00:16<00:00,  1.00s/it]\n",
      "Epoch: 24, lr: 1e-05, loss_classifier: 0.02 loss_box_reg: 0.02 loss_mask: 0.07 loss_objectness: 0.00 loss_rpn_box_reg: 0.00: 100%|██████████| 16/16 [00:16<00:00,  1.01s/it]\n",
      "Epoch: 25, lr: 1e-05, loss_classifier: 0.02 loss_box_reg: 0.02 loss_mask: 0.07 loss_objectness: 0.00 loss_rpn_box_reg: 0.00: 100%|██████████| 16/16 [00:16<00:00,  1.00s/it]\n"
     ]
    },
    {
     "name": "stdout",
     "output_type": "stream",
     "text": [
      "Save model at epoch 25.\n"
     ]
    },
    {
     "name": "stderr",
     "output_type": "stream",
     "text": [
      "  0%|          | 0/16 [00:00<?, ?it/s]"
     ]
    },
    {
     "name": "stdout",
     "output_type": "stream",
     "text": [
      "model\\Mask R-CNN\\test-1-divide-4\\2021-12-13 00-05-35-epoch-25.pkl\n"
     ]
    },
    {
     "name": "stderr",
     "output_type": "stream",
     "text": [
      "Epoch: 26, lr: 1e-05, loss_classifier: 0.01 loss_box_reg: 0.02 loss_mask: 0.07 loss_objectness: 0.00 loss_rpn_box_reg: 0.00: 100%|██████████| 16/16 [00:16<00:00,  1.01s/it]\n"
     ]
    },
    {
     "name": "stdout",
     "output_type": "stream",
     "text": [
      "Save model at epoch 26.\n"
     ]
    },
    {
     "name": "stderr",
     "output_type": "stream",
     "text": [
      "  0%|          | 0/16 [00:00<?, ?it/s]"
     ]
    },
    {
     "name": "stdout",
     "output_type": "stream",
     "text": [
      "model\\Mask R-CNN\\test-1-divide-4\\2021-12-13 00-05-35-epoch-26.pkl\n"
     ]
    },
    {
     "name": "stderr",
     "output_type": "stream",
     "text": [
      "Epoch: 27, lr: 1e-05, loss_classifier: 0.01 loss_box_reg: 0.02 loss_mask: 0.07 loss_objectness: 0.00 loss_rpn_box_reg: 0.00: 100%|██████████| 16/16 [00:15<00:00,  1.02it/s]\n"
     ]
    },
    {
     "name": "stdout",
     "output_type": "stream",
     "text": [
      "Save model at epoch 27.\n"
     ]
    },
    {
     "name": "stderr",
     "output_type": "stream",
     "text": [
      "  0%|          | 0/16 [00:00<?, ?it/s]"
     ]
    },
    {
     "name": "stdout",
     "output_type": "stream",
     "text": [
      "model\\Mask R-CNN\\test-1-divide-4\\2021-12-13 00-05-35-epoch-27.pkl\n"
     ]
    },
    {
     "name": "stderr",
     "output_type": "stream",
     "text": [
      "Epoch: 28, lr: 1e-05, loss_classifier: 0.01 loss_box_reg: 0.02 loss_mask: 0.07 loss_objectness: 0.00 loss_rpn_box_reg: 0.00: 100%|██████████| 16/16 [00:16<00:00,  1.00s/it]\n",
      "Epoch: 29, lr: 1e-05, loss_classifier: 0.01 loss_box_reg: 0.02 loss_mask: 0.07 loss_objectness: 0.00 loss_rpn_box_reg: 0.00: 100%|██████████| 16/16 [00:16<00:00,  1.00s/it]\n",
      "Epoch: 30, lr: 1e-05, loss_classifier: 0.02 loss_box_reg: 0.02 loss_mask: 0.07 loss_objectness: 0.00 loss_rpn_box_reg: 0.00: 100%|██████████| 16/16 [00:15<00:00,  1.00it/s]\n",
      "Epoch: 31, lr: 1e-05, loss_classifier: 0.02 loss_box_reg: 0.02 loss_mask: 0.07 loss_objectness: 0.00 loss_rpn_box_reg: 0.00: 100%|██████████| 16/16 [00:16<00:00,  1.00s/it]\n",
      "Epoch: 32, lr: 1e-05, loss_classifier: 0.02 loss_box_reg: 0.02 loss_mask: 0.07 loss_objectness: 0.00 loss_rpn_box_reg: 0.00: 100%|██████████| 16/16 [00:16<00:00,  1.00s/it]\n",
      "Epoch: 33, lr: 1e-05, loss_classifier: 0.01 loss_box_reg: 0.02 loss_mask: 0.07 loss_objectness: 0.00 loss_rpn_box_reg: 0.00: 100%|██████████| 16/16 [00:16<00:00,  1.01s/it]\n",
      "Epoch: 34, lr: 1e-05, loss_classifier: 0.02 loss_box_reg: 0.02 loss_mask: 0.07 loss_objectness: 0.00 loss_rpn_box_reg: 0.00: 100%|██████████| 16/16 [00:16<00:00,  1.01s/it]\n",
      "Epoch: 35, lr: 1e-05, loss_classifier: 0.02 loss_box_reg: 0.02 loss_mask: 0.07 loss_objectness: 0.00 loss_rpn_box_reg: 0.00: 100%|██████████| 16/16 [00:16<00:00,  1.01s/it]\n",
      "Epoch: 36, lr: 1e-05, loss_classifier: 0.01 loss_box_reg: 0.02 loss_mask: 0.07 loss_objectness: 0.00 loss_rpn_box_reg: 0.00: 100%|██████████| 16/16 [00:16<00:00,  1.01s/it]\n",
      "Epoch: 37, lr: 1e-05, loss_classifier: 0.02 loss_box_reg: 0.02 loss_mask: 0.07 loss_objectness: 0.00 loss_rpn_box_reg: 0.00: 100%|██████████| 16/16 [00:15<00:00,  1.00it/s]\n",
      "Epoch: 38, lr: 1e-05, loss_classifier: 0.01 loss_box_reg: 0.02 loss_mask: 0.07 loss_objectness: 0.00 loss_rpn_box_reg: 0.00: 100%|██████████| 16/16 [00:15<00:00,  1.00it/s]\n",
      "Epoch: 39, lr: 1e-05, loss_classifier: 0.02 loss_box_reg: 0.02 loss_mask: 0.07 loss_objectness: 0.00 loss_rpn_box_reg: 0.00: 100%|██████████| 16/16 [00:15<00:00,  1.00it/s]\n",
      "Epoch: 40, lr: 1e-05, loss_classifier: 0.02 loss_box_reg: 0.02 loss_mask: 0.07 loss_objectness: 0.00 loss_rpn_box_reg: 0.00: 100%|██████████| 16/16 [00:15<00:00,  1.00it/s]\n",
      "Epoch: 41, lr: 1e-05, loss_classifier: 0.01 loss_box_reg: 0.02 loss_mask: 0.07 loss_objectness: 0.00 loss_rpn_box_reg: 0.00: 100%|██████████| 16/16 [00:15<00:00,  1.00it/s]\n"
     ]
    },
    {
     "name": "stdout",
     "output_type": "stream",
     "text": [
      "Save model at epoch 41.\n"
     ]
    },
    {
     "name": "stderr",
     "output_type": "stream",
     "text": [
      "  0%|          | 0/16 [00:00<?, ?it/s]"
     ]
    },
    {
     "name": "stdout",
     "output_type": "stream",
     "text": [
      "model\\Mask R-CNN\\test-1-divide-4\\2021-12-13 00-05-35-epoch-41.pkl\n"
     ]
    },
    {
     "name": "stderr",
     "output_type": "stream",
     "text": [
      "Epoch: 42, lr: 1e-05, loss_classifier: 0.01 loss_box_reg: 0.02 loss_mask: 0.07 loss_objectness: 0.00 loss_rpn_box_reg: 0.00: 100%|██████████| 16/16 [00:16<00:00,  1.00s/it]\n"
     ]
    },
    {
     "name": "stdout",
     "output_type": "stream",
     "text": [
      "Save model at epoch 42.\n"
     ]
    },
    {
     "name": "stderr",
     "output_type": "stream",
     "text": [
      "  0%|          | 0/16 [00:00<?, ?it/s]"
     ]
    },
    {
     "name": "stdout",
     "output_type": "stream",
     "text": [
      "model\\Mask R-CNN\\test-1-divide-4\\2021-12-13 00-05-35-epoch-42.pkl\n"
     ]
    },
    {
     "name": "stderr",
     "output_type": "stream",
     "text": [
      "Epoch: 43, lr: 1e-05, loss_classifier: 0.01 loss_box_reg: 0.02 loss_mask: 0.07 loss_objectness: 0.00 loss_rpn_box_reg: 0.00: 100%|██████████| 16/16 [00:16<00:00,  1.00s/it]\n"
     ]
    },
    {
     "name": "stdout",
     "output_type": "stream",
     "text": [
      "Save model at epoch 43.\n"
     ]
    },
    {
     "name": "stderr",
     "output_type": "stream",
     "text": [
      "  0%|          | 0/16 [00:00<?, ?it/s]"
     ]
    },
    {
     "name": "stdout",
     "output_type": "stream",
     "text": [
      "model\\Mask R-CNN\\test-1-divide-4\\2021-12-13 00-05-35-epoch-43.pkl\n"
     ]
    },
    {
     "name": "stderr",
     "output_type": "stream",
     "text": [
      "Epoch: 44, lr: 1e-05, loss_classifier: 0.01 loss_box_reg: 0.02 loss_mask: 0.07 loss_objectness: 0.00 loss_rpn_box_reg: 0.00: 100%|██████████| 16/16 [00:16<00:00,  1.00s/it]\n",
      "Epoch: 45, lr: 1e-05, loss_classifier: 0.01 loss_box_reg: 0.02 loss_mask: 0.07 loss_objectness: 0.00 loss_rpn_box_reg: 0.00: 100%|██████████| 16/16 [00:16<00:00,  1.01s/it]\n"
     ]
    },
    {
     "name": "stdout",
     "output_type": "stream",
     "text": [
      "Save model at epoch 45.\n"
     ]
    },
    {
     "name": "stderr",
     "output_type": "stream",
     "text": [
      "  0%|          | 0/16 [00:00<?, ?it/s]"
     ]
    },
    {
     "name": "stdout",
     "output_type": "stream",
     "text": [
      "model\\Mask R-CNN\\test-1-divide-4\\2021-12-13 00-05-35-epoch-45.pkl\n"
     ]
    },
    {
     "name": "stderr",
     "output_type": "stream",
     "text": [
      "Epoch: 46, lr: 1e-05, loss_classifier: 0.02 loss_box_reg: 0.02 loss_mask: 0.07 loss_objectness: 0.00 loss_rpn_box_reg: 0.00: 100%|██████████| 16/16 [00:15<00:00,  1.01it/s]\n",
      "Epoch: 47, lr: 1e-05, loss_classifier: 0.01 loss_box_reg: 0.02 loss_mask: 0.07 loss_objectness: 0.00 loss_rpn_box_reg: 0.00: 100%|██████████| 16/16 [00:16<00:00,  1.01s/it]\n"
     ]
    },
    {
     "name": "stdout",
     "output_type": "stream",
     "text": [
      "Save model at epoch 47.\n"
     ]
    },
    {
     "name": "stderr",
     "output_type": "stream",
     "text": [
      "  0%|          | 0/16 [00:00<?, ?it/s]"
     ]
    },
    {
     "name": "stdout",
     "output_type": "stream",
     "text": [
      "model\\Mask R-CNN\\test-1-divide-4\\2021-12-13 00-05-35-epoch-47.pkl\n"
     ]
    },
    {
     "name": "stderr",
     "output_type": "stream",
     "text": [
      "Epoch: 48, lr: 1e-05, loss_classifier: 0.01 loss_box_reg: 0.02 loss_mask: 0.07 loss_objectness: 0.00 loss_rpn_box_reg: 0.01: 100%|██████████| 16/16 [00:16<00:00,  1.00s/it]\n",
      "Epoch: 49, lr: 1e-05, loss_classifier: 0.01 loss_box_reg: 0.02 loss_mask: 0.07 loss_objectness: 0.00 loss_rpn_box_reg: 0.00: 100%|██████████| 16/16 [00:15<00:00,  1.00it/s]\n",
      "Epoch: 50, lr: 1e-05, loss_classifier: 0.01 loss_box_reg: 0.02 loss_mask: 0.07 loss_objectness: 0.00 loss_rpn_box_reg: 0.00: 100%|██████████| 16/16 [00:15<00:00,  1.01it/s]\n",
      "Epoch: 51, lr: 1e-05, loss_classifier: 0.01 loss_box_reg: 0.02 loss_mask: 0.07 loss_objectness: 0.00 loss_rpn_box_reg: 0.00: 100%|██████████| 16/16 [00:16<00:00,  1.00s/it]\n"
     ]
    },
    {
     "name": "stdout",
     "output_type": "stream",
     "text": [
      "Save model at epoch 51.\n"
     ]
    },
    {
     "name": "stderr",
     "output_type": "stream",
     "text": [
      "  0%|          | 0/16 [00:00<?, ?it/s]"
     ]
    },
    {
     "name": "stdout",
     "output_type": "stream",
     "text": [
      "model\\Mask R-CNN\\test-1-divide-4\\2021-12-13 00-05-35-epoch-51.pkl\n"
     ]
    },
    {
     "name": "stderr",
     "output_type": "stream",
     "text": [
      "Epoch: 52, lr: 1e-05, loss_classifier: 0.01 loss_box_reg: 0.02 loss_mask: 0.07 loss_objectness: 0.00 loss_rpn_box_reg: 0.00: 100%|██████████| 16/16 [00:15<00:00,  1.01it/s]\n"
     ]
    },
    {
     "name": "stdout",
     "output_type": "stream",
     "text": [
      "Save model at epoch 52.\n"
     ]
    },
    {
     "name": "stderr",
     "output_type": "stream",
     "text": [
      "  0%|          | 0/16 [00:00<?, ?it/s]"
     ]
    },
    {
     "name": "stdout",
     "output_type": "stream",
     "text": [
      "model\\Mask R-CNN\\test-1-divide-4\\2021-12-13 00-05-35-epoch-52.pkl\n"
     ]
    },
    {
     "name": "stderr",
     "output_type": "stream",
     "text": [
      "Epoch: 53, lr: 1e-05, loss_classifier: 0.01 loss_box_reg: 0.02 loss_mask: 0.07 loss_objectness: 0.00 loss_rpn_box_reg: 0.00: 100%|██████████| 16/16 [00:15<00:00,  1.00it/s]\n"
     ]
    },
    {
     "name": "stdout",
     "output_type": "stream",
     "text": [
      "Save model at epoch 53.\n"
     ]
    },
    {
     "name": "stderr",
     "output_type": "stream",
     "text": [
      "  0%|          | 0/16 [00:00<?, ?it/s]"
     ]
    },
    {
     "name": "stdout",
     "output_type": "stream",
     "text": [
      "model\\Mask R-CNN\\test-1-divide-4\\2021-12-13 00-05-35-epoch-53.pkl\n"
     ]
    },
    {
     "name": "stderr",
     "output_type": "stream",
     "text": [
      "Epoch: 54, lr: 1e-05, loss_classifier: 0.01 loss_box_reg: 0.02 loss_mask: 0.07 loss_objectness: 0.00 loss_rpn_box_reg: 0.00: 100%|██████████| 16/16 [00:16<00:00,  1.00s/it]\n"
     ]
    },
    {
     "name": "stdout",
     "output_type": "stream",
     "text": [
      "Save model at epoch 54.\n"
     ]
    },
    {
     "name": "stderr",
     "output_type": "stream",
     "text": [
      "  0%|          | 0/16 [00:00<?, ?it/s]"
     ]
    },
    {
     "name": "stdout",
     "output_type": "stream",
     "text": [
      "model\\Mask R-CNN\\test-1-divide-4\\2021-12-13 00-05-35-epoch-54.pkl\n"
     ]
    },
    {
     "name": "stderr",
     "output_type": "stream",
     "text": [
      "Epoch: 55, lr: 1e-05, loss_classifier: 0.01 loss_box_reg: 0.02 loss_mask: 0.07 loss_objectness: 0.00 loss_rpn_box_reg: 0.00: 100%|██████████| 16/16 [00:16<00:00,  1.00s/it]\n",
      "Epoch: 56, lr: 1e-05, loss_classifier: 0.01 loss_box_reg: 0.02 loss_mask: 0.07 loss_objectness: 0.00 loss_rpn_box_reg: 0.00: 100%|██████████| 16/16 [00:16<00:00,  1.00s/it]\n"
     ]
    },
    {
     "name": "stdout",
     "output_type": "stream",
     "text": [
      "Save model at epoch 56.\n"
     ]
    },
    {
     "name": "stderr",
     "output_type": "stream",
     "text": [
      "  0%|          | 0/16 [00:00<?, ?it/s]"
     ]
    },
    {
     "name": "stdout",
     "output_type": "stream",
     "text": [
      "model\\Mask R-CNN\\test-1-divide-4\\2021-12-13 00-05-35-epoch-56.pkl\n"
     ]
    },
    {
     "name": "stderr",
     "output_type": "stream",
     "text": [
      "Epoch: 57, lr: 1e-05, loss_classifier: 0.01 loss_box_reg: 0.02 loss_mask: 0.07 loss_objectness: 0.00 loss_rpn_box_reg: 0.00: 100%|██████████| 16/16 [00:16<00:00,  1.01s/it]\n",
      "Epoch: 58, lr: 1e-05, loss_classifier: 0.01 loss_box_reg: 0.02 loss_mask: 0.07 loss_objectness: 0.00 loss_rpn_box_reg: 0.00: 100%|██████████| 16/16 [00:15<00:00,  1.00it/s]\n"
     ]
    },
    {
     "name": "stdout",
     "output_type": "stream",
     "text": [
      "Save model at epoch 58.\n"
     ]
    },
    {
     "name": "stderr",
     "output_type": "stream",
     "text": [
      "  0%|          | 0/16 [00:00<?, ?it/s]"
     ]
    },
    {
     "name": "stdout",
     "output_type": "stream",
     "text": [
      "model\\Mask R-CNN\\test-1-divide-4\\2021-12-13 00-05-35-epoch-58.pkl\n"
     ]
    },
    {
     "name": "stderr",
     "output_type": "stream",
     "text": [
      "Epoch: 59, lr: 1e-05, loss_classifier: 0.01 loss_box_reg: 0.02 loss_mask: 0.07 loss_objectness: 0.00 loss_rpn_box_reg: 0.00: 100%|██████████| 16/16 [00:16<00:00,  1.00s/it]\n",
      "Epoch: 60, lr: 1e-05, loss_classifier: 0.01 loss_box_reg: 0.02 loss_mask: 0.07 loss_objectness: 0.00 loss_rpn_box_reg: 0.00: 100%|██████████| 16/16 [00:15<00:00,  1.00it/s]\n",
      "Epoch: 61, lr: 1e-06, loss_classifier: 0.01 loss_box_reg: 0.02 loss_mask: 0.07 loss_objectness: 0.00 loss_rpn_box_reg: 0.00: 100%|██████████| 16/16 [00:15<00:00,  1.00it/s]\n"
     ]
    },
    {
     "name": "stdout",
     "output_type": "stream",
     "text": [
      "Save model at epoch 61.\n"
     ]
    },
    {
     "name": "stderr",
     "output_type": "stream",
     "text": [
      "  0%|          | 0/16 [00:00<?, ?it/s]"
     ]
    },
    {
     "name": "stdout",
     "output_type": "stream",
     "text": [
      "model\\Mask R-CNN\\test-1-divide-4\\2021-12-13 00-05-35-epoch-61.pkl\n"
     ]
    },
    {
     "name": "stderr",
     "output_type": "stream",
     "text": [
      "Epoch: 62, lr: 1e-06, loss_classifier: 0.01 loss_box_reg: 0.01 loss_mask: 0.07 loss_objectness: 0.00 loss_rpn_box_reg: 0.00: 100%|██████████| 16/16 [00:16<00:00,  1.01s/it]\n"
     ]
    },
    {
     "name": "stdout",
     "output_type": "stream",
     "text": [
      "Save model at epoch 62.\n"
     ]
    },
    {
     "name": "stderr",
     "output_type": "stream",
     "text": [
      "  0%|          | 0/16 [00:00<?, ?it/s]"
     ]
    },
    {
     "name": "stdout",
     "output_type": "stream",
     "text": [
      "model\\Mask R-CNN\\test-1-divide-4\\2021-12-13 00-05-35-epoch-62.pkl\n"
     ]
    },
    {
     "name": "stderr",
     "output_type": "stream",
     "text": [
      "Epoch: 63, lr: 1e-06, loss_classifier: 0.01 loss_box_reg: 0.01 loss_mask: 0.06 loss_objectness: 0.00 loss_rpn_box_reg: 0.00: 100%|██████████| 16/16 [00:16<00:00,  1.00s/it]\n"
     ]
    },
    {
     "name": "stdout",
     "output_type": "stream",
     "text": [
      "Save model at epoch 63.\n"
     ]
    },
    {
     "name": "stderr",
     "output_type": "stream",
     "text": [
      "  0%|          | 0/16 [00:00<?, ?it/s]"
     ]
    },
    {
     "name": "stdout",
     "output_type": "stream",
     "text": [
      "model\\Mask R-CNN\\test-1-divide-4\\2021-12-13 00-05-35-epoch-63.pkl\n"
     ]
    },
    {
     "name": "stderr",
     "output_type": "stream",
     "text": [
      "Epoch: 64, lr: 1e-06, loss_classifier: 0.01 loss_box_reg: 0.01 loss_mask: 0.06 loss_objectness: 0.00 loss_rpn_box_reg: 0.00: 100%|██████████| 16/16 [00:16<00:00,  1.01s/it]\n"
     ]
    },
    {
     "name": "stdout",
     "output_type": "stream",
     "text": [
      "Save model at epoch 64.\n"
     ]
    },
    {
     "name": "stderr",
     "output_type": "stream",
     "text": [
      "  0%|          | 0/16 [00:00<?, ?it/s]"
     ]
    },
    {
     "name": "stdout",
     "output_type": "stream",
     "text": [
      "model\\Mask R-CNN\\test-1-divide-4\\2021-12-13 00-05-35-epoch-64.pkl\n"
     ]
    },
    {
     "name": "stderr",
     "output_type": "stream",
     "text": [
      "Epoch: 65, lr: 1e-06, loss_classifier: 0.01 loss_box_reg: 0.01 loss_mask: 0.06 loss_objectness: 0.00 loss_rpn_box_reg: 0.00: 100%|██████████| 16/16 [00:16<00:00,  1.01s/it]\n"
     ]
    },
    {
     "name": "stdout",
     "output_type": "stream",
     "text": [
      "Save model at epoch 65.\n"
     ]
    },
    {
     "name": "stderr",
     "output_type": "stream",
     "text": [
      "  0%|          | 0/16 [00:00<?, ?it/s]"
     ]
    },
    {
     "name": "stdout",
     "output_type": "stream",
     "text": [
      "model\\Mask R-CNN\\test-1-divide-4\\2021-12-13 00-05-35-epoch-65.pkl\n"
     ]
    },
    {
     "name": "stderr",
     "output_type": "stream",
     "text": [
      "Epoch: 66, lr: 1e-06, loss_classifier: 0.01 loss_box_reg: 0.01 loss_mask: 0.06 loss_objectness: 0.00 loss_rpn_box_reg: 0.00: 100%|██████████| 16/16 [00:16<00:00,  1.01s/it]\n"
     ]
    },
    {
     "name": "stdout",
     "output_type": "stream",
     "text": [
      "Save model at epoch 66.\n"
     ]
    },
    {
     "name": "stderr",
     "output_type": "stream",
     "text": [
      "  0%|          | 0/16 [00:00<?, ?it/s]"
     ]
    },
    {
     "name": "stdout",
     "output_type": "stream",
     "text": [
      "model\\Mask R-CNN\\test-1-divide-4\\2021-12-13 00-05-35-epoch-66.pkl\n"
     ]
    },
    {
     "name": "stderr",
     "output_type": "stream",
     "text": [
      "Epoch: 67, lr: 1e-06, loss_classifier: 0.01 loss_box_reg: 0.01 loss_mask: 0.06 loss_objectness: 0.00 loss_rpn_box_reg: 0.00: 100%|██████████| 16/16 [00:15<00:00,  1.00it/s]\n"
     ]
    },
    {
     "name": "stdout",
     "output_type": "stream",
     "text": [
      "Save model at epoch 67.\n"
     ]
    },
    {
     "name": "stderr",
     "output_type": "stream",
     "text": [
      "  0%|          | 0/16 [00:00<?, ?it/s]"
     ]
    },
    {
     "name": "stdout",
     "output_type": "stream",
     "text": [
      "model\\Mask R-CNN\\test-1-divide-4\\2021-12-13 00-05-35-epoch-67.pkl\n"
     ]
    },
    {
     "name": "stderr",
     "output_type": "stream",
     "text": [
      "Epoch: 68, lr: 1e-06, loss_classifier: 0.01 loss_box_reg: 0.01 loss_mask: 0.06 loss_objectness: 0.00 loss_rpn_box_reg: 0.00: 100%|██████████| 16/16 [00:16<00:00,  1.01s/it]\n"
     ]
    },
    {
     "name": "stdout",
     "output_type": "stream",
     "text": [
      "Save model at epoch 68.\n"
     ]
    },
    {
     "name": "stderr",
     "output_type": "stream",
     "text": [
      "  0%|          | 0/16 [00:00<?, ?it/s]"
     ]
    },
    {
     "name": "stdout",
     "output_type": "stream",
     "text": [
      "model\\Mask R-CNN\\test-1-divide-4\\2021-12-13 00-05-35-epoch-68.pkl\n"
     ]
    },
    {
     "name": "stderr",
     "output_type": "stream",
     "text": [
      "Epoch: 69, lr: 1e-06, loss_classifier: 0.01 loss_box_reg: 0.01 loss_mask: 0.06 loss_objectness: 0.00 loss_rpn_box_reg: 0.00: 100%|██████████| 16/16 [00:15<00:00,  1.00it/s]\n"
     ]
    },
    {
     "name": "stdout",
     "output_type": "stream",
     "text": [
      "Save model at epoch 69.\n"
     ]
    },
    {
     "name": "stderr",
     "output_type": "stream",
     "text": [
      "  0%|          | 0/16 [00:00<?, ?it/s]"
     ]
    },
    {
     "name": "stdout",
     "output_type": "stream",
     "text": [
      "model\\Mask R-CNN\\test-1-divide-4\\2021-12-13 00-05-35-epoch-69.pkl\n"
     ]
    },
    {
     "name": "stderr",
     "output_type": "stream",
     "text": [
      "Epoch: 70, lr: 1e-06, loss_classifier: 0.01 loss_box_reg: 0.01 loss_mask: 0.06 loss_objectness: 0.00 loss_rpn_box_reg: 0.00: 100%|██████████| 16/16 [00:16<00:00,  1.00s/it]\n",
      "Epoch: 71, lr: 1e-06, loss_classifier: 0.01 loss_box_reg: 0.01 loss_mask: 0.06 loss_objectness: 0.00 loss_rpn_box_reg: 0.00: 100%|██████████| 16/16 [00:16<00:00,  1.00s/it]\n",
      "Epoch: 72, lr: 1e-06, loss_classifier: 0.01 loss_box_reg: 0.01 loss_mask: 0.06 loss_objectness: 0.00 loss_rpn_box_reg: 0.00: 100%|██████████| 16/16 [00:16<00:00,  1.01s/it]\n"
     ]
    },
    {
     "name": "stdout",
     "output_type": "stream",
     "text": [
      "Save model at epoch 72.\n"
     ]
    },
    {
     "name": "stderr",
     "output_type": "stream",
     "text": [
      "  0%|          | 0/16 [00:00<?, ?it/s]"
     ]
    },
    {
     "name": "stdout",
     "output_type": "stream",
     "text": [
      "model\\Mask R-CNN\\test-1-divide-4\\2021-12-13 00-05-35-epoch-72.pkl\n"
     ]
    },
    {
     "name": "stderr",
     "output_type": "stream",
     "text": [
      "Epoch: 73, lr: 1e-06, loss_classifier: 0.01 loss_box_reg: 0.01 loss_mask: 0.06 loss_objectness: 0.00 loss_rpn_box_reg: 0.00: 100%|██████████| 16/16 [00:16<00:00,  1.00s/it]\n"
     ]
    },
    {
     "name": "stdout",
     "output_type": "stream",
     "text": [
      "Save model at epoch 73.\n"
     ]
    },
    {
     "name": "stderr",
     "output_type": "stream",
     "text": [
      "  0%|          | 0/16 [00:00<?, ?it/s]"
     ]
    },
    {
     "name": "stdout",
     "output_type": "stream",
     "text": [
      "model\\Mask R-CNN\\test-1-divide-4\\2021-12-13 00-05-35-epoch-73.pkl\n"
     ]
    },
    {
     "name": "stderr",
     "output_type": "stream",
     "text": [
      "Epoch: 74, lr: 1e-06, loss_classifier: 0.01 loss_box_reg: 0.01 loss_mask: 0.06 loss_objectness: 0.00 loss_rpn_box_reg: 0.00: 100%|██████████| 16/16 [00:16<00:00,  1.00s/it]\n",
      "Epoch: 75, lr: 1e-06, loss_classifier: 0.01 loss_box_reg: 0.01 loss_mask: 0.06 loss_objectness: 0.00 loss_rpn_box_reg: 0.00: 100%|██████████| 16/16 [00:15<00:00,  1.00it/s]\n"
     ]
    },
    {
     "name": "stdout",
     "output_type": "stream",
     "text": [
      "Save model at epoch 75.\n"
     ]
    },
    {
     "name": "stderr",
     "output_type": "stream",
     "text": [
      "  0%|          | 0/16 [00:00<?, ?it/s]"
     ]
    },
    {
     "name": "stdout",
     "output_type": "stream",
     "text": [
      "model\\Mask R-CNN\\test-1-divide-4\\2021-12-13 00-05-35-epoch-75.pkl\n"
     ]
    },
    {
     "name": "stderr",
     "output_type": "stream",
     "text": [
      "Epoch: 76, lr: 1e-06, loss_classifier: 0.01 loss_box_reg: 0.01 loss_mask: 0.06 loss_objectness: 0.00 loss_rpn_box_reg: 0.00: 100%|██████████| 16/16 [00:15<00:00,  1.00it/s]\n",
      "Epoch: 77, lr: 1e-06, loss_classifier: 0.01 loss_box_reg: 0.01 loss_mask: 0.06 loss_objectness: 0.00 loss_rpn_box_reg: 0.00: 100%|██████████| 16/16 [00:16<00:00,  1.00s/it]\n",
      "Epoch: 78, lr: 1e-06, loss_classifier: 0.01 loss_box_reg: 0.01 loss_mask: 0.06 loss_objectness: 0.00 loss_rpn_box_reg: 0.00: 100%|██████████| 16/16 [00:16<00:00,  1.00s/it]\n",
      "Epoch: 79, lr: 1e-06, loss_classifier: 0.01 loss_box_reg: 0.01 loss_mask: 0.06 loss_objectness: 0.00 loss_rpn_box_reg: 0.00: 100%|██████████| 16/16 [00:16<00:00,  1.00s/it]\n",
      "Epoch: 80, lr: 1e-06, loss_classifier: 0.01 loss_box_reg: 0.01 loss_mask: 0.06 loss_objectness: 0.00 loss_rpn_box_reg: 0.00: 100%|██████████| 16/16 [00:15<00:00,  1.00it/s]\n",
      "Epoch: 81, lr: 1e-06, loss_classifier: 0.01 loss_box_reg: 0.01 loss_mask: 0.06 loss_objectness: 0.00 loss_rpn_box_reg: 0.00: 100%|██████████| 16/16 [00:16<00:00,  1.00s/it]\n",
      "Epoch: 82, lr: 1e-06, loss_classifier: 0.01 loss_box_reg: 0.01 loss_mask: 0.06 loss_objectness: 0.00 loss_rpn_box_reg: 0.00: 100%|██████████| 16/16 [00:16<00:00,  1.00s/it]\n",
      "Epoch: 83, lr: 1e-06, loss_classifier: 0.01 loss_box_reg: 0.01 loss_mask: 0.06 loss_objectness: 0.00 loss_rpn_box_reg: 0.00: 100%|██████████| 16/16 [00:16<00:00,  1.00s/it]\n",
      "Epoch: 84, lr: 1e-06, loss_classifier: 0.01 loss_box_reg: 0.01 loss_mask: 0.06 loss_objectness: 0.00 loss_rpn_box_reg: 0.00: 100%|██████████| 16/16 [00:16<00:00,  1.01s/it]\n",
      "Epoch: 85, lr: 1e-06, loss_classifier: 0.01 loss_box_reg: 0.01 loss_mask: 0.06 loss_objectness: 0.00 loss_rpn_box_reg: 0.00: 100%|██████████| 16/16 [00:16<00:00,  1.00s/it]\n"
     ]
    },
    {
     "name": "stdout",
     "output_type": "stream",
     "text": [
      "Save model at epoch 85.\n"
     ]
    },
    {
     "name": "stderr",
     "output_type": "stream",
     "text": [
      "  0%|          | 0/16 [00:00<?, ?it/s]"
     ]
    },
    {
     "name": "stdout",
     "output_type": "stream",
     "text": [
      "model\\Mask R-CNN\\test-1-divide-4\\2021-12-13 00-05-35-epoch-85.pkl\n"
     ]
    },
    {
     "name": "stderr",
     "output_type": "stream",
     "text": [
      "Epoch: 86, lr: 1e-06, loss_classifier: 0.01 loss_box_reg: 0.01 loss_mask: 0.06 loss_objectness: 0.00 loss_rpn_box_reg: 0.00: 100%|██████████| 16/16 [00:16<00:00,  1.01s/it]\n",
      "Epoch: 87, lr: 1e-06, loss_classifier: 0.01 loss_box_reg: 0.01 loss_mask: 0.06 loss_objectness: 0.00 loss_rpn_box_reg: 0.00: 100%|██████████| 16/16 [00:16<00:00,  1.00s/it]\n"
     ]
    },
    {
     "name": "stdout",
     "output_type": "stream",
     "text": [
      "Save model at epoch 87.\n"
     ]
    },
    {
     "name": "stderr",
     "output_type": "stream",
     "text": [
      "  0%|          | 0/16 [00:00<?, ?it/s]"
     ]
    },
    {
     "name": "stdout",
     "output_type": "stream",
     "text": [
      "model\\Mask R-CNN\\test-1-divide-4\\2021-12-13 00-05-35-epoch-87.pkl\n"
     ]
    },
    {
     "name": "stderr",
     "output_type": "stream",
     "text": [
      "Epoch: 88, lr: 1e-06, loss_classifier: 0.01 loss_box_reg: 0.01 loss_mask: 0.06 loss_objectness: 0.00 loss_rpn_box_reg: 0.00: 100%|██████████| 16/16 [00:16<00:00,  1.00s/it]\n",
      "Epoch: 89, lr: 1e-06, loss_classifier: 0.01 loss_box_reg: 0.01 loss_mask: 0.06 loss_objectness: 0.00 loss_rpn_box_reg: 0.00: 100%|██████████| 16/16 [00:15<00:00,  1.00it/s]\n",
      "Epoch: 90, lr: 1e-06, loss_classifier: 0.01 loss_box_reg: 0.01 loss_mask: 0.06 loss_objectness: 0.00 loss_rpn_box_reg: 0.00: 100%|██████████| 16/16 [00:16<00:00,  1.00s/it]\n",
      "Epoch: 91, lr: 1e-06, loss_classifier: 0.01 loss_box_reg: 0.01 loss_mask: 0.06 loss_objectness: 0.00 loss_rpn_box_reg: 0.00: 100%|██████████| 16/16 [00:16<00:00,  1.01s/it]\n",
      "Epoch: 92, lr: 1e-06, loss_classifier: 0.01 loss_box_reg: 0.01 loss_mask: 0.06 loss_objectness: 0.00 loss_rpn_box_reg: 0.00: 100%|██████████| 16/16 [00:15<00:00,  1.00it/s]\n",
      "Epoch: 93, lr: 1e-06, loss_classifier: 0.01 loss_box_reg: 0.01 loss_mask: 0.06 loss_objectness: 0.00 loss_rpn_box_reg: 0.00: 100%|██████████| 16/16 [00:15<00:00,  1.00it/s]\n",
      "Epoch: 94, lr: 1e-06, loss_classifier: 0.01 loss_box_reg: 0.01 loss_mask: 0.06 loss_objectness: 0.00 loss_rpn_box_reg: 0.00: 100%|██████████| 16/16 [00:16<00:00,  1.01s/it]\n",
      "Epoch: 95, lr: 1e-06, loss_classifier: 0.01 loss_box_reg: 0.01 loss_mask: 0.06 loss_objectness: 0.00 loss_rpn_box_reg: 0.00: 100%|██████████| 16/16 [00:16<00:00,  1.00s/it]\n"
     ]
    },
    {
     "name": "stdout",
     "output_type": "stream",
     "text": [
      "Save model at epoch 95.\n"
     ]
    },
    {
     "name": "stderr",
     "output_type": "stream",
     "text": [
      "  0%|          | 0/16 [00:00<?, ?it/s]"
     ]
    },
    {
     "name": "stdout",
     "output_type": "stream",
     "text": [
      "model\\Mask R-CNN\\test-1-divide-4\\2021-12-13 00-05-35-epoch-95.pkl\n"
     ]
    },
    {
     "name": "stderr",
     "output_type": "stream",
     "text": [
      "Epoch: 96, lr: 1e-06, loss_classifier: 0.01 loss_box_reg: 0.01 loss_mask: 0.06 loss_objectness: 0.00 loss_rpn_box_reg: 0.00: 100%|██████████| 16/16 [00:16<00:00,  1.01s/it]\n",
      "Epoch: 97, lr: 1e-06, loss_classifier: 0.01 loss_box_reg: 0.01 loss_mask: 0.06 loss_objectness: 0.00 loss_rpn_box_reg: 0.00: 100%|██████████| 16/16 [00:16<00:00,  1.00s/it]\n",
      "Epoch: 98, lr: 1e-06, loss_classifier: 0.01 loss_box_reg: 0.01 loss_mask: 0.06 loss_objectness: 0.00 loss_rpn_box_reg: 0.00: 100%|██████████| 16/16 [00:16<00:00,  1.00s/it]\n",
      "Epoch: 99, lr: 1e-06, loss_classifier: 0.01 loss_box_reg: 0.01 loss_mask: 0.06 loss_objectness: 0.00 loss_rpn_box_reg: 0.00: 100%|██████████| 16/16 [00:16<00:00,  1.00s/it]\n",
      "Epoch: 100, lr: 1e-06, loss_classifier: 0.01 loss_box_reg: 0.01 loss_mask: 0.06 loss_objectness: 0.00 loss_rpn_box_reg: 0.00: 100%|██████████| 16/16 [00:16<00:00,  1.01s/it]\n",
      "  0%|          | 0/8 [00:00<?, ?it/s]"
     ]
    },
    {
     "name": "stdout",
     "output_type": "stream",
     "text": [
      "True\n",
      "Device: cuda\n"
     ]
    },
    {
     "name": "stderr",
     "output_type": "stream",
     "text": [
      "Epoch: 1, lr: 1e-05, loss_classifier: 0.02 loss_box_reg: 0.03 loss_mask: 0.08 loss_objectness: 0.00 loss_rpn_box_reg: 0.01: 100%|██████████| 8/8 [00:08<00:00,  1.03s/it]\n"
     ]
    },
    {
     "name": "stdout",
     "output_type": "stream",
     "text": [
      "Save model at epoch 1.\n"
     ]
    },
    {
     "name": "stderr",
     "output_type": "stream",
     "text": [
      "  0%|          | 0/8 [00:00<?, ?it/s]"
     ]
    },
    {
     "name": "stdout",
     "output_type": "stream",
     "text": [
      "model\\Mask R-CNN\\test-2-divide-4\\2021-12-13 00-05-35-epoch-1.pkl\n"
     ]
    },
    {
     "name": "stderr",
     "output_type": "stream",
     "text": [
      "Epoch: 2, lr: 1e-05, loss_classifier: 0.03 loss_box_reg: 0.06 loss_mask: 0.09 loss_objectness: 0.00 loss_rpn_box_reg: 0.01: 100%|██████████| 8/8 [00:08<00:00,  1.04s/it]\n",
      "Epoch: 3, lr: 1e-05, loss_classifier: 0.03 loss_box_reg: 0.05 loss_mask: 0.09 loss_objectness: 0.00 loss_rpn_box_reg: 0.01: 100%|██████████| 8/8 [00:08<00:00,  1.04s/it]\n",
      "Epoch: 4, lr: 1e-05, loss_classifier: 0.03 loss_box_reg: 0.04 loss_mask: 0.08 loss_objectness: 0.00 loss_rpn_box_reg: 0.01: 100%|██████████| 8/8 [00:08<00:00,  1.04s/it]\n",
      "Epoch: 5, lr: 1e-05, loss_classifier: 0.02 loss_box_reg: 0.04 loss_mask: 0.08 loss_objectness: 0.00 loss_rpn_box_reg: 0.01: 100%|██████████| 8/8 [00:08<00:00,  1.04s/it]\n",
      "Epoch: 6, lr: 1e-05, loss_classifier: 0.02 loss_box_reg: 0.03 loss_mask: 0.08 loss_objectness: 0.00 loss_rpn_box_reg: 0.00: 100%|██████████| 8/8 [00:08<00:00,  1.03s/it]\n",
      "Epoch: 7, lr: 1e-05, loss_classifier: 0.02 loss_box_reg: 0.03 loss_mask: 0.08 loss_objectness: 0.00 loss_rpn_box_reg: 0.00: 100%|██████████| 8/8 [00:08<00:00,  1.03s/it]\n",
      "Epoch: 8, lr: 1e-05, loss_classifier: 0.02 loss_box_reg: 0.03 loss_mask: 0.08 loss_objectness: 0.00 loss_rpn_box_reg: 0.00: 100%|██████████| 8/8 [00:08<00:00,  1.05s/it]\n",
      "Epoch: 9, lr: 1e-05, loss_classifier: 0.02 loss_box_reg: 0.03 loss_mask: 0.08 loss_objectness: 0.00 loss_rpn_box_reg: 0.00: 100%|██████████| 8/8 [00:08<00:00,  1.04s/it]\n",
      "Epoch: 10, lr: 1e-05, loss_classifier: 0.02 loss_box_reg: 0.03 loss_mask: 0.08 loss_objectness: 0.00 loss_rpn_box_reg: 0.00: 100%|██████████| 8/8 [00:08<00:00,  1.04s/it]\n",
      "Epoch: 11, lr: 1e-05, loss_classifier: 0.02 loss_box_reg: 0.03 loss_mask: 0.08 loss_objectness: 0.00 loss_rpn_box_reg: 0.00: 100%|██████████| 8/8 [00:08<00:00,  1.04s/it]\n",
      "Epoch: 12, lr: 1e-05, loss_classifier: 0.02 loss_box_reg: 0.03 loss_mask: 0.08 loss_objectness: 0.00 loss_rpn_box_reg: 0.00: 100%|██████████| 8/8 [00:08<00:00,  1.04s/it]\n"
     ]
    },
    {
     "name": "stdout",
     "output_type": "stream",
     "text": [
      "Save model at epoch 12.\n"
     ]
    },
    {
     "name": "stderr",
     "output_type": "stream",
     "text": [
      "  0%|          | 0/8 [00:00<?, ?it/s]"
     ]
    },
    {
     "name": "stdout",
     "output_type": "stream",
     "text": [
      "model\\Mask R-CNN\\test-2-divide-4\\2021-12-13 00-05-35-epoch-12.pkl\n"
     ]
    },
    {
     "name": "stderr",
     "output_type": "stream",
     "text": [
      "Epoch: 13, lr: 1e-05, loss_classifier: 0.02 loss_box_reg: 0.03 loss_mask: 0.08 loss_objectness: 0.00 loss_rpn_box_reg: 0.00: 100%|██████████| 8/8 [00:08<00:00,  1.04s/it]\n"
     ]
    },
    {
     "name": "stdout",
     "output_type": "stream",
     "text": [
      "Save model at epoch 13.\n"
     ]
    },
    {
     "name": "stderr",
     "output_type": "stream",
     "text": [
      "  0%|          | 0/8 [00:00<?, ?it/s]"
     ]
    },
    {
     "name": "stdout",
     "output_type": "stream",
     "text": [
      "model\\Mask R-CNN\\test-2-divide-4\\2021-12-13 00-05-35-epoch-13.pkl\n"
     ]
    },
    {
     "name": "stderr",
     "output_type": "stream",
     "text": [
      "Epoch: 14, lr: 1e-05, loss_classifier: 0.02 loss_box_reg: 0.03 loss_mask: 0.08 loss_objectness: 0.00 loss_rpn_box_reg: 0.00: 100%|██████████| 8/8 [00:08<00:00,  1.05s/it]\n",
      "Epoch: 15, lr: 1e-05, loss_classifier: 0.02 loss_box_reg: 0.03 loss_mask: 0.08 loss_objectness: 0.00 loss_rpn_box_reg: 0.00: 100%|██████████| 8/8 [00:08<00:00,  1.04s/it]\n",
      "Epoch: 16, lr: 1e-05, loss_classifier: 0.02 loss_box_reg: 0.03 loss_mask: 0.08 loss_objectness: 0.00 loss_rpn_box_reg: 0.00: 100%|██████████| 8/8 [00:08<00:00,  1.04s/it]\n",
      "Epoch: 17, lr: 1e-05, loss_classifier: 0.02 loss_box_reg: 0.03 loss_mask: 0.08 loss_objectness: 0.00 loss_rpn_box_reg: 0.00: 100%|██████████| 8/8 [00:08<00:00,  1.05s/it]\n"
     ]
    },
    {
     "name": "stdout",
     "output_type": "stream",
     "text": [
      "Save model at epoch 17.\n"
     ]
    },
    {
     "name": "stderr",
     "output_type": "stream",
     "text": [
      "  0%|          | 0/8 [00:00<?, ?it/s]"
     ]
    },
    {
     "name": "stdout",
     "output_type": "stream",
     "text": [
      "model\\Mask R-CNN\\test-2-divide-4\\2021-12-13 00-05-35-epoch-17.pkl\n"
     ]
    },
    {
     "name": "stderr",
     "output_type": "stream",
     "text": [
      "Epoch: 18, lr: 1e-05, loss_classifier: 0.02 loss_box_reg: 0.03 loss_mask: 0.08 loss_objectness: 0.00 loss_rpn_box_reg: 0.00: 100%|██████████| 8/8 [00:08<00:00,  1.03s/it]\n"
     ]
    },
    {
     "name": "stdout",
     "output_type": "stream",
     "text": [
      "Save model at epoch 18.\n"
     ]
    },
    {
     "name": "stderr",
     "output_type": "stream",
     "text": [
      "  0%|          | 0/8 [00:00<?, ?it/s]"
     ]
    },
    {
     "name": "stdout",
     "output_type": "stream",
     "text": [
      "model\\Mask R-CNN\\test-2-divide-4\\2021-12-13 00-05-35-epoch-18.pkl\n"
     ]
    },
    {
     "name": "stderr",
     "output_type": "stream",
     "text": [
      "Epoch: 19, lr: 1e-05, loss_classifier: 0.02 loss_box_reg: 0.03 loss_mask: 0.08 loss_objectness: 0.00 loss_rpn_box_reg: 0.00: 100%|██████████| 8/8 [00:08<00:00,  1.05s/it]\n",
      "Epoch: 20, lr: 1e-05, loss_classifier: 0.02 loss_box_reg: 0.03 loss_mask: 0.08 loss_objectness: 0.00 loss_rpn_box_reg: 0.00: 100%|██████████| 8/8 [00:08<00:00,  1.03s/it]\n"
     ]
    },
    {
     "name": "stdout",
     "output_type": "stream",
     "text": [
      "Save model at epoch 20.\n"
     ]
    },
    {
     "name": "stderr",
     "output_type": "stream",
     "text": [
      "  0%|          | 0/8 [00:00<?, ?it/s]"
     ]
    },
    {
     "name": "stdout",
     "output_type": "stream",
     "text": [
      "model\\Mask R-CNN\\test-2-divide-4\\2021-12-13 00-05-35-epoch-20.pkl\n"
     ]
    },
    {
     "name": "stderr",
     "output_type": "stream",
     "text": [
      "Epoch: 21, lr: 1e-05, loss_classifier: 0.02 loss_box_reg: 0.02 loss_mask: 0.07 loss_objectness: 0.00 loss_rpn_box_reg: 0.00: 100%|██████████| 8/8 [00:08<00:00,  1.04s/it]\n"
     ]
    },
    {
     "name": "stdout",
     "output_type": "stream",
     "text": [
      "Save model at epoch 21.\n"
     ]
    },
    {
     "name": "stderr",
     "output_type": "stream",
     "text": [
      "  0%|          | 0/8 [00:00<?, ?it/s]"
     ]
    },
    {
     "name": "stdout",
     "output_type": "stream",
     "text": [
      "model\\Mask R-CNN\\test-2-divide-4\\2021-12-13 00-05-35-epoch-21.pkl\n"
     ]
    },
    {
     "name": "stderr",
     "output_type": "stream",
     "text": [
      "Epoch: 22, lr: 1e-05, loss_classifier: 0.02 loss_box_reg: 0.02 loss_mask: 0.07 loss_objectness: 0.00 loss_rpn_box_reg: 0.00: 100%|██████████| 8/8 [00:08<00:00,  1.05s/it]\n",
      "Epoch: 23, lr: 1e-05, loss_classifier: 0.02 loss_box_reg: 0.02 loss_mask: 0.07 loss_objectness: 0.00 loss_rpn_box_reg: 0.00: 100%|██████████| 8/8 [00:08<00:00,  1.05s/it]\n",
      "Epoch: 24, lr: 1e-05, loss_classifier: 0.01 loss_box_reg: 0.02 loss_mask: 0.07 loss_objectness: 0.00 loss_rpn_box_reg: 0.00: 100%|██████████| 8/8 [00:08<00:00,  1.04s/it]\n"
     ]
    },
    {
     "name": "stdout",
     "output_type": "stream",
     "text": [
      "Save model at epoch 24.\n"
     ]
    },
    {
     "name": "stderr",
     "output_type": "stream",
     "text": [
      "  0%|          | 0/8 [00:00<?, ?it/s]"
     ]
    },
    {
     "name": "stdout",
     "output_type": "stream",
     "text": [
      "model\\Mask R-CNN\\test-2-divide-4\\2021-12-13 00-05-35-epoch-24.pkl\n"
     ]
    },
    {
     "name": "stderr",
     "output_type": "stream",
     "text": [
      "Epoch: 25, lr: 1e-05, loss_classifier: 0.02 loss_box_reg: 0.02 loss_mask: 0.07 loss_objectness: 0.00 loss_rpn_box_reg: 0.00: 100%|██████████| 8/8 [00:08<00:00,  1.04s/it]\n",
      "Epoch: 26, lr: 1e-05, loss_classifier: 0.01 loss_box_reg: 0.02 loss_mask: 0.07 loss_objectness: 0.00 loss_rpn_box_reg: 0.00: 100%|██████████| 8/8 [00:08<00:00,  1.04s/it]\n"
     ]
    },
    {
     "name": "stdout",
     "output_type": "stream",
     "text": [
      "Save model at epoch 26.\n"
     ]
    },
    {
     "name": "stderr",
     "output_type": "stream",
     "text": [
      "  0%|          | 0/8 [00:00<?, ?it/s]"
     ]
    },
    {
     "name": "stdout",
     "output_type": "stream",
     "text": [
      "model\\Mask R-CNN\\test-2-divide-4\\2021-12-13 00-05-35-epoch-26.pkl\n"
     ]
    },
    {
     "name": "stderr",
     "output_type": "stream",
     "text": [
      "Epoch: 27, lr: 1e-05, loss_classifier: 0.01 loss_box_reg: 0.02 loss_mask: 0.07 loss_objectness: 0.00 loss_rpn_box_reg: 0.00: 100%|██████████| 8/8 [00:08<00:00,  1.02s/it]\n"
     ]
    },
    {
     "name": "stdout",
     "output_type": "stream",
     "text": [
      "Save model at epoch 27.\n"
     ]
    },
    {
     "name": "stderr",
     "output_type": "stream",
     "text": [
      "  0%|          | 0/8 [00:00<?, ?it/s]"
     ]
    },
    {
     "name": "stdout",
     "output_type": "stream",
     "text": [
      "model\\Mask R-CNN\\test-2-divide-4\\2021-12-13 00-05-35-epoch-27.pkl\n"
     ]
    },
    {
     "name": "stderr",
     "output_type": "stream",
     "text": [
      "Epoch: 28, lr: 1e-05, loss_classifier: 0.01 loss_box_reg: 0.02 loss_mask: 0.07 loss_objectness: 0.00 loss_rpn_box_reg: 0.00: 100%|██████████| 8/8 [00:08<00:00,  1.05s/it]\n",
      "Epoch: 29, lr: 1e-05, loss_classifier: 0.02 loss_box_reg: 0.02 loss_mask: 0.07 loss_objectness: 0.00 loss_rpn_box_reg: 0.00: 100%|██████████| 8/8 [00:08<00:00,  1.04s/it]\n",
      "Epoch: 30, lr: 1e-05, loss_classifier: 0.02 loss_box_reg: 0.02 loss_mask: 0.07 loss_objectness: 0.00 loss_rpn_box_reg: 0.00: 100%|██████████| 8/8 [00:08<00:00,  1.04s/it]\n",
      "Epoch: 31, lr: 1e-05, loss_classifier: 0.02 loss_box_reg: 0.02 loss_mask: 0.07 loss_objectness: 0.00 loss_rpn_box_reg: 0.00: 100%|██████████| 8/8 [00:08<00:00,  1.03s/it]\n",
      "Epoch: 32, lr: 1e-05, loss_classifier: 0.02 loss_box_reg: 0.02 loss_mask: 0.07 loss_objectness: 0.00 loss_rpn_box_reg: 0.00: 100%|██████████| 8/8 [00:08<00:00,  1.05s/it]\n"
     ]
    },
    {
     "name": "stdout",
     "output_type": "stream",
     "text": [
      "Save model at epoch 32.\n"
     ]
    },
    {
     "name": "stderr",
     "output_type": "stream",
     "text": [
      "  0%|          | 0/8 [00:00<?, ?it/s]"
     ]
    },
    {
     "name": "stdout",
     "output_type": "stream",
     "text": [
      "model\\Mask R-CNN\\test-2-divide-4\\2021-12-13 00-05-35-epoch-32.pkl\n"
     ]
    },
    {
     "name": "stderr",
     "output_type": "stream",
     "text": [
      "Epoch: 33, lr: 1e-05, loss_classifier: 0.02 loss_box_reg: 0.02 loss_mask: 0.07 loss_objectness: 0.00 loss_rpn_box_reg: 0.00: 100%|██████████| 8/8 [00:08<00:00,  1.04s/it]\n"
     ]
    },
    {
     "name": "stdout",
     "output_type": "stream",
     "text": [
      "Save model at epoch 33.\n"
     ]
    },
    {
     "name": "stderr",
     "output_type": "stream",
     "text": [
      "  0%|          | 0/8 [00:00<?, ?it/s]"
     ]
    },
    {
     "name": "stdout",
     "output_type": "stream",
     "text": [
      "model\\Mask R-CNN\\test-2-divide-4\\2021-12-13 00-05-35-epoch-33.pkl\n"
     ]
    },
    {
     "name": "stderr",
     "output_type": "stream",
     "text": [
      "Epoch: 34, lr: 1e-05, loss_classifier: 0.02 loss_box_reg: 0.02 loss_mask: 0.07 loss_objectness: 0.00 loss_rpn_box_reg: 0.00: 100%|██████████| 8/8 [00:08<00:00,  1.04s/it]\n",
      "Epoch: 35, lr: 1e-05, loss_classifier: 0.01 loss_box_reg: 0.02 loss_mask: 0.07 loss_objectness: 0.00 loss_rpn_box_reg: 0.00: 100%|██████████| 8/8 [00:08<00:00,  1.05s/it]\n",
      "Epoch: 36, lr: 1e-05, loss_classifier: 0.02 loss_box_reg: 0.02 loss_mask: 0.07 loss_objectness: 0.00 loss_rpn_box_reg: 0.00: 100%|██████████| 8/8 [00:08<00:00,  1.04s/it]\n",
      "Epoch: 37, lr: 1e-05, loss_classifier: 0.01 loss_box_reg: 0.02 loss_mask: 0.07 loss_objectness: 0.00 loss_rpn_box_reg: 0.00: 100%|██████████| 8/8 [00:08<00:00,  1.03s/it]\n"
     ]
    },
    {
     "name": "stdout",
     "output_type": "stream",
     "text": [
      "Save model at epoch 37.\n"
     ]
    },
    {
     "name": "stderr",
     "output_type": "stream",
     "text": [
      "  0%|          | 0/8 [00:00<?, ?it/s]"
     ]
    },
    {
     "name": "stdout",
     "output_type": "stream",
     "text": [
      "model\\Mask R-CNN\\test-2-divide-4\\2021-12-13 00-05-35-epoch-37.pkl\n"
     ]
    },
    {
     "name": "stderr",
     "output_type": "stream",
     "text": [
      "Epoch: 38, lr: 1e-05, loss_classifier: 0.02 loss_box_reg: 0.02 loss_mask: 0.07 loss_objectness: 0.00 loss_rpn_box_reg: 0.00: 100%|██████████| 8/8 [00:08<00:00,  1.04s/it]\n",
      "Epoch: 39, lr: 1e-05, loss_classifier: 0.01 loss_box_reg: 0.02 loss_mask: 0.07 loss_objectness: 0.00 loss_rpn_box_reg: 0.00: 100%|██████████| 8/8 [00:08<00:00,  1.04s/it]\n",
      "Epoch: 40, lr: 1e-05, loss_classifier: 0.01 loss_box_reg: 0.02 loss_mask: 0.07 loss_objectness: 0.00 loss_rpn_box_reg: 0.00: 100%|██████████| 8/8 [00:08<00:00,  1.05s/it]\n"
     ]
    },
    {
     "name": "stdout",
     "output_type": "stream",
     "text": [
      "Save model at epoch 40.\n"
     ]
    },
    {
     "name": "stderr",
     "output_type": "stream",
     "text": [
      "  0%|          | 0/8 [00:00<?, ?it/s]"
     ]
    },
    {
     "name": "stdout",
     "output_type": "stream",
     "text": [
      "model\\Mask R-CNN\\test-2-divide-4\\2021-12-13 00-05-35-epoch-40.pkl\n"
     ]
    },
    {
     "name": "stderr",
     "output_type": "stream",
     "text": [
      "Epoch: 41, lr: 1e-05, loss_classifier: 0.01 loss_box_reg: 0.02 loss_mask: 0.07 loss_objectness: 0.00 loss_rpn_box_reg: 0.00: 100%|██████████| 8/8 [00:08<00:00,  1.04s/it]\n",
      "Epoch: 42, lr: 1e-05, loss_classifier: 0.02 loss_box_reg: 0.02 loss_mask: 0.07 loss_objectness: 0.00 loss_rpn_box_reg: 0.00: 100%|██████████| 8/8 [00:08<00:00,  1.04s/it]\n",
      "Epoch: 43, lr: 1e-05, loss_classifier: 0.02 loss_box_reg: 0.02 loss_mask: 0.07 loss_objectness: 0.00 loss_rpn_box_reg: 0.00: 100%|██████████| 8/8 [00:08<00:00,  1.05s/it]\n",
      "Epoch: 44, lr: 1e-05, loss_classifier: 0.02 loss_box_reg: 0.02 loss_mask: 0.07 loss_objectness: 0.00 loss_rpn_box_reg: 0.00: 100%|██████████| 8/8 [00:08<00:00,  1.03s/it]\n",
      "Epoch: 45, lr: 1e-05, loss_classifier: 0.02 loss_box_reg: 0.02 loss_mask: 0.07 loss_objectness: 0.00 loss_rpn_box_reg: 0.00: 100%|██████████| 8/8 [00:08<00:00,  1.03s/it]\n",
      "Epoch: 46, lr: 1e-05, loss_classifier: 0.02 loss_box_reg: 0.02 loss_mask: 0.07 loss_objectness: 0.00 loss_rpn_box_reg: 0.00: 100%|██████████| 8/8 [00:08<00:00,  1.05s/it]\n",
      "Epoch: 47, lr: 1e-05, loss_classifier: 0.01 loss_box_reg: 0.02 loss_mask: 0.07 loss_objectness: 0.00 loss_rpn_box_reg: 0.00: 100%|██████████| 8/8 [00:08<00:00,  1.03s/it]\n",
      "Epoch: 48, lr: 1e-05, loss_classifier: 0.01 loss_box_reg: 0.02 loss_mask: 0.07 loss_objectness: 0.00 loss_rpn_box_reg: 0.00: 100%|██████████| 8/8 [00:08<00:00,  1.03s/it]\n"
     ]
    },
    {
     "name": "stdout",
     "output_type": "stream",
     "text": [
      "Save model at epoch 48.\n"
     ]
    },
    {
     "name": "stderr",
     "output_type": "stream",
     "text": [
      "  0%|          | 0/8 [00:00<?, ?it/s]"
     ]
    },
    {
     "name": "stdout",
     "output_type": "stream",
     "text": [
      "model\\Mask R-CNN\\test-2-divide-4\\2021-12-13 00-05-35-epoch-48.pkl\n"
     ]
    },
    {
     "name": "stderr",
     "output_type": "stream",
     "text": [
      "Epoch: 49, lr: 1e-05, loss_classifier: 0.01 loss_box_reg: 0.02 loss_mask: 0.07 loss_objectness: 0.00 loss_rpn_box_reg: 0.00: 100%|██████████| 8/8 [00:08<00:00,  1.04s/it]\n",
      "Epoch: 50, lr: 1e-05, loss_classifier: 0.01 loss_box_reg: 0.02 loss_mask: 0.07 loss_objectness: 0.00 loss_rpn_box_reg: 0.00: 100%|██████████| 8/8 [00:08<00:00,  1.04s/it]\n",
      "Epoch: 51, lr: 1e-05, loss_classifier: 0.01 loss_box_reg: 0.02 loss_mask: 0.07 loss_objectness: 0.00 loss_rpn_box_reg: 0.00: 100%|██████████| 8/8 [00:08<00:00,  1.04s/it]\n",
      "Epoch: 52, lr: 1e-05, loss_classifier: 0.01 loss_box_reg: 0.02 loss_mask: 0.07 loss_objectness: 0.00 loss_rpn_box_reg: 0.00: 100%|██████████| 8/8 [00:08<00:00,  1.04s/it]\n"
     ]
    },
    {
     "name": "stdout",
     "output_type": "stream",
     "text": [
      "Save model at epoch 52.\n"
     ]
    },
    {
     "name": "stderr",
     "output_type": "stream",
     "text": [
      "  0%|          | 0/8 [00:00<?, ?it/s]"
     ]
    },
    {
     "name": "stdout",
     "output_type": "stream",
     "text": [
      "model\\Mask R-CNN\\test-2-divide-4\\2021-12-13 00-05-35-epoch-52.pkl\n"
     ]
    },
    {
     "name": "stderr",
     "output_type": "stream",
     "text": [
      "Epoch: 53, lr: 1e-05, loss_classifier: 0.01 loss_box_reg: 0.02 loss_mask: 0.07 loss_objectness: 0.00 loss_rpn_box_reg: 0.00: 100%|██████████| 8/8 [00:08<00:00,  1.04s/it]\n"
     ]
    },
    {
     "name": "stdout",
     "output_type": "stream",
     "text": [
      "Save model at epoch 53.\n"
     ]
    },
    {
     "name": "stderr",
     "output_type": "stream",
     "text": [
      "  0%|          | 0/8 [00:00<?, ?it/s]"
     ]
    },
    {
     "name": "stdout",
     "output_type": "stream",
     "text": [
      "model\\Mask R-CNN\\test-2-divide-4\\2021-12-13 00-05-35-epoch-53.pkl\n"
     ]
    },
    {
     "name": "stderr",
     "output_type": "stream",
     "text": [
      "Epoch: 54, lr: 1e-05, loss_classifier: 0.01 loss_box_reg: 0.02 loss_mask: 0.07 loss_objectness: 0.00 loss_rpn_box_reg: 0.00: 100%|██████████| 8/8 [00:08<00:00,  1.04s/it]\n",
      "Epoch: 55, lr: 1e-05, loss_classifier: 0.01 loss_box_reg: 0.02 loss_mask: 0.07 loss_objectness: 0.00 loss_rpn_box_reg: 0.00: 100%|██████████| 8/8 [00:08<00:00,  1.05s/it]\n"
     ]
    },
    {
     "name": "stdout",
     "output_type": "stream",
     "text": [
      "Save model at epoch 55.\n"
     ]
    },
    {
     "name": "stderr",
     "output_type": "stream",
     "text": [
      "  0%|          | 0/8 [00:00<?, ?it/s]"
     ]
    },
    {
     "name": "stdout",
     "output_type": "stream",
     "text": [
      "model\\Mask R-CNN\\test-2-divide-4\\2021-12-13 00-05-35-epoch-55.pkl\n"
     ]
    },
    {
     "name": "stderr",
     "output_type": "stream",
     "text": [
      "Epoch: 56, lr: 1e-05, loss_classifier: 0.01 loss_box_reg: 0.02 loss_mask: 0.07 loss_objectness: 0.00 loss_rpn_box_reg: 0.00: 100%|██████████| 8/8 [00:08<00:00,  1.04s/it]\n",
      "Epoch: 57, lr: 1e-05, loss_classifier: 0.01 loss_box_reg: 0.02 loss_mask: 0.07 loss_objectness: 0.00 loss_rpn_box_reg: 0.00: 100%|██████████| 8/8 [00:08<00:00,  1.04s/it]\n"
     ]
    },
    {
     "name": "stdout",
     "output_type": "stream",
     "text": [
      "Save model at epoch 57.\n"
     ]
    },
    {
     "name": "stderr",
     "output_type": "stream",
     "text": [
      "  0%|          | 0/8 [00:00<?, ?it/s]"
     ]
    },
    {
     "name": "stdout",
     "output_type": "stream",
     "text": [
      "model\\Mask R-CNN\\test-2-divide-4\\2021-12-13 00-05-35-epoch-57.pkl\n"
     ]
    },
    {
     "name": "stderr",
     "output_type": "stream",
     "text": [
      "Epoch: 58, lr: 1e-05, loss_classifier: 0.01 loss_box_reg: 0.02 loss_mask: 0.07 loss_objectness: 0.00 loss_rpn_box_reg: 0.00: 100%|██████████| 8/8 [00:08<00:00,  1.04s/it]\n",
      "Epoch: 59, lr: 1e-05, loss_classifier: 0.01 loss_box_reg: 0.02 loss_mask: 0.07 loss_objectness: 0.00 loss_rpn_box_reg: 0.00: 100%|██████████| 8/8 [00:08<00:00,  1.04s/it]\n",
      "Epoch: 60, lr: 1e-05, loss_classifier: 0.01 loss_box_reg: 0.02 loss_mask: 0.07 loss_objectness: 0.00 loss_rpn_box_reg: 0.00: 100%|██████████| 8/8 [00:08<00:00,  1.04s/it]\n",
      "Epoch: 61, lr: 1e-06, loss_classifier: 0.01 loss_box_reg: 0.02 loss_mask: 0.07 loss_objectness: 0.00 loss_rpn_box_reg: 0.00: 100%|██████████| 8/8 [00:08<00:00,  1.04s/it]\n"
     ]
    },
    {
     "name": "stdout",
     "output_type": "stream",
     "text": [
      "Save model at epoch 61.\n"
     ]
    },
    {
     "name": "stderr",
     "output_type": "stream",
     "text": [
      "  0%|          | 0/8 [00:00<?, ?it/s]"
     ]
    },
    {
     "name": "stdout",
     "output_type": "stream",
     "text": [
      "model\\Mask R-CNN\\test-2-divide-4\\2021-12-13 00-05-35-epoch-61.pkl\n"
     ]
    },
    {
     "name": "stderr",
     "output_type": "stream",
     "text": [
      "Epoch: 62, lr: 1e-06, loss_classifier: 0.01 loss_box_reg: 0.02 loss_mask: 0.07 loss_objectness: 0.00 loss_rpn_box_reg: 0.00: 100%|██████████| 8/8 [00:08<00:00,  1.04s/it]\n"
     ]
    },
    {
     "name": "stdout",
     "output_type": "stream",
     "text": [
      "Save model at epoch 62.\n"
     ]
    },
    {
     "name": "stderr",
     "output_type": "stream",
     "text": [
      "  0%|          | 0/8 [00:00<?, ?it/s]"
     ]
    },
    {
     "name": "stdout",
     "output_type": "stream",
     "text": [
      "model\\Mask R-CNN\\test-2-divide-4\\2021-12-13 00-05-35-epoch-62.pkl\n"
     ]
    },
    {
     "name": "stderr",
     "output_type": "stream",
     "text": [
      "Epoch: 63, lr: 1e-06, loss_classifier: 0.01 loss_box_reg: 0.02 loss_mask: 0.07 loss_objectness: 0.00 loss_rpn_box_reg: 0.00: 100%|██████████| 8/8 [00:08<00:00,  1.04s/it]\n",
      "Epoch: 64, lr: 1e-06, loss_classifier: 0.01 loss_box_reg: 0.01 loss_mask: 0.07 loss_objectness: 0.00 loss_rpn_box_reg: 0.00: 100%|██████████| 8/8 [00:08<00:00,  1.04s/it]\n"
     ]
    },
    {
     "name": "stdout",
     "output_type": "stream",
     "text": [
      "Save model at epoch 64.\n"
     ]
    },
    {
     "name": "stderr",
     "output_type": "stream",
     "text": [
      "  0%|          | 0/8 [00:00<?, ?it/s]"
     ]
    },
    {
     "name": "stdout",
     "output_type": "stream",
     "text": [
      "model\\Mask R-CNN\\test-2-divide-4\\2021-12-13 00-05-35-epoch-64.pkl\n"
     ]
    },
    {
     "name": "stderr",
     "output_type": "stream",
     "text": [
      "Epoch: 65, lr: 1e-06, loss_classifier: 0.01 loss_box_reg: 0.01 loss_mask: 0.07 loss_objectness: 0.00 loss_rpn_box_reg: 0.00: 100%|██████████| 8/8 [00:08<00:00,  1.04s/it]\n"
     ]
    },
    {
     "name": "stdout",
     "output_type": "stream",
     "text": [
      "Save model at epoch 65.\n"
     ]
    },
    {
     "name": "stderr",
     "output_type": "stream",
     "text": [
      "  0%|          | 0/8 [00:00<?, ?it/s]"
     ]
    },
    {
     "name": "stdout",
     "output_type": "stream",
     "text": [
      "model\\Mask R-CNN\\test-2-divide-4\\2021-12-13 00-05-35-epoch-65.pkl\n"
     ]
    },
    {
     "name": "stderr",
     "output_type": "stream",
     "text": [
      "Epoch: 66, lr: 1e-06, loss_classifier: 0.01 loss_box_reg: 0.01 loss_mask: 0.07 loss_objectness: 0.00 loss_rpn_box_reg: 0.00: 100%|██████████| 8/8 [00:08<00:00,  1.04s/it]\n",
      "Epoch: 67, lr: 1e-06, loss_classifier: 0.01 loss_box_reg: 0.01 loss_mask: 0.07 loss_objectness: 0.00 loss_rpn_box_reg: 0.00: 100%|██████████| 8/8 [00:08<00:00,  1.03s/it]\n",
      "Epoch: 68, lr: 1e-06, loss_classifier: 0.01 loss_box_reg: 0.01 loss_mask: 0.07 loss_objectness: 0.00 loss_rpn_box_reg: 0.00: 100%|██████████| 8/8 [00:08<00:00,  1.04s/it]\n",
      "Epoch: 69, lr: 1e-06, loss_classifier: 0.01 loss_box_reg: 0.01 loss_mask: 0.07 loss_objectness: 0.00 loss_rpn_box_reg: 0.00: 100%|██████████| 8/8 [00:08<00:00,  1.04s/it]\n"
     ]
    },
    {
     "name": "stdout",
     "output_type": "stream",
     "text": [
      "Save model at epoch 69.\n"
     ]
    },
    {
     "name": "stderr",
     "output_type": "stream",
     "text": [
      "  0%|          | 0/8 [00:00<?, ?it/s]"
     ]
    },
    {
     "name": "stdout",
     "output_type": "stream",
     "text": [
      "model\\Mask R-CNN\\test-2-divide-4\\2021-12-13 00-05-35-epoch-69.pkl\n"
     ]
    },
    {
     "name": "stderr",
     "output_type": "stream",
     "text": [
      "Epoch: 70, lr: 1e-06, loss_classifier: 0.01 loss_box_reg: 0.01 loss_mask: 0.07 loss_objectness: 0.00 loss_rpn_box_reg: 0.00: 100%|██████████| 8/8 [00:08<00:00,  1.04s/it]\n"
     ]
    },
    {
     "name": "stdout",
     "output_type": "stream",
     "text": [
      "Save model at epoch 70.\n"
     ]
    },
    {
     "name": "stderr",
     "output_type": "stream",
     "text": [
      "  0%|          | 0/8 [00:00<?, ?it/s]"
     ]
    },
    {
     "name": "stdout",
     "output_type": "stream",
     "text": [
      "model\\Mask R-CNN\\test-2-divide-4\\2021-12-13 00-05-35-epoch-70.pkl\n"
     ]
    },
    {
     "name": "stderr",
     "output_type": "stream",
     "text": [
      "Epoch: 71, lr: 1e-06, loss_classifier: 0.01 loss_box_reg: 0.01 loss_mask: 0.07 loss_objectness: 0.00 loss_rpn_box_reg: 0.00: 100%|██████████| 8/8 [00:08<00:00,  1.04s/it]\n",
      "Epoch: 72, lr: 1e-06, loss_classifier: 0.01 loss_box_reg: 0.01 loss_mask: 0.06 loss_objectness: 0.00 loss_rpn_box_reg: 0.00: 100%|██████████| 8/8 [00:08<00:00,  1.04s/it]\n"
     ]
    },
    {
     "name": "stdout",
     "output_type": "stream",
     "text": [
      "Save model at epoch 72.\n"
     ]
    },
    {
     "name": "stderr",
     "output_type": "stream",
     "text": [
      "  0%|          | 0/8 [00:00<?, ?it/s]"
     ]
    },
    {
     "name": "stdout",
     "output_type": "stream",
     "text": [
      "model\\Mask R-CNN\\test-2-divide-4\\2021-12-13 00-05-35-epoch-72.pkl\n"
     ]
    },
    {
     "name": "stderr",
     "output_type": "stream",
     "text": [
      "Epoch: 73, lr: 1e-06, loss_classifier: 0.01 loss_box_reg: 0.01 loss_mask: 0.07 loss_objectness: 0.00 loss_rpn_box_reg: 0.00: 100%|██████████| 8/8 [00:08<00:00,  1.02s/it]\n",
      "Epoch: 74, lr: 1e-06, loss_classifier: 0.01 loss_box_reg: 0.01 loss_mask: 0.06 loss_objectness: 0.00 loss_rpn_box_reg: 0.00: 100%|██████████| 8/8 [00:08<00:00,  1.03s/it]\n",
      "Epoch: 75, lr: 1e-06, loss_classifier: 0.01 loss_box_reg: 0.01 loss_mask: 0.07 loss_objectness: 0.00 loss_rpn_box_reg: 0.00: 100%|██████████| 8/8 [00:08<00:00,  1.01s/it]\n",
      "Epoch: 76, lr: 1e-06, loss_classifier: 0.01 loss_box_reg: 0.01 loss_mask: 0.07 loss_objectness: 0.00 loss_rpn_box_reg: 0.00: 100%|██████████| 8/8 [00:08<00:00,  1.02s/it]\n"
     ]
    },
    {
     "name": "stdout",
     "output_type": "stream",
     "text": [
      "Save model at epoch 76.\n"
     ]
    },
    {
     "name": "stderr",
     "output_type": "stream",
     "text": [
      "  0%|          | 0/8 [00:00<?, ?it/s]"
     ]
    },
    {
     "name": "stdout",
     "output_type": "stream",
     "text": [
      "model\\Mask R-CNN\\test-2-divide-4\\2021-12-13 00-05-35-epoch-76.pkl\n"
     ]
    },
    {
     "name": "stderr",
     "output_type": "stream",
     "text": [
      "Epoch: 77, lr: 1e-06, loss_classifier: 0.01 loss_box_reg: 0.01 loss_mask: 0.07 loss_objectness: 0.00 loss_rpn_box_reg: 0.00: 100%|██████████| 8/8 [00:07<00:00,  1.00it/s]\n",
      "Epoch: 78, lr: 1e-06, loss_classifier: 0.01 loss_box_reg: 0.01 loss_mask: 0.06 loss_objectness: 0.00 loss_rpn_box_reg: 0.00: 100%|██████████| 8/8 [00:08<00:00,  1.01s/it]\n"
     ]
    },
    {
     "name": "stdout",
     "output_type": "stream",
     "text": [
      "Save model at epoch 78.\n"
     ]
    },
    {
     "name": "stderr",
     "output_type": "stream",
     "text": [
      "  0%|          | 0/8 [00:00<?, ?it/s]"
     ]
    },
    {
     "name": "stdout",
     "output_type": "stream",
     "text": [
      "model\\Mask R-CNN\\test-2-divide-4\\2021-12-13 00-05-35-epoch-78.pkl\n"
     ]
    },
    {
     "name": "stderr",
     "output_type": "stream",
     "text": [
      "Epoch: 79, lr: 1e-06, loss_classifier: 0.01 loss_box_reg: 0.01 loss_mask: 0.06 loss_objectness: 0.00 loss_rpn_box_reg: 0.00: 100%|██████████| 8/8 [00:08<00:00,  1.02s/it]\n",
      "Epoch: 80, lr: 1e-06, loss_classifier: 0.01 loss_box_reg: 0.01 loss_mask: 0.06 loss_objectness: 0.00 loss_rpn_box_reg: 0.00: 100%|██████████| 8/8 [00:07<00:00,  1.00it/s]\n",
      "Epoch: 81, lr: 1e-06, loss_classifier: 0.01 loss_box_reg: 0.01 loss_mask: 0.07 loss_objectness: 0.00 loss_rpn_box_reg: 0.00: 100%|██████████| 8/8 [00:07<00:00,  1.00it/s]\n",
      "Epoch: 82, lr: 1e-06, loss_classifier: 0.01 loss_box_reg: 0.01 loss_mask: 0.06 loss_objectness: 0.00 loss_rpn_box_reg: 0.00: 100%|██████████| 8/8 [00:07<00:00,  1.00it/s]\n",
      "Epoch: 83, lr: 1e-06, loss_classifier: 0.01 loss_box_reg: 0.01 loss_mask: 0.07 loss_objectness: 0.00 loss_rpn_box_reg: 0.00: 100%|██████████| 8/8 [00:08<00:00,  1.03s/it]\n",
      "Epoch: 84, lr: 1e-06, loss_classifier: 0.01 loss_box_reg: 0.01 loss_mask: 0.07 loss_objectness: 0.00 loss_rpn_box_reg: 0.00: 100%|██████████| 8/8 [00:08<00:00,  1.04s/it]\n",
      "Epoch: 85, lr: 1e-06, loss_classifier: 0.01 loss_box_reg: 0.01 loss_mask: 0.06 loss_objectness: 0.00 loss_rpn_box_reg: 0.00: 100%|██████████| 8/8 [00:08<00:00,  1.03s/it]\n"
     ]
    },
    {
     "name": "stdout",
     "output_type": "stream",
     "text": [
      "Save model at epoch 85.\n"
     ]
    },
    {
     "name": "stderr",
     "output_type": "stream",
     "text": [
      "  0%|          | 0/8 [00:00<?, ?it/s]"
     ]
    },
    {
     "name": "stdout",
     "output_type": "stream",
     "text": [
      "model\\Mask R-CNN\\test-2-divide-4\\2021-12-13 00-05-35-epoch-85.pkl\n"
     ]
    },
    {
     "name": "stderr",
     "output_type": "stream",
     "text": [
      "Epoch: 86, lr: 1e-06, loss_classifier: 0.01 loss_box_reg: 0.01 loss_mask: 0.07 loss_objectness: 0.00 loss_rpn_box_reg: 0.00: 100%|██████████| 8/8 [00:08<00:00,  1.04s/it]\n",
      "Epoch: 87, lr: 1e-06, loss_classifier: 0.01 loss_box_reg: 0.01 loss_mask: 0.07 loss_objectness: 0.00 loss_rpn_box_reg: 0.00: 100%|██████████| 8/8 [00:08<00:00,  1.05s/it]\n",
      "Epoch: 88, lr: 1e-06, loss_classifier: 0.01 loss_box_reg: 0.01 loss_mask: 0.07 loss_objectness: 0.00 loss_rpn_box_reg: 0.00: 100%|██████████| 8/8 [00:08<00:00,  1.05s/it]\n",
      "Epoch: 89, lr: 1e-06, loss_classifier: 0.01 loss_box_reg: 0.01 loss_mask: 0.06 loss_objectness: 0.00 loss_rpn_box_reg: 0.00: 100%|██████████| 8/8 [00:08<00:00,  1.04s/it]\n",
      "Epoch: 90, lr: 1e-06, loss_classifier: 0.01 loss_box_reg: 0.01 loss_mask: 0.07 loss_objectness: 0.00 loss_rpn_box_reg: 0.00: 100%|██████████| 8/8 [00:08<00:00,  1.03s/it]\n",
      "Epoch: 91, lr: 1e-06, loss_classifier: 0.01 loss_box_reg: 0.01 loss_mask: 0.07 loss_objectness: 0.00 loss_rpn_box_reg: 0.00: 100%|██████████| 8/8 [00:08<00:00,  1.05s/it]\n",
      "Epoch: 92, lr: 1e-06, loss_classifier: 0.01 loss_box_reg: 0.01 loss_mask: 0.06 loss_objectness: 0.00 loss_rpn_box_reg: 0.00: 100%|██████████| 8/8 [00:08<00:00,  1.05s/it]\n",
      "Epoch: 93, lr: 1e-06, loss_classifier: 0.01 loss_box_reg: 0.01 loss_mask: 0.06 loss_objectness: 0.00 loss_rpn_box_reg: 0.00: 100%|██████████| 8/8 [00:08<00:00,  1.04s/it]\n",
      "Epoch: 94, lr: 1e-06, loss_classifier: 0.01 loss_box_reg: 0.01 loss_mask: 0.06 loss_objectness: 0.00 loss_rpn_box_reg: 0.00: 100%|██████████| 8/8 [00:08<00:00,  1.04s/it]\n",
      "Epoch: 95, lr: 1e-06, loss_classifier: 0.01 loss_box_reg: 0.01 loss_mask: 0.06 loss_objectness: 0.00 loss_rpn_box_reg: 0.00: 100%|██████████| 8/8 [00:08<00:00,  1.04s/it]\n",
      "Epoch: 96, lr: 1e-06, loss_classifier: 0.01 loss_box_reg: 0.01 loss_mask: 0.06 loss_objectness: 0.00 loss_rpn_box_reg: 0.00: 100%|██████████| 8/8 [00:08<00:00,  1.04s/it]\n"
     ]
    },
    {
     "name": "stdout",
     "output_type": "stream",
     "text": [
      "Save model at epoch 96.\n"
     ]
    },
    {
     "name": "stderr",
     "output_type": "stream",
     "text": [
      "  0%|          | 0/8 [00:00<?, ?it/s]"
     ]
    },
    {
     "name": "stdout",
     "output_type": "stream",
     "text": [
      "model\\Mask R-CNN\\test-2-divide-4\\2021-12-13 00-05-35-epoch-96.pkl\n"
     ]
    },
    {
     "name": "stderr",
     "output_type": "stream",
     "text": [
      "Epoch: 97, lr: 1e-06, loss_classifier: 0.01 loss_box_reg: 0.01 loss_mask: 0.07 loss_objectness: 0.00 loss_rpn_box_reg: 0.00: 100%|██████████| 8/8 [00:08<00:00,  1.03s/it]\n",
      "Epoch: 98, lr: 1e-06, loss_classifier: 0.01 loss_box_reg: 0.01 loss_mask: 0.06 loss_objectness: 0.00 loss_rpn_box_reg: 0.00: 100%|██████████| 8/8 [00:08<00:00,  1.04s/it]\n"
     ]
    },
    {
     "name": "stdout",
     "output_type": "stream",
     "text": [
      "Save model at epoch 98.\n"
     ]
    },
    {
     "name": "stderr",
     "output_type": "stream",
     "text": [
      "  0%|          | 0/8 [00:00<?, ?it/s]"
     ]
    },
    {
     "name": "stdout",
     "output_type": "stream",
     "text": [
      "model\\Mask R-CNN\\test-2-divide-4\\2021-12-13 00-05-35-epoch-98.pkl\n"
     ]
    },
    {
     "name": "stderr",
     "output_type": "stream",
     "text": [
      "Epoch: 99, lr: 1e-06, loss_classifier: 0.01 loss_box_reg: 0.01 loss_mask: 0.07 loss_objectness: 0.00 loss_rpn_box_reg: 0.00: 100%|██████████| 8/8 [00:08<00:00,  1.03s/it]\n",
      "Epoch: 100, lr: 1e-06, loss_classifier: 0.01 loss_box_reg: 0.01 loss_mask: 0.07 loss_objectness: 0.00 loss_rpn_box_reg: 0.00: 100%|██████████| 8/8 [00:08<00:00,  1.04s/it]\n",
      "  0%|          | 0/8 [00:00<?, ?it/s]"
     ]
    },
    {
     "name": "stdout",
     "output_type": "stream",
     "text": [
      "True\n",
      "Device: cuda\n"
     ]
    },
    {
     "name": "stderr",
     "output_type": "stream",
     "text": [
      "Epoch: 1, lr: 1e-05, loss_classifier: 0.02 loss_box_reg: 0.02 loss_mask: 0.07 loss_objectness: 0.00 loss_rpn_box_reg: 0.01: 100%|██████████| 8/8 [00:07<00:00,  1.01it/s]\n"
     ]
    },
    {
     "name": "stdout",
     "output_type": "stream",
     "text": [
      "Save model at epoch 1.\n"
     ]
    },
    {
     "name": "stderr",
     "output_type": "stream",
     "text": [
      "  0%|          | 0/8 [00:00<?, ?it/s]"
     ]
    },
    {
     "name": "stdout",
     "output_type": "stream",
     "text": [
      "model\\Mask R-CNN\\test-3-divide-4\\2021-12-13 00-05-35-epoch-1.pkl\n"
     ]
    },
    {
     "name": "stderr",
     "output_type": "stream",
     "text": [
      "Epoch: 2, lr: 1e-05, loss_classifier: 0.03 loss_box_reg: 0.04 loss_mask: 0.07 loss_objectness: 0.00 loss_rpn_box_reg: 0.01: 100%|██████████| 8/8 [00:07<00:00,  1.01it/s]\n",
      "Epoch: 3, lr: 1e-05, loss_classifier: 0.02 loss_box_reg: 0.03 loss_mask: 0.07 loss_objectness: 0.00 loss_rpn_box_reg: 0.01: 100%|██████████| 8/8 [00:07<00:00,  1.00it/s]\n",
      "Epoch: 4, lr: 1e-05, loss_classifier: 0.02 loss_box_reg: 0.03 loss_mask: 0.07 loss_objectness: 0.00 loss_rpn_box_reg: 0.01: 100%|██████████| 8/8 [00:07<00:00,  1.01it/s]\n",
      "Epoch: 5, lr: 1e-05, loss_classifier: 0.02 loss_box_reg: 0.03 loss_mask: 0.07 loss_objectness: 0.00 loss_rpn_box_reg: 0.01: 100%|██████████| 8/8 [00:07<00:00,  1.00it/s]\n",
      "Epoch: 6, lr: 1e-05, loss_classifier: 0.02 loss_box_reg: 0.03 loss_mask: 0.07 loss_objectness: 0.00 loss_rpn_box_reg: 0.01: 100%|██████████| 8/8 [00:07<00:00,  1.01it/s]\n",
      "Epoch: 7, lr: 1e-05, loss_classifier: 0.02 loss_box_reg: 0.03 loss_mask: 0.07 loss_objectness: 0.00 loss_rpn_box_reg: 0.01: 100%|██████████| 8/8 [00:07<00:00,  1.00it/s]\n",
      "Epoch: 8, lr: 1e-05, loss_classifier: 0.02 loss_box_reg: 0.03 loss_mask: 0.07 loss_objectness: 0.00 loss_rpn_box_reg: 0.01: 100%|██████████| 8/8 [00:07<00:00,  1.00it/s]\n",
      "Epoch: 9, lr: 1e-05, loss_classifier: 0.02 loss_box_reg: 0.02 loss_mask: 0.07 loss_objectness: 0.00 loss_rpn_box_reg: 0.01: 100%|██████████| 8/8 [00:08<00:00,  1.00s/it]\n"
     ]
    },
    {
     "name": "stdout",
     "output_type": "stream",
     "text": [
      "Save model at epoch 9.\n"
     ]
    },
    {
     "name": "stderr",
     "output_type": "stream",
     "text": [
      "  0%|          | 0/8 [00:00<?, ?it/s]"
     ]
    },
    {
     "name": "stdout",
     "output_type": "stream",
     "text": [
      "model\\Mask R-CNN\\test-3-divide-4\\2021-12-13 00-05-35-epoch-9.pkl\n"
     ]
    },
    {
     "name": "stderr",
     "output_type": "stream",
     "text": [
      "Epoch: 10, lr: 1e-05, loss_classifier: 0.02 loss_box_reg: 0.02 loss_mask: 0.07 loss_objectness: 0.00 loss_rpn_box_reg: 0.01: 100%|██████████| 8/8 [00:08<00:00,  1.00s/it]\n"
     ]
    },
    {
     "name": "stdout",
     "output_type": "stream",
     "text": [
      "Save model at epoch 10.\n"
     ]
    },
    {
     "name": "stderr",
     "output_type": "stream",
     "text": [
      "  0%|          | 0/8 [00:00<?, ?it/s]"
     ]
    },
    {
     "name": "stdout",
     "output_type": "stream",
     "text": [
      "model\\Mask R-CNN\\test-3-divide-4\\2021-12-13 00-05-35-epoch-10.pkl\n"
     ]
    },
    {
     "name": "stderr",
     "output_type": "stream",
     "text": [
      "Epoch: 11, lr: 1e-05, loss_classifier: 0.02 loss_box_reg: 0.02 loss_mask: 0.07 loss_objectness: 0.00 loss_rpn_box_reg: 0.01: 100%|██████████| 8/8 [00:07<00:00,  1.01it/s]\n"
     ]
    },
    {
     "name": "stdout",
     "output_type": "stream",
     "text": [
      "Save model at epoch 11.\n"
     ]
    },
    {
     "name": "stderr",
     "output_type": "stream",
     "text": [
      "  0%|          | 0/8 [00:00<?, ?it/s]"
     ]
    },
    {
     "name": "stdout",
     "output_type": "stream",
     "text": [
      "model\\Mask R-CNN\\test-3-divide-4\\2021-12-13 00-05-35-epoch-11.pkl\n"
     ]
    },
    {
     "name": "stderr",
     "output_type": "stream",
     "text": [
      "Epoch: 12, lr: 1e-05, loss_classifier: 0.02 loss_box_reg: 0.02 loss_mask: 0.07 loss_objectness: 0.00 loss_rpn_box_reg: 0.01: 100%|██████████| 8/8 [00:08<00:00,  1.01s/it]\n"
     ]
    },
    {
     "name": "stdout",
     "output_type": "stream",
     "text": [
      "Save model at epoch 12.\n"
     ]
    },
    {
     "name": "stderr",
     "output_type": "stream",
     "text": [
      "  0%|          | 0/8 [00:00<?, ?it/s]"
     ]
    },
    {
     "name": "stdout",
     "output_type": "stream",
     "text": [
      "model\\Mask R-CNN\\test-3-divide-4\\2021-12-13 00-05-35-epoch-12.pkl\n"
     ]
    },
    {
     "name": "stderr",
     "output_type": "stream",
     "text": [
      "Epoch: 13, lr: 1e-05, loss_classifier: 0.02 loss_box_reg: 0.02 loss_mask: 0.07 loss_objectness: 0.00 loss_rpn_box_reg: 0.01: 100%|██████████| 8/8 [00:07<00:00,  1.00it/s]\n",
      "Epoch: 14, lr: 1e-05, loss_classifier: 0.02 loss_box_reg: 0.02 loss_mask: 0.07 loss_objectness: 0.00 loss_rpn_box_reg: 0.01: 100%|██████████| 8/8 [00:07<00:00,  1.01it/s]\n",
      "Epoch: 15, lr: 1e-05, loss_classifier: 0.02 loss_box_reg: 0.02 loss_mask: 0.07 loss_objectness: 0.00 loss_rpn_box_reg: 0.01: 100%|██████████| 8/8 [00:07<00:00,  1.03it/s]\n",
      "Epoch: 16, lr: 1e-05, loss_classifier: 0.02 loss_box_reg: 0.02 loss_mask: 0.07 loss_objectness: 0.00 loss_rpn_box_reg: 0.01: 100%|██████████| 8/8 [00:07<00:00,  1.03it/s]\n",
      "Epoch: 17, lr: 1e-05, loss_classifier: 0.02 loss_box_reg: 0.02 loss_mask: 0.07 loss_objectness: 0.00 loss_rpn_box_reg: 0.01: 100%|██████████| 8/8 [00:07<00:00,  1.01it/s]\n",
      "Epoch: 18, lr: 1e-05, loss_classifier: 0.02 loss_box_reg: 0.02 loss_mask: 0.06 loss_objectness: 0.00 loss_rpn_box_reg: 0.00: 100%|██████████| 8/8 [00:07<00:00,  1.03it/s]\n"
     ]
    },
    {
     "name": "stdout",
     "output_type": "stream",
     "text": [
      "Save model at epoch 18.\n"
     ]
    },
    {
     "name": "stderr",
     "output_type": "stream",
     "text": [
      "  0%|          | 0/8 [00:00<?, ?it/s]"
     ]
    },
    {
     "name": "stdout",
     "output_type": "stream",
     "text": [
      "model\\Mask R-CNN\\test-3-divide-4\\2021-12-13 00-05-35-epoch-18.pkl\n"
     ]
    },
    {
     "name": "stderr",
     "output_type": "stream",
     "text": [
      "Epoch: 19, lr: 1e-05, loss_classifier: 0.02 loss_box_reg: 0.02 loss_mask: 0.06 loss_objectness: 0.00 loss_rpn_box_reg: 0.01: 100%|██████████| 8/8 [00:07<00:00,  1.03it/s]\n",
      "Epoch: 20, lr: 1e-05, loss_classifier: 0.02 loss_box_reg: 0.02 loss_mask: 0.07 loss_objectness: 0.00 loss_rpn_box_reg: 0.01: 100%|██████████| 8/8 [00:07<00:00,  1.02it/s]\n",
      "Epoch: 21, lr: 1e-05, loss_classifier: 0.02 loss_box_reg: 0.02 loss_mask: 0.06 loss_objectness: 0.00 loss_rpn_box_reg: 0.01: 100%|██████████| 8/8 [00:07<00:00,  1.02it/s]\n",
      "Epoch: 22, lr: 1e-05, loss_classifier: 0.02 loss_box_reg: 0.02 loss_mask: 0.07 loss_objectness: 0.00 loss_rpn_box_reg: 0.01: 100%|██████████| 8/8 [00:07<00:00,  1.02it/s]\n",
      "Epoch: 23, lr: 1e-05, loss_classifier: 0.02 loss_box_reg: 0.02 loss_mask: 0.06 loss_objectness: 0.00 loss_rpn_box_reg: 0.01: 100%|██████████| 8/8 [00:07<00:00,  1.02it/s]\n",
      "Epoch: 24, lr: 1e-05, loss_classifier: 0.02 loss_box_reg: 0.02 loss_mask: 0.07 loss_objectness: 0.00 loss_rpn_box_reg: 0.01: 100%|██████████| 8/8 [00:07<00:00,  1.02it/s]\n",
      "Epoch: 25, lr: 1e-05, loss_classifier: 0.02 loss_box_reg: 0.02 loss_mask: 0.06 loss_objectness: 0.00 loss_rpn_box_reg: 0.01: 100%|██████████| 8/8 [00:07<00:00,  1.02it/s]\n"
     ]
    },
    {
     "name": "stdout",
     "output_type": "stream",
     "text": [
      "Save model at epoch 25.\n"
     ]
    },
    {
     "name": "stderr",
     "output_type": "stream",
     "text": [
      "  0%|          | 0/8 [00:00<?, ?it/s]"
     ]
    },
    {
     "name": "stdout",
     "output_type": "stream",
     "text": [
      "model\\Mask R-CNN\\test-3-divide-4\\2021-12-13 00-05-35-epoch-25.pkl\n"
     ]
    },
    {
     "name": "stderr",
     "output_type": "stream",
     "text": [
      "Epoch: 26, lr: 1e-05, loss_classifier: 0.02 loss_box_reg: 0.02 loss_mask: 0.06 loss_objectness: 0.00 loss_rpn_box_reg: 0.00: 100%|██████████| 8/8 [00:07<00:00,  1.01it/s]\n"
     ]
    },
    {
     "name": "stdout",
     "output_type": "stream",
     "text": [
      "Save model at epoch 26.\n"
     ]
    },
    {
     "name": "stderr",
     "output_type": "stream",
     "text": [
      "  0%|          | 0/8 [00:00<?, ?it/s]"
     ]
    },
    {
     "name": "stdout",
     "output_type": "stream",
     "text": [
      "model\\Mask R-CNN\\test-3-divide-4\\2021-12-13 00-05-35-epoch-26.pkl\n"
     ]
    },
    {
     "name": "stderr",
     "output_type": "stream",
     "text": [
      "Epoch: 27, lr: 1e-05, loss_classifier: 0.02 loss_box_reg: 0.02 loss_mask: 0.06 loss_objectness: 0.00 loss_rpn_box_reg: 0.01: 100%|██████████| 8/8 [00:07<00:00,  1.01it/s]\n"
     ]
    },
    {
     "name": "stdout",
     "output_type": "stream",
     "text": [
      "Save model at epoch 27.\n"
     ]
    },
    {
     "name": "stderr",
     "output_type": "stream",
     "text": [
      "  0%|          | 0/8 [00:00<?, ?it/s]"
     ]
    },
    {
     "name": "stdout",
     "output_type": "stream",
     "text": [
      "model\\Mask R-CNN\\test-3-divide-4\\2021-12-13 00-05-35-epoch-27.pkl\n"
     ]
    },
    {
     "name": "stderr",
     "output_type": "stream",
     "text": [
      "Epoch: 28, lr: 1e-05, loss_classifier: 0.02 loss_box_reg: 0.02 loss_mask: 0.06 loss_objectness: 0.00 loss_rpn_box_reg: 0.01: 100%|██████████| 8/8 [00:07<00:00,  1.01it/s]\n",
      "Epoch: 29, lr: 1e-05, loss_classifier: 0.02 loss_box_reg: 0.02 loss_mask: 0.06 loss_objectness: 0.00 loss_rpn_box_reg: 0.01: 100%|██████████| 8/8 [00:07<00:00,  1.02it/s]\n"
     ]
    },
    {
     "name": "stdout",
     "output_type": "stream",
     "text": [
      "Save model at epoch 29.\n"
     ]
    },
    {
     "name": "stderr",
     "output_type": "stream",
     "text": [
      "  0%|          | 0/8 [00:00<?, ?it/s]"
     ]
    },
    {
     "name": "stdout",
     "output_type": "stream",
     "text": [
      "model\\Mask R-CNN\\test-3-divide-4\\2021-12-13 00-05-35-epoch-29.pkl\n"
     ]
    },
    {
     "name": "stderr",
     "output_type": "stream",
     "text": [
      "Epoch: 30, lr: 1e-05, loss_classifier: 0.02 loss_box_reg: 0.02 loss_mask: 0.06 loss_objectness: 0.00 loss_rpn_box_reg: 0.00: 100%|██████████| 8/8 [00:07<00:00,  1.03it/s]\n"
     ]
    },
    {
     "name": "stdout",
     "output_type": "stream",
     "text": [
      "Save model at epoch 30.\n"
     ]
    },
    {
     "name": "stderr",
     "output_type": "stream",
     "text": [
      "  0%|          | 0/8 [00:00<?, ?it/s]"
     ]
    },
    {
     "name": "stdout",
     "output_type": "stream",
     "text": [
      "model\\Mask R-CNN\\test-3-divide-4\\2021-12-13 00-05-35-epoch-30.pkl\n"
     ]
    },
    {
     "name": "stderr",
     "output_type": "stream",
     "text": [
      "Epoch: 31, lr: 1e-05, loss_classifier: 0.01 loss_box_reg: 0.02 loss_mask: 0.06 loss_objectness: 0.00 loss_rpn_box_reg: 0.01: 100%|██████████| 8/8 [00:07<00:00,  1.01it/s]\n"
     ]
    },
    {
     "name": "stdout",
     "output_type": "stream",
     "text": [
      "Save model at epoch 31.\n"
     ]
    },
    {
     "name": "stderr",
     "output_type": "stream",
     "text": [
      "  0%|          | 0/8 [00:00<?, ?it/s]"
     ]
    },
    {
     "name": "stdout",
     "output_type": "stream",
     "text": [
      "model\\Mask R-CNN\\test-3-divide-4\\2021-12-13 00-05-35-epoch-31.pkl\n"
     ]
    },
    {
     "name": "stderr",
     "output_type": "stream",
     "text": [
      "Epoch: 32, lr: 1e-05, loss_classifier: 0.01 loss_box_reg: 0.02 loss_mask: 0.06 loss_objectness: 0.00 loss_rpn_box_reg: 0.01: 100%|██████████| 8/8 [00:07<00:00,  1.02it/s]\n"
     ]
    },
    {
     "name": "stdout",
     "output_type": "stream",
     "text": [
      "Save model at epoch 32.\n"
     ]
    },
    {
     "name": "stderr",
     "output_type": "stream",
     "text": [
      "  0%|          | 0/8 [00:00<?, ?it/s]"
     ]
    },
    {
     "name": "stdout",
     "output_type": "stream",
     "text": [
      "model\\Mask R-CNN\\test-3-divide-4\\2021-12-13 00-05-35-epoch-32.pkl\n"
     ]
    },
    {
     "name": "stderr",
     "output_type": "stream",
     "text": [
      "Epoch: 33, lr: 1e-05, loss_classifier: 0.01 loss_box_reg: 0.02 loss_mask: 0.06 loss_objectness: 0.00 loss_rpn_box_reg: 0.01: 100%|██████████| 8/8 [00:07<00:00,  1.03it/s]\n",
      "Epoch: 34, lr: 1e-05, loss_classifier: 0.01 loss_box_reg: 0.02 loss_mask: 0.06 loss_objectness: 0.00 loss_rpn_box_reg: 0.01: 100%|██████████| 8/8 [00:07<00:00,  1.02it/s]\n"
     ]
    },
    {
     "name": "stdout",
     "output_type": "stream",
     "text": [
      "Save model at epoch 34.\n"
     ]
    },
    {
     "name": "stderr",
     "output_type": "stream",
     "text": [
      "  0%|          | 0/8 [00:00<?, ?it/s]"
     ]
    },
    {
     "name": "stdout",
     "output_type": "stream",
     "text": [
      "model\\Mask R-CNN\\test-3-divide-4\\2021-12-13 00-05-35-epoch-34.pkl\n"
     ]
    },
    {
     "name": "stderr",
     "output_type": "stream",
     "text": [
      "Epoch: 35, lr: 1e-05, loss_classifier: 0.02 loss_box_reg: 0.02 loss_mask: 0.06 loss_objectness: 0.00 loss_rpn_box_reg: 0.00: 100%|██████████| 8/8 [00:07<00:00,  1.02it/s]\n",
      "Epoch: 36, lr: 1e-05, loss_classifier: 0.02 loss_box_reg: 0.02 loss_mask: 0.06 loss_objectness: 0.00 loss_rpn_box_reg: 0.01: 100%|██████████| 8/8 [00:07<00:00,  1.02it/s]\n",
      "Epoch: 37, lr: 1e-05, loss_classifier: 0.02 loss_box_reg: 0.02 loss_mask: 0.06 loss_objectness: 0.00 loss_rpn_box_reg: 0.01: 100%|██████████| 8/8 [00:07<00:00,  1.02it/s]\n",
      "Epoch: 38, lr: 1e-05, loss_classifier: 0.01 loss_box_reg: 0.02 loss_mask: 0.06 loss_objectness: 0.00 loss_rpn_box_reg: 0.00: 100%|██████████| 8/8 [00:07<00:00,  1.03it/s]\n"
     ]
    },
    {
     "name": "stdout",
     "output_type": "stream",
     "text": [
      "Save model at epoch 38.\n"
     ]
    },
    {
     "name": "stderr",
     "output_type": "stream",
     "text": [
      "  0%|          | 0/8 [00:00<?, ?it/s]"
     ]
    },
    {
     "name": "stdout",
     "output_type": "stream",
     "text": [
      "model\\Mask R-CNN\\test-3-divide-4\\2021-12-13 00-05-35-epoch-38.pkl\n"
     ]
    },
    {
     "name": "stderr",
     "output_type": "stream",
     "text": [
      "Epoch: 39, lr: 1e-05, loss_classifier: 0.01 loss_box_reg: 0.02 loss_mask: 0.06 loss_objectness: 0.00 loss_rpn_box_reg: 0.01: 100%|██████████| 8/8 [00:07<00:00,  1.03it/s]\n"
     ]
    },
    {
     "name": "stdout",
     "output_type": "stream",
     "text": [
      "Save model at epoch 39.\n"
     ]
    },
    {
     "name": "stderr",
     "output_type": "stream",
     "text": [
      "  0%|          | 0/8 [00:00<?, ?it/s]"
     ]
    },
    {
     "name": "stdout",
     "output_type": "stream",
     "text": [
      "model\\Mask R-CNN\\test-3-divide-4\\2021-12-13 00-05-35-epoch-39.pkl\n"
     ]
    },
    {
     "name": "stderr",
     "output_type": "stream",
     "text": [
      "Epoch: 40, lr: 1e-05, loss_classifier: 0.02 loss_box_reg: 0.02 loss_mask: 0.06 loss_objectness: 0.00 loss_rpn_box_reg: 0.00: 100%|██████████| 8/8 [00:07<00:00,  1.03it/s]\n",
      "Epoch: 41, lr: 1e-05, loss_classifier: 0.02 loss_box_reg: 0.02 loss_mask: 0.06 loss_objectness: 0.00 loss_rpn_box_reg: 0.01: 100%|██████████| 8/8 [00:07<00:00,  1.04it/s]\n",
      "Epoch: 42, lr: 1e-05, loss_classifier: 0.01 loss_box_reg: 0.02 loss_mask: 0.06 loss_objectness: 0.00 loss_rpn_box_reg: 0.01: 100%|██████████| 8/8 [00:07<00:00,  1.02it/s]\n",
      "Epoch: 43, lr: 1e-05, loss_classifier: 0.02 loss_box_reg: 0.02 loss_mask: 0.06 loss_objectness: 0.00 loss_rpn_box_reg: 0.00: 100%|██████████| 8/8 [00:07<00:00,  1.02it/s]\n",
      "Epoch: 44, lr: 1e-05, loss_classifier: 0.02 loss_box_reg: 0.02 loss_mask: 0.06 loss_objectness: 0.00 loss_rpn_box_reg: 0.01: 100%|██████████| 8/8 [00:07<00:00,  1.02it/s]\n",
      "Epoch: 45, lr: 1e-05, loss_classifier: 0.02 loss_box_reg: 0.02 loss_mask: 0.06 loss_objectness: 0.00 loss_rpn_box_reg: 0.01: 100%|██████████| 8/8 [00:07<00:00,  1.03it/s]\n",
      "Epoch: 46, lr: 1e-05, loss_classifier: 0.01 loss_box_reg: 0.02 loss_mask: 0.06 loss_objectness: 0.00 loss_rpn_box_reg: 0.00: 100%|██████████| 8/8 [00:07<00:00,  1.02it/s]\n",
      "Epoch: 47, lr: 1e-05, loss_classifier: 0.01 loss_box_reg: 0.02 loss_mask: 0.06 loss_objectness: 0.00 loss_rpn_box_reg: 0.00: 100%|██████████| 8/8 [00:07<00:00,  1.02it/s]\n"
     ]
    },
    {
     "name": "stdout",
     "output_type": "stream",
     "text": [
      "Save model at epoch 47.\n"
     ]
    },
    {
     "name": "stderr",
     "output_type": "stream",
     "text": [
      "  0%|          | 0/8 [00:00<?, ?it/s]"
     ]
    },
    {
     "name": "stdout",
     "output_type": "stream",
     "text": [
      "model\\Mask R-CNN\\test-3-divide-4\\2021-12-13 00-05-35-epoch-47.pkl\n"
     ]
    },
    {
     "name": "stderr",
     "output_type": "stream",
     "text": [
      "Epoch: 48, lr: 1e-05, loss_classifier: 0.01 loss_box_reg: 0.02 loss_mask: 0.06 loss_objectness: 0.00 loss_rpn_box_reg: 0.01: 100%|██████████| 8/8 [00:07<00:00,  1.01it/s]\n",
      "Epoch: 49, lr: 1e-05, loss_classifier: 0.02 loss_box_reg: 0.02 loss_mask: 0.06 loss_objectness: 0.00 loss_rpn_box_reg: 0.00: 100%|██████████| 8/8 [00:07<00:00,  1.03it/s]\n",
      "Epoch: 50, lr: 1e-05, loss_classifier: 0.01 loss_box_reg: 0.02 loss_mask: 0.06 loss_objectness: 0.00 loss_rpn_box_reg: 0.00: 100%|██████████| 8/8 [00:07<00:00,  1.02it/s]\n"
     ]
    },
    {
     "name": "stdout",
     "output_type": "stream",
     "text": [
      "Save model at epoch 50.\n"
     ]
    },
    {
     "name": "stderr",
     "output_type": "stream",
     "text": [
      "  0%|          | 0/8 [00:00<?, ?it/s]"
     ]
    },
    {
     "name": "stdout",
     "output_type": "stream",
     "text": [
      "model\\Mask R-CNN\\test-3-divide-4\\2021-12-13 00-05-35-epoch-50.pkl\n"
     ]
    },
    {
     "name": "stderr",
     "output_type": "stream",
     "text": [
      "Epoch: 51, lr: 1e-05, loss_classifier: 0.01 loss_box_reg: 0.02 loss_mask: 0.06 loss_objectness: 0.00 loss_rpn_box_reg: 0.00: 100%|██████████| 8/8 [00:07<00:00,  1.03it/s]\n"
     ]
    },
    {
     "name": "stdout",
     "output_type": "stream",
     "text": [
      "Save model at epoch 51.\n"
     ]
    },
    {
     "name": "stderr",
     "output_type": "stream",
     "text": [
      "  0%|          | 0/8 [00:00<?, ?it/s]"
     ]
    },
    {
     "name": "stdout",
     "output_type": "stream",
     "text": [
      "model\\Mask R-CNN\\test-3-divide-4\\2021-12-13 00-05-35-epoch-51.pkl\n"
     ]
    },
    {
     "name": "stderr",
     "output_type": "stream",
     "text": [
      "Epoch: 52, lr: 1e-05, loss_classifier: 0.01 loss_box_reg: 0.02 loss_mask: 0.06 loss_objectness: 0.00 loss_rpn_box_reg: 0.00: 100%|██████████| 8/8 [00:07<00:00,  1.02it/s]\n",
      "Epoch: 53, lr: 1e-05, loss_classifier: 0.01 loss_box_reg: 0.02 loss_mask: 0.06 loss_objectness: 0.00 loss_rpn_box_reg: 0.00: 100%|██████████| 8/8 [00:07<00:00,  1.02it/s]\n",
      "Epoch: 54, lr: 1e-05, loss_classifier: 0.02 loss_box_reg: 0.02 loss_mask: 0.06 loss_objectness: 0.00 loss_rpn_box_reg: 0.00: 100%|██████████| 8/8 [00:07<00:00,  1.03it/s]\n",
      "Epoch: 55, lr: 1e-05, loss_classifier: 0.01 loss_box_reg: 0.02 loss_mask: 0.06 loss_objectness: 0.00 loss_rpn_box_reg: 0.00: 100%|██████████| 8/8 [00:07<00:00,  1.04it/s]\n",
      "Epoch: 56, lr: 1e-05, loss_classifier: 0.01 loss_box_reg: 0.02 loss_mask: 0.06 loss_objectness: 0.00 loss_rpn_box_reg: 0.00: 100%|██████████| 8/8 [00:07<00:00,  1.02it/s]\n",
      "Epoch: 57, lr: 1e-05, loss_classifier: 0.01 loss_box_reg: 0.02 loss_mask: 0.06 loss_objectness: 0.00 loss_rpn_box_reg: 0.00: 100%|██████████| 8/8 [00:07<00:00,  1.03it/s]\n",
      "Epoch: 58, lr: 1e-05, loss_classifier: 0.01 loss_box_reg: 0.02 loss_mask: 0.06 loss_objectness: 0.00 loss_rpn_box_reg: 0.00: 100%|██████████| 8/8 [00:07<00:00,  1.03it/s]\n",
      "Epoch: 59, lr: 1e-05, loss_classifier: 0.01 loss_box_reg: 0.02 loss_mask: 0.06 loss_objectness: 0.00 loss_rpn_box_reg: 0.00: 100%|██████████| 8/8 [00:07<00:00,  1.01it/s]\n",
      "Epoch: 60, lr: 1e-05, loss_classifier: 0.01 loss_box_reg: 0.02 loss_mask: 0.06 loss_objectness: 0.00 loss_rpn_box_reg: 0.00: 100%|██████████| 8/8 [00:07<00:00,  1.01it/s]\n",
      "Epoch: 61, lr: 1e-06, loss_classifier: 0.01 loss_box_reg: 0.02 loss_mask: 0.06 loss_objectness: 0.00 loss_rpn_box_reg: 0.00: 100%|██████████| 8/8 [00:07<00:00,  1.02it/s]\n",
      "Epoch: 62, lr: 1e-06, loss_classifier: 0.01 loss_box_reg: 0.02 loss_mask: 0.06 loss_objectness: 0.00 loss_rpn_box_reg: 0.00: 100%|██████████| 8/8 [00:07<00:00,  1.02it/s]\n"
     ]
    },
    {
     "name": "stdout",
     "output_type": "stream",
     "text": [
      "Save model at epoch 62.\n"
     ]
    },
    {
     "name": "stderr",
     "output_type": "stream",
     "text": [
      "  0%|          | 0/8 [00:00<?, ?it/s]"
     ]
    },
    {
     "name": "stdout",
     "output_type": "stream",
     "text": [
      "model\\Mask R-CNN\\test-3-divide-4\\2021-12-13 00-05-35-epoch-62.pkl\n"
     ]
    },
    {
     "name": "stderr",
     "output_type": "stream",
     "text": [
      "Epoch: 63, lr: 1e-06, loss_classifier: 0.01 loss_box_reg: 0.01 loss_mask: 0.06 loss_objectness: 0.00 loss_rpn_box_reg: 0.00: 100%|██████████| 8/8 [00:07<00:00,  1.02it/s]\n"
     ]
    },
    {
     "name": "stdout",
     "output_type": "stream",
     "text": [
      "Save model at epoch 63.\n"
     ]
    },
    {
     "name": "stderr",
     "output_type": "stream",
     "text": [
      "  0%|          | 0/8 [00:00<?, ?it/s]"
     ]
    },
    {
     "name": "stdout",
     "output_type": "stream",
     "text": [
      "model\\Mask R-CNN\\test-3-divide-4\\2021-12-13 00-05-35-epoch-63.pkl\n"
     ]
    },
    {
     "name": "stderr",
     "output_type": "stream",
     "text": [
      "Epoch: 64, lr: 1e-06, loss_classifier: 0.01 loss_box_reg: 0.01 loss_mask: 0.06 loss_objectness: 0.00 loss_rpn_box_reg: 0.00: 100%|██████████| 8/8 [00:07<00:00,  1.02it/s]\n",
      "Epoch: 65, lr: 1e-06, loss_classifier: 0.01 loss_box_reg: 0.01 loss_mask: 0.06 loss_objectness: 0.00 loss_rpn_box_reg: 0.00: 100%|██████████| 8/8 [00:07<00:00,  1.02it/s]\n"
     ]
    },
    {
     "name": "stdout",
     "output_type": "stream",
     "text": [
      "Save model at epoch 65.\n"
     ]
    },
    {
     "name": "stderr",
     "output_type": "stream",
     "text": [
      "  0%|          | 0/8 [00:00<?, ?it/s]"
     ]
    },
    {
     "name": "stdout",
     "output_type": "stream",
     "text": [
      "model\\Mask R-CNN\\test-3-divide-4\\2021-12-13 00-05-35-epoch-65.pkl\n"
     ]
    },
    {
     "name": "stderr",
     "output_type": "stream",
     "text": [
      "Epoch: 66, lr: 1e-06, loss_classifier: 0.01 loss_box_reg: 0.01 loss_mask: 0.06 loss_objectness: 0.00 loss_rpn_box_reg: 0.00: 100%|██████████| 8/8 [00:07<00:00,  1.01it/s]\n"
     ]
    },
    {
     "name": "stdout",
     "output_type": "stream",
     "text": [
      "Save model at epoch 66.\n"
     ]
    },
    {
     "name": "stderr",
     "output_type": "stream",
     "text": [
      "  0%|          | 0/8 [00:00<?, ?it/s]"
     ]
    },
    {
     "name": "stdout",
     "output_type": "stream",
     "text": [
      "model\\Mask R-CNN\\test-3-divide-4\\2021-12-13 00-05-35-epoch-66.pkl\n"
     ]
    },
    {
     "name": "stderr",
     "output_type": "stream",
     "text": [
      "Epoch: 67, lr: 1e-06, loss_classifier: 0.01 loss_box_reg: 0.01 loss_mask: 0.06 loss_objectness: 0.00 loss_rpn_box_reg: 0.00: 100%|██████████| 8/8 [00:07<00:00,  1.02it/s]\n"
     ]
    },
    {
     "name": "stdout",
     "output_type": "stream",
     "text": [
      "Save model at epoch 67.\n"
     ]
    },
    {
     "name": "stderr",
     "output_type": "stream",
     "text": [
      "  0%|          | 0/8 [00:00<?, ?it/s]"
     ]
    },
    {
     "name": "stdout",
     "output_type": "stream",
     "text": [
      "model\\Mask R-CNN\\test-3-divide-4\\2021-12-13 00-05-35-epoch-67.pkl\n"
     ]
    },
    {
     "name": "stderr",
     "output_type": "stream",
     "text": [
      "Epoch: 68, lr: 1e-06, loss_classifier: 0.01 loss_box_reg: 0.01 loss_mask: 0.06 loss_objectness: 0.00 loss_rpn_box_reg: 0.00: 100%|██████████| 8/8 [00:07<00:00,  1.02it/s]\n"
     ]
    },
    {
     "name": "stdout",
     "output_type": "stream",
     "text": [
      "Save model at epoch 68.\n"
     ]
    },
    {
     "name": "stderr",
     "output_type": "stream",
     "text": [
      "  0%|          | 0/8 [00:00<?, ?it/s]"
     ]
    },
    {
     "name": "stdout",
     "output_type": "stream",
     "text": [
      "model\\Mask R-CNN\\test-3-divide-4\\2021-12-13 00-05-35-epoch-68.pkl\n"
     ]
    },
    {
     "name": "stderr",
     "output_type": "stream",
     "text": [
      "Epoch: 69, lr: 1e-06, loss_classifier: 0.01 loss_box_reg: 0.01 loss_mask: 0.06 loss_objectness: 0.00 loss_rpn_box_reg: 0.00: 100%|██████████| 8/8 [00:07<00:00,  1.01it/s]\n",
      "Epoch: 70, lr: 1e-06, loss_classifier: 0.01 loss_box_reg: 0.01 loss_mask: 0.06 loss_objectness: 0.00 loss_rpn_box_reg: 0.00: 100%|██████████| 8/8 [00:07<00:00,  1.02it/s]\n",
      "Epoch: 71, lr: 1e-06, loss_classifier: 0.01 loss_box_reg: 0.01 loss_mask: 0.06 loss_objectness: 0.00 loss_rpn_box_reg: 0.00: 100%|██████████| 8/8 [00:07<00:00,  1.01it/s]\n"
     ]
    },
    {
     "name": "stdout",
     "output_type": "stream",
     "text": [
      "Save model at epoch 71.\n"
     ]
    },
    {
     "name": "stderr",
     "output_type": "stream",
     "text": [
      "  0%|          | 0/8 [00:00<?, ?it/s]"
     ]
    },
    {
     "name": "stdout",
     "output_type": "stream",
     "text": [
      "model\\Mask R-CNN\\test-3-divide-4\\2021-12-13 00-05-35-epoch-71.pkl\n"
     ]
    },
    {
     "name": "stderr",
     "output_type": "stream",
     "text": [
      "Epoch: 72, lr: 1e-06, loss_classifier: 0.01 loss_box_reg: 0.01 loss_mask: 0.06 loss_objectness: 0.00 loss_rpn_box_reg: 0.00: 100%|██████████| 8/8 [00:07<00:00,  1.02it/s]\n"
     ]
    },
    {
     "name": "stdout",
     "output_type": "stream",
     "text": [
      "Save model at epoch 72.\n"
     ]
    },
    {
     "name": "stderr",
     "output_type": "stream",
     "text": [
      "  0%|          | 0/8 [00:00<?, ?it/s]"
     ]
    },
    {
     "name": "stdout",
     "output_type": "stream",
     "text": [
      "model\\Mask R-CNN\\test-3-divide-4\\2021-12-13 00-05-35-epoch-72.pkl\n"
     ]
    },
    {
     "name": "stderr",
     "output_type": "stream",
     "text": [
      "Epoch: 73, lr: 1e-06, loss_classifier: 0.01 loss_box_reg: 0.01 loss_mask: 0.06 loss_objectness: 0.00 loss_rpn_box_reg: 0.00: 100%|██████████| 8/8 [00:07<00:00,  1.02it/s]\n",
      "Epoch: 74, lr: 1e-06, loss_classifier: 0.01 loss_box_reg: 0.01 loss_mask: 0.06 loss_objectness: 0.00 loss_rpn_box_reg: 0.00: 100%|██████████| 8/8 [00:07<00:00,  1.02it/s]\n",
      "Epoch: 75, lr: 1e-06, loss_classifier: 0.01 loss_box_reg: 0.01 loss_mask: 0.06 loss_objectness: 0.00 loss_rpn_box_reg: 0.00: 100%|██████████| 8/8 [00:07<00:00,  1.03it/s]\n"
     ]
    },
    {
     "name": "stdout",
     "output_type": "stream",
     "text": [
      "Save model at epoch 75.\n"
     ]
    },
    {
     "name": "stderr",
     "output_type": "stream",
     "text": [
      "  0%|          | 0/8 [00:00<?, ?it/s]"
     ]
    },
    {
     "name": "stdout",
     "output_type": "stream",
     "text": [
      "model\\Mask R-CNN\\test-3-divide-4\\2021-12-13 00-05-35-epoch-75.pkl\n"
     ]
    },
    {
     "name": "stderr",
     "output_type": "stream",
     "text": [
      "Epoch: 76, lr: 1e-06, loss_classifier: 0.01 loss_box_reg: 0.01 loss_mask: 0.06 loss_objectness: 0.00 loss_rpn_box_reg: 0.00: 100%|██████████| 8/8 [00:07<00:00,  1.01it/s]\n",
      "Epoch: 77, lr: 1e-06, loss_classifier: 0.01 loss_box_reg: 0.01 loss_mask: 0.06 loss_objectness: 0.00 loss_rpn_box_reg: 0.00: 100%|██████████| 8/8 [00:07<00:00,  1.02it/s]\n",
      "Epoch: 78, lr: 1e-06, loss_classifier: 0.01 loss_box_reg: 0.01 loss_mask: 0.06 loss_objectness: 0.00 loss_rpn_box_reg: 0.00: 100%|██████████| 8/8 [00:07<00:00,  1.03it/s]\n",
      "Epoch: 79, lr: 1e-06, loss_classifier: 0.01 loss_box_reg: 0.01 loss_mask: 0.06 loss_objectness: 0.00 loss_rpn_box_reg: 0.00: 100%|██████████| 8/8 [00:07<00:00,  1.03it/s]\n",
      "Epoch: 80, lr: 1e-06, loss_classifier: 0.01 loss_box_reg: 0.01 loss_mask: 0.06 loss_objectness: 0.00 loss_rpn_box_reg: 0.00: 100%|██████████| 8/8 [00:07<00:00,  1.02it/s]\n",
      "Epoch: 81, lr: 1e-06, loss_classifier: 0.01 loss_box_reg: 0.01 loss_mask: 0.06 loss_objectness: 0.00 loss_rpn_box_reg: 0.00: 100%|██████████| 8/8 [00:07<00:00,  1.02it/s]\n",
      "Epoch: 82, lr: 1e-06, loss_classifier: 0.01 loss_box_reg: 0.01 loss_mask: 0.06 loss_objectness: 0.00 loss_rpn_box_reg: 0.00: 100%|██████████| 8/8 [00:07<00:00,  1.02it/s]\n",
      "Epoch: 83, lr: 1e-06, loss_classifier: 0.01 loss_box_reg: 0.01 loss_mask: 0.06 loss_objectness: 0.00 loss_rpn_box_reg: 0.00: 100%|██████████| 8/8 [00:07<00:00,  1.01it/s]\n",
      "Epoch: 84, lr: 1e-06, loss_classifier: 0.01 loss_box_reg: 0.01 loss_mask: 0.06 loss_objectness: 0.00 loss_rpn_box_reg: 0.00: 100%|██████████| 8/8 [00:07<00:00,  1.01it/s]\n",
      "Epoch: 85, lr: 1e-06, loss_classifier: 0.01 loss_box_reg: 0.01 loss_mask: 0.06 loss_objectness: 0.00 loss_rpn_box_reg: 0.00: 100%|██████████| 8/8 [00:07<00:00,  1.03it/s]\n",
      "Epoch: 86, lr: 1e-06, loss_classifier: 0.01 loss_box_reg: 0.01 loss_mask: 0.06 loss_objectness: 0.00 loss_rpn_box_reg: 0.00: 100%|██████████| 8/8 [00:07<00:00,  1.01it/s]\n",
      "Epoch: 87, lr: 1e-06, loss_classifier: 0.01 loss_box_reg: 0.01 loss_mask: 0.06 loss_objectness: 0.00 loss_rpn_box_reg: 0.00: 100%|██████████| 8/8 [00:07<00:00,  1.02it/s]\n",
      "Epoch: 88, lr: 1e-06, loss_classifier: 0.01 loss_box_reg: 0.01 loss_mask: 0.06 loss_objectness: 0.00 loss_rpn_box_reg: 0.00: 100%|██████████| 8/8 [00:07<00:00,  1.02it/s]\n",
      "Epoch: 89, lr: 1e-06, loss_classifier: 0.01 loss_box_reg: 0.01 loss_mask: 0.06 loss_objectness: 0.00 loss_rpn_box_reg: 0.00: 100%|██████████| 8/8 [00:07<00:00,  1.02it/s]\n",
      "Epoch: 90, lr: 1e-06, loss_classifier: 0.01 loss_box_reg: 0.01 loss_mask: 0.06 loss_objectness: 0.00 loss_rpn_box_reg: 0.00: 100%|██████████| 8/8 [00:07<00:00,  1.02it/s]\n",
      "Epoch: 91, lr: 1e-06, loss_classifier: 0.01 loss_box_reg: 0.01 loss_mask: 0.06 loss_objectness: 0.00 loss_rpn_box_reg: 0.00: 100%|██████████| 8/8 [00:07<00:00,  1.03it/s]\n",
      "Epoch: 92, lr: 1e-06, loss_classifier: 0.01 loss_box_reg: 0.01 loss_mask: 0.06 loss_objectness: 0.00 loss_rpn_box_reg: 0.00: 100%|██████████| 8/8 [00:07<00:00,  1.02it/s]\n",
      "Epoch: 93, lr: 1e-06, loss_classifier: 0.01 loss_box_reg: 0.01 loss_mask: 0.06 loss_objectness: 0.00 loss_rpn_box_reg: 0.00: 100%|██████████| 8/8 [00:07<00:00,  1.02it/s]\n"
     ]
    },
    {
     "name": "stdout",
     "output_type": "stream",
     "text": [
      "Save model at epoch 93.\n"
     ]
    },
    {
     "name": "stderr",
     "output_type": "stream",
     "text": [
      "  0%|          | 0/8 [00:00<?, ?it/s]"
     ]
    },
    {
     "name": "stdout",
     "output_type": "stream",
     "text": [
      "model\\Mask R-CNN\\test-3-divide-4\\2021-12-13 00-05-35-epoch-93.pkl\n"
     ]
    },
    {
     "name": "stderr",
     "output_type": "stream",
     "text": [
      "Epoch: 94, lr: 1e-06, loss_classifier: 0.01 loss_box_reg: 0.01 loss_mask: 0.06 loss_objectness: 0.00 loss_rpn_box_reg: 0.00: 100%|██████████| 8/8 [00:07<00:00,  1.03it/s]\n",
      "Epoch: 95, lr: 1e-06, loss_classifier: 0.01 loss_box_reg: 0.01 loss_mask: 0.06 loss_objectness: 0.00 loss_rpn_box_reg: 0.00: 100%|██████████| 8/8 [00:07<00:00,  1.02it/s]\n",
      "Epoch: 96, lr: 1e-06, loss_classifier: 0.01 loss_box_reg: 0.01 loss_mask: 0.06 loss_objectness: 0.00 loss_rpn_box_reg: 0.00: 100%|██████████| 8/8 [00:07<00:00,  1.03it/s]\n",
      "Epoch: 97, lr: 1e-06, loss_classifier: 0.01 loss_box_reg: 0.01 loss_mask: 0.06 loss_objectness: 0.00 loss_rpn_box_reg: 0.00: 100%|██████████| 8/8 [00:07<00:00,  1.02it/s]\n",
      "Epoch: 98, lr: 1e-06, loss_classifier: 0.01 loss_box_reg: 0.01 loss_mask: 0.06 loss_objectness: 0.00 loss_rpn_box_reg: 0.00: 100%|██████████| 8/8 [00:07<00:00,  1.03it/s]\n",
      "Epoch: 99, lr: 1e-06, loss_classifier: 0.01 loss_box_reg: 0.01 loss_mask: 0.06 loss_objectness: 0.00 loss_rpn_box_reg: 0.00: 100%|██████████| 8/8 [00:07<00:00,  1.01it/s]\n",
      "Epoch: 100, lr: 1e-06, loss_classifier: 0.01 loss_box_reg: 0.01 loss_mask: 0.06 loss_objectness: 0.00 loss_rpn_box_reg: 0.00: 100%|██████████| 8/8 [00:07<00:00,  1.00it/s]\n"
     ]
    },
    {
     "name": "stdout",
     "output_type": "stream",
     "text": [
      "Save model at epoch 100.\n"
     ]
    },
    {
     "name": "stderr",
     "output_type": "stream",
     "text": [
      "  0%|          | 0/8 [00:00<?, ?it/s]"
     ]
    },
    {
     "name": "stdout",
     "output_type": "stream",
     "text": [
      "model\\Mask R-CNN\\test-3-divide-4\\2021-12-13 00-05-35-epoch-100.pkl\n",
      "True\n",
      "Device: cuda\n"
     ]
    },
    {
     "name": "stderr",
     "output_type": "stream",
     "text": [
      "Epoch: 1, lr: 1e-05, loss_classifier: 0.02 loss_box_reg: 0.03 loss_mask: 0.08 loss_objectness: 0.00 loss_rpn_box_reg: 0.01: 100%|██████████| 8/8 [00:07<00:00,  1.05it/s]\n"
     ]
    },
    {
     "name": "stdout",
     "output_type": "stream",
     "text": [
      "Save model at epoch 1.\n"
     ]
    },
    {
     "name": "stderr",
     "output_type": "stream",
     "text": [
      "  0%|          | 0/8 [00:00<?, ?it/s]"
     ]
    },
    {
     "name": "stdout",
     "output_type": "stream",
     "text": [
      "model\\Mask R-CNN\\test-6-divide-4\\2021-12-13 00-05-35-epoch-1.pkl\n"
     ]
    },
    {
     "name": "stderr",
     "output_type": "stream",
     "text": [
      "Epoch: 2, lr: 1e-05, loss_classifier: 0.03 loss_box_reg: 0.06 loss_mask: 0.09 loss_objectness: 0.00 loss_rpn_box_reg: 0.01: 100%|██████████| 8/8 [00:07<00:00,  1.05it/s]\n",
      "Epoch: 3, lr: 1e-05, loss_classifier: 0.02 loss_box_reg: 0.04 loss_mask: 0.08 loss_objectness: 0.00 loss_rpn_box_reg: 0.01: 100%|██████████| 8/8 [00:07<00:00,  1.06it/s]\n",
      "Epoch: 4, lr: 1e-05, loss_classifier: 0.02 loss_box_reg: 0.04 loss_mask: 0.08 loss_objectness: 0.00 loss_rpn_box_reg: 0.01: 100%|██████████| 8/8 [00:07<00:00,  1.06it/s]\n",
      "Epoch: 5, lr: 1e-05, loss_classifier: 0.02 loss_box_reg: 0.03 loss_mask: 0.08 loss_objectness: 0.00 loss_rpn_box_reg: 0.01: 100%|██████████| 8/8 [00:07<00:00,  1.05it/s]\n",
      "Epoch: 6, lr: 1e-05, loss_classifier: 0.02 loss_box_reg: 0.03 loss_mask: 0.08 loss_objectness: 0.00 loss_rpn_box_reg: 0.00: 100%|██████████| 8/8 [00:07<00:00,  1.05it/s]\n"
     ]
    },
    {
     "name": "stdout",
     "output_type": "stream",
     "text": [
      "Save model at epoch 6.\n"
     ]
    },
    {
     "name": "stderr",
     "output_type": "stream",
     "text": [
      "  0%|          | 0/8 [00:00<?, ?it/s]"
     ]
    },
    {
     "name": "stdout",
     "output_type": "stream",
     "text": [
      "model\\Mask R-CNN\\test-6-divide-4\\2021-12-13 00-05-35-epoch-6.pkl\n"
     ]
    },
    {
     "name": "stderr",
     "output_type": "stream",
     "text": [
      "Epoch: 7, lr: 1e-05, loss_classifier: 0.02 loss_box_reg: 0.03 loss_mask: 0.08 loss_objectness: 0.00 loss_rpn_box_reg: 0.01: 100%|██████████| 8/8 [00:07<00:00,  1.04it/s]\n",
      "Epoch: 8, lr: 1e-05, loss_classifier: 0.02 loss_box_reg: 0.03 loss_mask: 0.08 loss_objectness: 0.00 loss_rpn_box_reg: 0.00: 100%|██████████| 8/8 [00:07<00:00,  1.04it/s]\n"
     ]
    },
    {
     "name": "stdout",
     "output_type": "stream",
     "text": [
      "Save model at epoch 8.\n"
     ]
    },
    {
     "name": "stderr",
     "output_type": "stream",
     "text": [
      "  0%|          | 0/8 [00:00<?, ?it/s]"
     ]
    },
    {
     "name": "stdout",
     "output_type": "stream",
     "text": [
      "model\\Mask R-CNN\\test-6-divide-4\\2021-12-13 00-05-35-epoch-8.pkl\n"
     ]
    },
    {
     "name": "stderr",
     "output_type": "stream",
     "text": [
      "Epoch: 9, lr: 1e-05, loss_classifier: 0.02 loss_box_reg: 0.03 loss_mask: 0.08 loss_objectness: 0.00 loss_rpn_box_reg: 0.01: 100%|██████████| 8/8 [00:07<00:00,  1.05it/s]\n",
      "Epoch: 10, lr: 1e-05, loss_classifier: 0.02 loss_box_reg: 0.03 loss_mask: 0.08 loss_objectness: 0.00 loss_rpn_box_reg: 0.00: 100%|██████████| 8/8 [00:07<00:00,  1.05it/s]\n"
     ]
    },
    {
     "name": "stdout",
     "output_type": "stream",
     "text": [
      "Save model at epoch 10.\n"
     ]
    },
    {
     "name": "stderr",
     "output_type": "stream",
     "text": [
      "  0%|          | 0/8 [00:00<?, ?it/s]"
     ]
    },
    {
     "name": "stdout",
     "output_type": "stream",
     "text": [
      "model\\Mask R-CNN\\test-6-divide-4\\2021-12-13 00-05-35-epoch-10.pkl\n"
     ]
    },
    {
     "name": "stderr",
     "output_type": "stream",
     "text": [
      "Epoch: 11, lr: 1e-05, loss_classifier: 0.02 loss_box_reg: 0.03 loss_mask: 0.08 loss_objectness: 0.00 loss_rpn_box_reg: 0.01: 100%|██████████| 8/8 [00:07<00:00,  1.05it/s]\n"
     ]
    },
    {
     "name": "stdout",
     "output_type": "stream",
     "text": [
      "Save model at epoch 11.\n"
     ]
    },
    {
     "name": "stderr",
     "output_type": "stream",
     "text": [
      "  0%|          | 0/8 [00:00<?, ?it/s]"
     ]
    },
    {
     "name": "stdout",
     "output_type": "stream",
     "text": [
      "model\\Mask R-CNN\\test-6-divide-4\\2021-12-13 00-05-35-epoch-11.pkl\n"
     ]
    },
    {
     "name": "stderr",
     "output_type": "stream",
     "text": [
      "Epoch: 12, lr: 1e-05, loss_classifier: 0.02 loss_box_reg: 0.02 loss_mask: 0.08 loss_objectness: 0.00 loss_rpn_box_reg: 0.01: 100%|██████████| 8/8 [00:07<00:00,  1.07it/s]\n"
     ]
    },
    {
     "name": "stdout",
     "output_type": "stream",
     "text": [
      "Save model at epoch 12.\n"
     ]
    },
    {
     "name": "stderr",
     "output_type": "stream",
     "text": [
      "  0%|          | 0/8 [00:00<?, ?it/s]"
     ]
    },
    {
     "name": "stdout",
     "output_type": "stream",
     "text": [
      "model\\Mask R-CNN\\test-6-divide-4\\2021-12-13 00-05-35-epoch-12.pkl\n"
     ]
    },
    {
     "name": "stderr",
     "output_type": "stream",
     "text": [
      "Epoch: 13, lr: 1e-05, loss_classifier: 0.02 loss_box_reg: 0.02 loss_mask: 0.08 loss_objectness: 0.00 loss_rpn_box_reg: 0.01: 100%|██████████| 8/8 [00:07<00:00,  1.06it/s]\n"
     ]
    },
    {
     "name": "stdout",
     "output_type": "stream",
     "text": [
      "Save model at epoch 13.\n"
     ]
    },
    {
     "name": "stderr",
     "output_type": "stream",
     "text": [
      "  0%|          | 0/8 [00:00<?, ?it/s]"
     ]
    },
    {
     "name": "stdout",
     "output_type": "stream",
     "text": [
      "model\\Mask R-CNN\\test-6-divide-4\\2021-12-13 00-05-35-epoch-13.pkl\n"
     ]
    },
    {
     "name": "stderr",
     "output_type": "stream",
     "text": [
      "Epoch: 14, lr: 1e-05, loss_classifier: 0.01 loss_box_reg: 0.02 loss_mask: 0.08 loss_objectness: 0.00 loss_rpn_box_reg: 0.00: 100%|██████████| 8/8 [00:07<00:00,  1.04it/s]\n"
     ]
    },
    {
     "name": "stdout",
     "output_type": "stream",
     "text": [
      "Save model at epoch 14.\n"
     ]
    },
    {
     "name": "stderr",
     "output_type": "stream",
     "text": [
      "  0%|          | 0/8 [00:00<?, ?it/s]"
     ]
    },
    {
     "name": "stdout",
     "output_type": "stream",
     "text": [
      "model\\Mask R-CNN\\test-6-divide-4\\2021-12-13 00-05-35-epoch-14.pkl\n"
     ]
    },
    {
     "name": "stderr",
     "output_type": "stream",
     "text": [
      "Epoch: 15, lr: 1e-05, loss_classifier: 0.02 loss_box_reg: 0.02 loss_mask: 0.08 loss_objectness: 0.00 loss_rpn_box_reg: 0.01: 100%|██████████| 8/8 [00:07<00:00,  1.05it/s]\n",
      "Epoch: 16, lr: 1e-05, loss_classifier: 0.01 loss_box_reg: 0.02 loss_mask: 0.08 loss_objectness: 0.00 loss_rpn_box_reg: 0.01: 100%|██████████| 8/8 [00:07<00:00,  1.05it/s]\n",
      "Epoch: 17, lr: 1e-05, loss_classifier: 0.01 loss_box_reg: 0.02 loss_mask: 0.07 loss_objectness: 0.00 loss_rpn_box_reg: 0.00: 100%|██████████| 8/8 [00:07<00:00,  1.05it/s]\n"
     ]
    },
    {
     "name": "stdout",
     "output_type": "stream",
     "text": [
      "Save model at epoch 17.\n"
     ]
    },
    {
     "name": "stderr",
     "output_type": "stream",
     "text": [
      "  0%|          | 0/8 [00:00<?, ?it/s]"
     ]
    },
    {
     "name": "stdout",
     "output_type": "stream",
     "text": [
      "model\\Mask R-CNN\\test-6-divide-4\\2021-12-13 00-05-35-epoch-17.pkl\n"
     ]
    },
    {
     "name": "stderr",
     "output_type": "stream",
     "text": [
      "Epoch: 18, lr: 1e-05, loss_classifier: 0.02 loss_box_reg: 0.02 loss_mask: 0.08 loss_objectness: 0.00 loss_rpn_box_reg: 0.01: 100%|██████████| 8/8 [00:07<00:00,  1.05it/s]\n",
      "Epoch: 19, lr: 1e-05, loss_classifier: 0.02 loss_box_reg: 0.03 loss_mask: 0.07 loss_objectness: 0.00 loss_rpn_box_reg: 0.01: 100%|██████████| 8/8 [00:07<00:00,  1.05it/s]\n",
      "Epoch: 20, lr: 1e-05, loss_classifier: 0.02 loss_box_reg: 0.03 loss_mask: 0.08 loss_objectness: 0.00 loss_rpn_box_reg: 0.01: 100%|██████████| 8/8 [00:07<00:00,  1.06it/s]\n",
      "Epoch: 21, lr: 1e-05, loss_classifier: 0.01 loss_box_reg: 0.02 loss_mask: 0.07 loss_objectness: 0.00 loss_rpn_box_reg: 0.01: 100%|██████████| 8/8 [00:07<00:00,  1.07it/s]\n",
      "Epoch: 22, lr: 1e-05, loss_classifier: 0.01 loss_box_reg: 0.02 loss_mask: 0.07 loss_objectness: 0.00 loss_rpn_box_reg: 0.01: 100%|██████████| 8/8 [00:07<00:00,  1.05it/s]\n",
      "Epoch: 23, lr: 1e-05, loss_classifier: 0.01 loss_box_reg: 0.02 loss_mask: 0.07 loss_objectness: 0.00 loss_rpn_box_reg: 0.00: 100%|██████████| 8/8 [00:07<00:00,  1.05it/s]\n",
      "Epoch: 24, lr: 1e-05, loss_classifier: 0.02 loss_box_reg: 0.02 loss_mask: 0.07 loss_objectness: 0.00 loss_rpn_box_reg: 0.00: 100%|██████████| 8/8 [00:07<00:00,  1.05it/s]\n",
      "Epoch: 25, lr: 1e-05, loss_classifier: 0.01 loss_box_reg: 0.02 loss_mask: 0.07 loss_objectness: 0.00 loss_rpn_box_reg: 0.00: 100%|██████████| 8/8 [00:07<00:00,  1.04it/s]\n"
     ]
    },
    {
     "name": "stdout",
     "output_type": "stream",
     "text": [
      "Save model at epoch 25.\n"
     ]
    },
    {
     "name": "stderr",
     "output_type": "stream",
     "text": [
      "  0%|          | 0/8 [00:00<?, ?it/s]"
     ]
    },
    {
     "name": "stdout",
     "output_type": "stream",
     "text": [
      "model\\Mask R-CNN\\test-6-divide-4\\2021-12-13 00-05-35-epoch-25.pkl\n"
     ]
    },
    {
     "name": "stderr",
     "output_type": "stream",
     "text": [
      "Epoch: 26, lr: 1e-05, loss_classifier: 0.02 loss_box_reg: 0.02 loss_mask: 0.07 loss_objectness: 0.00 loss_rpn_box_reg: 0.00: 100%|██████████| 8/8 [00:07<00:00,  1.06it/s]\n",
      "Epoch: 27, lr: 1e-05, loss_classifier: 0.02 loss_box_reg: 0.02 loss_mask: 0.07 loss_objectness: 0.00 loss_rpn_box_reg: 0.00: 100%|██████████| 8/8 [00:07<00:00,  1.05it/s]\n",
      "Epoch: 28, lr: 1e-05, loss_classifier: 0.01 loss_box_reg: 0.02 loss_mask: 0.07 loss_objectness: 0.00 loss_rpn_box_reg: 0.00: 100%|██████████| 8/8 [00:07<00:00,  1.04it/s]\n",
      "Epoch: 29, lr: 1e-05, loss_classifier: 0.01 loss_box_reg: 0.02 loss_mask: 0.07 loss_objectness: 0.00 loss_rpn_box_reg: 0.00: 100%|██████████| 8/8 [00:07<00:00,  1.05it/s]\n"
     ]
    },
    {
     "name": "stdout",
     "output_type": "stream",
     "text": [
      "Save model at epoch 29.\n"
     ]
    },
    {
     "name": "stderr",
     "output_type": "stream",
     "text": [
      "  0%|          | 0/8 [00:00<?, ?it/s]"
     ]
    },
    {
     "name": "stdout",
     "output_type": "stream",
     "text": [
      "model\\Mask R-CNN\\test-6-divide-4\\2021-12-13 00-05-35-epoch-29.pkl\n"
     ]
    },
    {
     "name": "stderr",
     "output_type": "stream",
     "text": [
      "Epoch: 30, lr: 1e-05, loss_classifier: 0.01 loss_box_reg: 0.02 loss_mask: 0.07 loss_objectness: 0.00 loss_rpn_box_reg: 0.00: 100%|██████████| 8/8 [00:07<00:00,  1.05it/s]\n"
     ]
    },
    {
     "name": "stdout",
     "output_type": "stream",
     "text": [
      "Save model at epoch 30.\n"
     ]
    },
    {
     "name": "stderr",
     "output_type": "stream",
     "text": [
      "  0%|          | 0/8 [00:00<?, ?it/s]"
     ]
    },
    {
     "name": "stdout",
     "output_type": "stream",
     "text": [
      "model\\Mask R-CNN\\test-6-divide-4\\2021-12-13 00-05-35-epoch-30.pkl\n"
     ]
    },
    {
     "name": "stderr",
     "output_type": "stream",
     "text": [
      "Epoch: 31, lr: 1e-05, loss_classifier: 0.01 loss_box_reg: 0.02 loss_mask: 0.07 loss_objectness: 0.00 loss_rpn_box_reg: 0.00: 100%|██████████| 8/8 [00:07<00:00,  1.06it/s]\n",
      "Epoch: 32, lr: 1e-05, loss_classifier: 0.01 loss_box_reg: 0.02 loss_mask: 0.07 loss_objectness: 0.00 loss_rpn_box_reg: 0.00: 100%|██████████| 8/8 [00:07<00:00,  1.05it/s]\n",
      "Epoch: 33, lr: 1e-05, loss_classifier: 0.01 loss_box_reg: 0.02 loss_mask: 0.07 loss_objectness: 0.00 loss_rpn_box_reg: 0.00: 100%|██████████| 8/8 [00:07<00:00,  1.04it/s]\n",
      "Epoch: 34, lr: 1e-05, loss_classifier: 0.02 loss_box_reg: 0.02 loss_mask: 0.07 loss_objectness: 0.00 loss_rpn_box_reg: 0.00: 100%|██████████| 8/8 [00:07<00:00,  1.05it/s]\n",
      "Epoch: 35, lr: 1e-05, loss_classifier: 0.01 loss_box_reg: 0.02 loss_mask: 0.07 loss_objectness: 0.00 loss_rpn_box_reg: 0.00: 100%|██████████| 8/8 [00:07<00:00,  1.05it/s]\n"
     ]
    },
    {
     "name": "stdout",
     "output_type": "stream",
     "text": [
      "Save model at epoch 35.\n"
     ]
    },
    {
     "name": "stderr",
     "output_type": "stream",
     "text": [
      "  0%|          | 0/8 [00:00<?, ?it/s]"
     ]
    },
    {
     "name": "stdout",
     "output_type": "stream",
     "text": [
      "model\\Mask R-CNN\\test-6-divide-4\\2021-12-13 00-05-35-epoch-35.pkl\n"
     ]
    },
    {
     "name": "stderr",
     "output_type": "stream",
     "text": [
      "Epoch: 36, lr: 1e-05, loss_classifier: 0.01 loss_box_reg: 0.02 loss_mask: 0.07 loss_objectness: 0.00 loss_rpn_box_reg: 0.00: 100%|██████████| 8/8 [00:07<00:00,  1.05it/s]\n",
      "Epoch: 37, lr: 1e-05, loss_classifier: 0.01 loss_box_reg: 0.02 loss_mask: 0.07 loss_objectness: 0.00 loss_rpn_box_reg: 0.00: 100%|██████████| 8/8 [00:07<00:00,  1.05it/s]\n",
      "Epoch: 38, lr: 1e-05, loss_classifier: 0.01 loss_box_reg: 0.02 loss_mask: 0.07 loss_objectness: 0.00 loss_rpn_box_reg: 0.00: 100%|██████████| 8/8 [00:07<00:00,  1.05it/s]\n",
      "Epoch: 39, lr: 1e-05, loss_classifier: 0.01 loss_box_reg: 0.02 loss_mask: 0.07 loss_objectness: 0.00 loss_rpn_box_reg: 0.00: 100%|██████████| 8/8 [00:07<00:00,  1.05it/s]\n"
     ]
    },
    {
     "name": "stdout",
     "output_type": "stream",
     "text": [
      "Save model at epoch 39.\n"
     ]
    },
    {
     "name": "stderr",
     "output_type": "stream",
     "text": [
      "  0%|          | 0/8 [00:00<?, ?it/s]"
     ]
    },
    {
     "name": "stdout",
     "output_type": "stream",
     "text": [
      "model\\Mask R-CNN\\test-6-divide-4\\2021-12-13 00-05-35-epoch-39.pkl\n"
     ]
    },
    {
     "name": "stderr",
     "output_type": "stream",
     "text": [
      "Epoch: 40, lr: 1e-05, loss_classifier: 0.01 loss_box_reg: 0.02 loss_mask: 0.07 loss_objectness: 0.00 loss_rpn_box_reg: 0.00: 100%|██████████| 8/8 [00:07<00:00,  1.05it/s]\n",
      "Epoch: 41, lr: 1e-05, loss_classifier: 0.02 loss_box_reg: 0.02 loss_mask: 0.07 loss_objectness: 0.00 loss_rpn_box_reg: 0.00: 100%|██████████| 8/8 [00:07<00:00,  1.05it/s]\n",
      "Epoch: 42, lr: 1e-05, loss_classifier: 0.01 loss_box_reg: 0.02 loss_mask: 0.07 loss_objectness: 0.00 loss_rpn_box_reg: 0.00: 100%|██████████| 8/8 [00:07<00:00,  1.06it/s]\n",
      "Epoch: 43, lr: 1e-05, loss_classifier: 0.01 loss_box_reg: 0.02 loss_mask: 0.07 loss_objectness: 0.00 loss_rpn_box_reg: 0.00: 100%|██████████| 8/8 [00:07<00:00,  1.04it/s]\n"
     ]
    },
    {
     "name": "stdout",
     "output_type": "stream",
     "text": [
      "Save model at epoch 43.\n"
     ]
    },
    {
     "name": "stderr",
     "output_type": "stream",
     "text": [
      "  0%|          | 0/8 [00:00<?, ?it/s]"
     ]
    },
    {
     "name": "stdout",
     "output_type": "stream",
     "text": [
      "model\\Mask R-CNN\\test-6-divide-4\\2021-12-13 00-05-35-epoch-43.pkl\n"
     ]
    },
    {
     "name": "stderr",
     "output_type": "stream",
     "text": [
      "Epoch: 44, lr: 1e-05, loss_classifier: 0.01 loss_box_reg: 0.02 loss_mask: 0.07 loss_objectness: 0.00 loss_rpn_box_reg: 0.01: 100%|██████████| 8/8 [00:07<00:00,  1.05it/s]\n",
      "Epoch: 45, lr: 1e-05, loss_classifier: 0.01 loss_box_reg: 0.02 loss_mask: 0.07 loss_objectness: 0.00 loss_rpn_box_reg: 0.00: 100%|██████████| 8/8 [00:07<00:00,  1.05it/s]\n",
      "Epoch: 46, lr: 1e-05, loss_classifier: 0.02 loss_box_reg: 0.02 loss_mask: 0.07 loss_objectness: 0.00 loss_rpn_box_reg: 0.00: 100%|██████████| 8/8 [00:07<00:00,  1.06it/s]\n",
      "Epoch: 47, lr: 1e-05, loss_classifier: 0.01 loss_box_reg: 0.02 loss_mask: 0.07 loss_objectness: 0.00 loss_rpn_box_reg: 0.00: 100%|██████████| 8/8 [00:07<00:00,  1.06it/s]\n",
      "Epoch: 48, lr: 1e-05, loss_classifier: 0.01 loss_box_reg: 0.02 loss_mask: 0.07 loss_objectness: 0.00 loss_rpn_box_reg: 0.00: 100%|██████████| 8/8 [00:07<00:00,  1.06it/s]\n",
      "Epoch: 49, lr: 1e-05, loss_classifier: 0.01 loss_box_reg: 0.02 loss_mask: 0.07 loss_objectness: 0.00 loss_rpn_box_reg: 0.00: 100%|██████████| 8/8 [00:07<00:00,  1.05it/s]\n"
     ]
    },
    {
     "name": "stdout",
     "output_type": "stream",
     "text": [
      "Save model at epoch 49.\n"
     ]
    },
    {
     "name": "stderr",
     "output_type": "stream",
     "text": [
      "  0%|          | 0/8 [00:00<?, ?it/s]"
     ]
    },
    {
     "name": "stdout",
     "output_type": "stream",
     "text": [
      "model\\Mask R-CNN\\test-6-divide-4\\2021-12-13 00-05-35-epoch-49.pkl\n"
     ]
    },
    {
     "name": "stderr",
     "output_type": "stream",
     "text": [
      "Epoch: 50, lr: 1e-05, loss_classifier: 0.01 loss_box_reg: 0.02 loss_mask: 0.07 loss_objectness: 0.00 loss_rpn_box_reg: 0.00: 100%|██████████| 8/8 [00:07<00:00,  1.05it/s]\n"
     ]
    },
    {
     "name": "stdout",
     "output_type": "stream",
     "text": [
      "Save model at epoch 50.\n"
     ]
    },
    {
     "name": "stderr",
     "output_type": "stream",
     "text": [
      "  0%|          | 0/8 [00:00<?, ?it/s]"
     ]
    },
    {
     "name": "stdout",
     "output_type": "stream",
     "text": [
      "model\\Mask R-CNN\\test-6-divide-4\\2021-12-13 00-05-35-epoch-50.pkl\n"
     ]
    },
    {
     "name": "stderr",
     "output_type": "stream",
     "text": [
      "Epoch: 51, lr: 1e-05, loss_classifier: 0.01 loss_box_reg: 0.02 loss_mask: 0.07 loss_objectness: 0.00 loss_rpn_box_reg: 0.00: 100%|██████████| 8/8 [00:07<00:00,  1.06it/s]\n",
      "Epoch: 52, lr: 1e-05, loss_classifier: 0.01 loss_box_reg: 0.02 loss_mask: 0.07 loss_objectness: 0.00 loss_rpn_box_reg: 0.00: 100%|██████████| 8/8 [00:07<00:00,  1.05it/s]\n",
      "Epoch: 53, lr: 1e-05, loss_classifier: 0.02 loss_box_reg: 0.02 loss_mask: 0.07 loss_objectness: 0.00 loss_rpn_box_reg: 0.00: 100%|██████████| 8/8 [00:07<00:00,  1.05it/s]\n",
      "Epoch: 54, lr: 1e-05, loss_classifier: 0.01 loss_box_reg: 0.02 loss_mask: 0.07 loss_objectness: 0.00 loss_rpn_box_reg: 0.00: 100%|██████████| 8/8 [00:07<00:00,  1.05it/s]\n",
      "Epoch: 55, lr: 1e-05, loss_classifier: 0.01 loss_box_reg: 0.02 loss_mask: 0.07 loss_objectness: 0.00 loss_rpn_box_reg: 0.00: 100%|██████████| 8/8 [00:07<00:00,  1.05it/s]\n",
      "Epoch: 56, lr: 1e-05, loss_classifier: 0.01 loss_box_reg: 0.02 loss_mask: 0.07 loss_objectness: 0.00 loss_rpn_box_reg: 0.00: 100%|██████████| 8/8 [00:07<00:00,  1.06it/s]\n",
      "Epoch: 57, lr: 1e-05, loss_classifier: 0.01 loss_box_reg: 0.02 loss_mask: 0.07 loss_objectness: 0.00 loss_rpn_box_reg: 0.00: 100%|██████████| 8/8 [00:07<00:00,  1.06it/s]\n",
      "Epoch: 58, lr: 1e-05, loss_classifier: 0.01 loss_box_reg: 0.02 loss_mask: 0.07 loss_objectness: 0.00 loss_rpn_box_reg: 0.00: 100%|██████████| 8/8 [00:07<00:00,  1.05it/s]\n",
      "Epoch: 59, lr: 1e-05, loss_classifier: 0.01 loss_box_reg: 0.02 loss_mask: 0.07 loss_objectness: 0.00 loss_rpn_box_reg: 0.00: 100%|██████████| 8/8 [00:07<00:00,  1.05it/s]\n",
      "Epoch: 60, lr: 1e-05, loss_classifier: 0.01 loss_box_reg: 0.02 loss_mask: 0.07 loss_objectness: 0.00 loss_rpn_box_reg: 0.00: 100%|██████████| 8/8 [00:07<00:00,  1.05it/s]\n",
      "Epoch: 61, lr: 1e-06, loss_classifier: 0.01 loss_box_reg: 0.02 loss_mask: 0.07 loss_objectness: 0.00 loss_rpn_box_reg: 0.00: 100%|██████████| 8/8 [00:07<00:00,  1.06it/s]\n",
      "Epoch: 62, lr: 1e-06, loss_classifier: 0.01 loss_box_reg: 0.01 loss_mask: 0.07 loss_objectness: 0.00 loss_rpn_box_reg: 0.00: 100%|██████████| 8/8 [00:07<00:00,  1.06it/s]\n"
     ]
    },
    {
     "name": "stdout",
     "output_type": "stream",
     "text": [
      "Save model at epoch 62.\n"
     ]
    },
    {
     "name": "stderr",
     "output_type": "stream",
     "text": [
      "  0%|          | 0/8 [00:00<?, ?it/s]"
     ]
    },
    {
     "name": "stdout",
     "output_type": "stream",
     "text": [
      "model\\Mask R-CNN\\test-6-divide-4\\2021-12-13 00-05-35-epoch-62.pkl\n"
     ]
    },
    {
     "name": "stderr",
     "output_type": "stream",
     "text": [
      "Epoch: 63, lr: 1e-06, loss_classifier: 0.01 loss_box_reg: 0.01 loss_mask: 0.07 loss_objectness: 0.00 loss_rpn_box_reg: 0.00: 100%|██████████| 8/8 [00:07<00:00,  1.06it/s]\n"
     ]
    },
    {
     "name": "stdout",
     "output_type": "stream",
     "text": [
      "Save model at epoch 63.\n"
     ]
    },
    {
     "name": "stderr",
     "output_type": "stream",
     "text": [
      "  0%|          | 0/8 [00:00<?, ?it/s]"
     ]
    },
    {
     "name": "stdout",
     "output_type": "stream",
     "text": [
      "model\\Mask R-CNN\\test-6-divide-4\\2021-12-13 00-05-35-epoch-63.pkl\n"
     ]
    },
    {
     "name": "stderr",
     "output_type": "stream",
     "text": [
      "Epoch: 64, lr: 1e-06, loss_classifier: 0.01 loss_box_reg: 0.01 loss_mask: 0.07 loss_objectness: 0.00 loss_rpn_box_reg: 0.00: 100%|██████████| 8/8 [00:07<00:00,  1.05it/s]\n"
     ]
    },
    {
     "name": "stdout",
     "output_type": "stream",
     "text": [
      "Save model at epoch 64.\n"
     ]
    },
    {
     "name": "stderr",
     "output_type": "stream",
     "text": [
      "  0%|          | 0/8 [00:00<?, ?it/s]"
     ]
    },
    {
     "name": "stdout",
     "output_type": "stream",
     "text": [
      "model\\Mask R-CNN\\test-6-divide-4\\2021-12-13 00-05-35-epoch-64.pkl\n"
     ]
    },
    {
     "name": "stderr",
     "output_type": "stream",
     "text": [
      "Epoch: 65, lr: 1e-06, loss_classifier: 0.01 loss_box_reg: 0.01 loss_mask: 0.07 loss_objectness: 0.00 loss_rpn_box_reg: 0.00: 100%|██████████| 8/8 [00:07<00:00,  1.05it/s]\n"
     ]
    },
    {
     "name": "stdout",
     "output_type": "stream",
     "text": [
      "Save model at epoch 65.\n"
     ]
    },
    {
     "name": "stderr",
     "output_type": "stream",
     "text": [
      "  0%|          | 0/8 [00:00<?, ?it/s]"
     ]
    },
    {
     "name": "stdout",
     "output_type": "stream",
     "text": [
      "model\\Mask R-CNN\\test-6-divide-4\\2021-12-13 00-05-35-epoch-65.pkl\n"
     ]
    },
    {
     "name": "stderr",
     "output_type": "stream",
     "text": [
      "Epoch: 66, lr: 1e-06, loss_classifier: 0.01 loss_box_reg: 0.01 loss_mask: 0.07 loss_objectness: 0.00 loss_rpn_box_reg: 0.00: 100%|██████████| 8/8 [00:07<00:00,  1.05it/s]\n",
      "Epoch: 67, lr: 1e-06, loss_classifier: 0.01 loss_box_reg: 0.01 loss_mask: 0.07 loss_objectness: 0.00 loss_rpn_box_reg: 0.00: 100%|██████████| 8/8 [00:07<00:00,  1.05it/s]\n"
     ]
    },
    {
     "name": "stdout",
     "output_type": "stream",
     "text": [
      "Save model at epoch 67.\n"
     ]
    },
    {
     "name": "stderr",
     "output_type": "stream",
     "text": [
      "  0%|          | 0/8 [00:00<?, ?it/s]"
     ]
    },
    {
     "name": "stdout",
     "output_type": "stream",
     "text": [
      "model\\Mask R-CNN\\test-6-divide-4\\2021-12-13 00-05-35-epoch-67.pkl\n"
     ]
    },
    {
     "name": "stderr",
     "output_type": "stream",
     "text": [
      "Epoch: 68, lr: 1e-06, loss_classifier: 0.01 loss_box_reg: 0.01 loss_mask: 0.07 loss_objectness: 0.00 loss_rpn_box_reg: 0.00: 100%|██████████| 8/8 [00:07<00:00,  1.05it/s]\n"
     ]
    },
    {
     "name": "stdout",
     "output_type": "stream",
     "text": [
      "Save model at epoch 68.\n"
     ]
    },
    {
     "name": "stderr",
     "output_type": "stream",
     "text": [
      "  0%|          | 0/8 [00:00<?, ?it/s]"
     ]
    },
    {
     "name": "stdout",
     "output_type": "stream",
     "text": [
      "model\\Mask R-CNN\\test-6-divide-4\\2021-12-13 00-05-35-epoch-68.pkl\n"
     ]
    },
    {
     "name": "stderr",
     "output_type": "stream",
     "text": [
      "Epoch: 69, lr: 1e-06, loss_classifier: 0.01 loss_box_reg: 0.01 loss_mask: 0.07 loss_objectness: 0.00 loss_rpn_box_reg: 0.00: 100%|██████████| 8/8 [00:07<00:00,  1.06it/s]\n",
      "Epoch: 70, lr: 1e-06, loss_classifier: 0.01 loss_box_reg: 0.01 loss_mask: 0.07 loss_objectness: 0.00 loss_rpn_box_reg: 0.00: 100%|██████████| 8/8 [00:07<00:00,  1.06it/s]\n",
      "Epoch: 71, lr: 1e-06, loss_classifier: 0.01 loss_box_reg: 0.01 loss_mask: 0.07 loss_objectness: 0.00 loss_rpn_box_reg: 0.00: 100%|██████████| 8/8 [00:07<00:00,  1.06it/s]\n",
      "Epoch: 72, lr: 1e-06, loss_classifier: 0.01 loss_box_reg: 0.01 loss_mask: 0.07 loss_objectness: 0.00 loss_rpn_box_reg: 0.00: 100%|██████████| 8/8 [00:07<00:00,  1.06it/s]\n"
     ]
    },
    {
     "name": "stdout",
     "output_type": "stream",
     "text": [
      "Save model at epoch 72.\n"
     ]
    },
    {
     "name": "stderr",
     "output_type": "stream",
     "text": [
      "  0%|          | 0/8 [00:00<?, ?it/s]"
     ]
    },
    {
     "name": "stdout",
     "output_type": "stream",
     "text": [
      "model\\Mask R-CNN\\test-6-divide-4\\2021-12-13 00-05-35-epoch-72.pkl\n"
     ]
    },
    {
     "name": "stderr",
     "output_type": "stream",
     "text": [
      "Epoch: 73, lr: 1e-06, loss_classifier: 0.01 loss_box_reg: 0.01 loss_mask: 0.07 loss_objectness: 0.00 loss_rpn_box_reg: 0.00: 100%|██████████| 8/8 [00:07<00:00,  1.05it/s]\n",
      "Epoch: 74, lr: 1e-06, loss_classifier: 0.01 loss_box_reg: 0.01 loss_mask: 0.07 loss_objectness: 0.00 loss_rpn_box_reg: 0.00: 100%|██████████| 8/8 [00:07<00:00,  1.06it/s]\n",
      "Epoch: 75, lr: 1e-06, loss_classifier: 0.01 loss_box_reg: 0.01 loss_mask: 0.07 loss_objectness: 0.00 loss_rpn_box_reg: 0.00: 100%|██████████| 8/8 [00:07<00:00,  1.06it/s]\n",
      "Epoch: 76, lr: 1e-06, loss_classifier: 0.01 loss_box_reg: 0.01 loss_mask: 0.07 loss_objectness: 0.00 loss_rpn_box_reg: 0.00: 100%|██████████| 8/8 [00:07<00:00,  1.05it/s]\n",
      "Epoch: 77, lr: 1e-06, loss_classifier: 0.01 loss_box_reg: 0.01 loss_mask: 0.07 loss_objectness: 0.00 loss_rpn_box_reg: 0.00: 100%|██████████| 8/8 [00:07<00:00,  1.06it/s]\n",
      "Epoch: 78, lr: 1e-06, loss_classifier: 0.01 loss_box_reg: 0.01 loss_mask: 0.07 loss_objectness: 0.00 loss_rpn_box_reg: 0.00: 100%|██████████| 8/8 [00:07<00:00,  1.06it/s]\n"
     ]
    },
    {
     "name": "stdout",
     "output_type": "stream",
     "text": [
      "Save model at epoch 78.\n"
     ]
    },
    {
     "name": "stderr",
     "output_type": "stream",
     "text": [
      "  0%|          | 0/8 [00:00<?, ?it/s]"
     ]
    },
    {
     "name": "stdout",
     "output_type": "stream",
     "text": [
      "model\\Mask R-CNN\\test-6-divide-4\\2021-12-13 00-05-35-epoch-78.pkl\n"
     ]
    },
    {
     "name": "stderr",
     "output_type": "stream",
     "text": [
      "Epoch: 79, lr: 1e-06, loss_classifier: 0.01 loss_box_reg: 0.01 loss_mask: 0.07 loss_objectness: 0.00 loss_rpn_box_reg: 0.00: 100%|██████████| 8/8 [00:07<00:00,  1.06it/s]\n",
      "Epoch: 80, lr: 1e-06, loss_classifier: 0.01 loss_box_reg: 0.01 loss_mask: 0.07 loss_objectness: 0.00 loss_rpn_box_reg: 0.00: 100%|██████████| 8/8 [00:07<00:00,  1.06it/s]\n"
     ]
    },
    {
     "name": "stdout",
     "output_type": "stream",
     "text": [
      "Save model at epoch 80.\n"
     ]
    },
    {
     "name": "stderr",
     "output_type": "stream",
     "text": [
      "  0%|          | 0/8 [00:00<?, ?it/s]"
     ]
    },
    {
     "name": "stdout",
     "output_type": "stream",
     "text": [
      "model\\Mask R-CNN\\test-6-divide-4\\2021-12-13 00-05-35-epoch-80.pkl\n"
     ]
    },
    {
     "name": "stderr",
     "output_type": "stream",
     "text": [
      "Epoch: 81, lr: 1e-06, loss_classifier: 0.01 loss_box_reg: 0.01 loss_mask: 0.07 loss_objectness: 0.00 loss_rpn_box_reg: 0.00: 100%|██████████| 8/8 [00:07<00:00,  1.04it/s]\n",
      "Epoch: 82, lr: 1e-06, loss_classifier: 0.01 loss_box_reg: 0.01 loss_mask: 0.06 loss_objectness: 0.00 loss_rpn_box_reg: 0.00: 100%|██████████| 8/8 [00:07<00:00,  1.05it/s]\n",
      "Epoch: 83, lr: 1e-06, loss_classifier: 0.01 loss_box_reg: 0.01 loss_mask: 0.07 loss_objectness: 0.00 loss_rpn_box_reg: 0.00: 100%|██████████| 8/8 [00:07<00:00,  1.06it/s]\n",
      "Epoch: 84, lr: 1e-06, loss_classifier: 0.01 loss_box_reg: 0.01 loss_mask: 0.07 loss_objectness: 0.00 loss_rpn_box_reg: 0.00: 100%|██████████| 8/8 [00:07<00:00,  1.05it/s]\n",
      "Epoch: 85, lr: 1e-06, loss_classifier: 0.01 loss_box_reg: 0.01 loss_mask: 0.07 loss_objectness: 0.00 loss_rpn_box_reg: 0.00: 100%|██████████| 8/8 [00:07<00:00,  1.06it/s]\n",
      "Epoch: 86, lr: 1e-06, loss_classifier: 0.01 loss_box_reg: 0.01 loss_mask: 0.06 loss_objectness: 0.00 loss_rpn_box_reg: 0.00: 100%|██████████| 8/8 [00:07<00:00,  1.05it/s]\n"
     ]
    },
    {
     "name": "stdout",
     "output_type": "stream",
     "text": [
      "Save model at epoch 86.\n"
     ]
    },
    {
     "name": "stderr",
     "output_type": "stream",
     "text": [
      "  0%|          | 0/8 [00:00<?, ?it/s]"
     ]
    },
    {
     "name": "stdout",
     "output_type": "stream",
     "text": [
      "model\\Mask R-CNN\\test-6-divide-4\\2021-12-13 00-05-35-epoch-86.pkl\n"
     ]
    },
    {
     "name": "stderr",
     "output_type": "stream",
     "text": [
      "Epoch: 87, lr: 1e-06, loss_classifier: 0.01 loss_box_reg: 0.01 loss_mask: 0.07 loss_objectness: 0.00 loss_rpn_box_reg: 0.00: 100%|██████████| 8/8 [00:07<00:00,  1.05it/s]\n",
      "Epoch: 88, lr: 1e-06, loss_classifier: 0.01 loss_box_reg: 0.01 loss_mask: 0.06 loss_objectness: 0.00 loss_rpn_box_reg: 0.00: 100%|██████████| 8/8 [00:07<00:00,  1.06it/s]\n",
      "Epoch: 89, lr: 1e-06, loss_classifier: 0.01 loss_box_reg: 0.01 loss_mask: 0.07 loss_objectness: 0.00 loss_rpn_box_reg: 0.00: 100%|██████████| 8/8 [00:07<00:00,  1.05it/s]\n",
      "Epoch: 90, lr: 1e-06, loss_classifier: 0.01 loss_box_reg: 0.01 loss_mask: 0.07 loss_objectness: 0.00 loss_rpn_box_reg: 0.00: 100%|██████████| 8/8 [00:07<00:00,  1.05it/s]\n",
      "Epoch: 91, lr: 1e-06, loss_classifier: 0.01 loss_box_reg: 0.01 loss_mask: 0.06 loss_objectness: 0.00 loss_rpn_box_reg: 0.00: 100%|██████████| 8/8 [00:07<00:00,  1.05it/s]\n",
      "Epoch: 92, lr: 1e-06, loss_classifier: 0.01 loss_box_reg: 0.01 loss_mask: 0.07 loss_objectness: 0.00 loss_rpn_box_reg: 0.00: 100%|██████████| 8/8 [00:07<00:00,  1.04it/s]\n",
      "Epoch: 93, lr: 1e-06, loss_classifier: 0.01 loss_box_reg: 0.01 loss_mask: 0.07 loss_objectness: 0.00 loss_rpn_box_reg: 0.00: 100%|██████████| 8/8 [00:07<00:00,  1.05it/s]\n",
      "Epoch: 94, lr: 1e-06, loss_classifier: 0.01 loss_box_reg: 0.01 loss_mask: 0.06 loss_objectness: 0.00 loss_rpn_box_reg: 0.00: 100%|██████████| 8/8 [00:07<00:00,  1.04it/s]\n",
      "Epoch: 95, lr: 1e-06, loss_classifier: 0.01 loss_box_reg: 0.01 loss_mask: 0.07 loss_objectness: 0.00 loss_rpn_box_reg: 0.00: 100%|██████████| 8/8 [00:07<00:00,  1.05it/s]\n",
      "Epoch: 96, lr: 1e-06, loss_classifier: 0.01 loss_box_reg: 0.01 loss_mask: 0.07 loss_objectness: 0.00 loss_rpn_box_reg: 0.00: 100%|██████████| 8/8 [00:07<00:00,  1.06it/s]\n",
      "Epoch: 97, lr: 1e-06, loss_classifier: 0.01 loss_box_reg: 0.01 loss_mask: 0.06 loss_objectness: 0.00 loss_rpn_box_reg: 0.00: 100%|██████████| 8/8 [00:07<00:00,  1.05it/s]\n",
      "Epoch: 98, lr: 1e-06, loss_classifier: 0.01 loss_box_reg: 0.01 loss_mask: 0.06 loss_objectness: 0.00 loss_rpn_box_reg: 0.00: 100%|██████████| 8/8 [00:07<00:00,  1.06it/s]\n",
      "Epoch: 99, lr: 1e-06, loss_classifier: 0.01 loss_box_reg: 0.01 loss_mask: 0.07 loss_objectness: 0.00 loss_rpn_box_reg: 0.00: 100%|██████████| 8/8 [00:07<00:00,  1.05it/s]\n",
      "Epoch: 100, lr: 1e-06, loss_classifier: 0.01 loss_box_reg: 0.01 loss_mask: 0.07 loss_objectness: 0.00 loss_rpn_box_reg: 0.00: 100%|██████████| 8/8 [00:07<00:00,  1.05it/s]\n"
     ]
    }
   ],
   "source": [
    "import time\n",
    "from mask_rcnn_train import train\n",
    "from dataset import test_MaskRCNNTrainDataset\n",
    "import os\n",
    "date = time.strftime(\"%Y-%m-%d %H-%M-%S\", time.localtime())\n",
    "# only train image_4\n",
    "load_model_path = os.path.join('model', 'Mask R-CNN', 'divide-4',\n",
    "                              '2021-12-12 00-00-07-epoch-100.pkl')\n",
    "for i in [1, 2, 3, 6]:\n",
    "    train_dir = os.path.join('dataset', f'test-{i}-divide-4')\n",
    "    save_model_dir = os.path.join('model', 'Mask R-CNN', f'test-{i}-divide-4')\n",
    "    train(date, train_dir, save_model_dir, load_model_path)"
   ]
  }
 ],
 "metadata": {
  "interpreter": {
   "hash": "4023601d2c66765c2cd41cc7509af1d35fa85332d14551f25660655c523b7ce6"
  },
  "kernelspec": {
   "display_name": "Python 3.7.11 64-bit ('VRDL_HW3': conda)",
   "language": "python",
   "name": "python3"
  },
  "language_info": {
   "codemirror_mode": {
    "name": "ipython",
    "version": 3
   },
   "file_extension": ".py",
   "mimetype": "text/x-python",
   "name": "python",
   "nbconvert_exporter": "python",
   "pygments_lexer": "ipython3",
   "version": "3.7.11"
  },
  "orig_nbformat": 4
 },
 "nbformat": 4,
 "nbformat_minor": 2
}
