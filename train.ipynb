{
 "cells": [
  {
   "cell_type": "code",
   "execution_count": null,
   "metadata": {},
   "outputs": [],
   "source": [
    "import time\n",
    "from mask_rcnn_train import train\n",
    "from dataset import test_MaskRCNNTrainDataset\n",
    "date = time.strftime(\"%Y-%m-%d %H-%M-%S\", time.localtime())\n",
    "# train(date)\n",
    "# test_MaskRCNNTrainDataset()"
   ]
  },
  {
   "cell_type": "code",
   "execution_count": null,
   "metadata": {},
   "outputs": [],
   "source": [
    "# import numpy as np\n",
    "# import torch\n",
    "# device = torch.device('cuda' if torch.cuda.is_available() else 'cpu')\n",
    "# # print(device)\n",
    "\n",
    "# input = torch.as_tensor(np.ones(3, dtype=np.float32))\n",
    "# if input.dtype == torch.float32:\n",
    "#     # input = input.to(device).type(torch.cuda.FloatTensor)\n",
    "#     input = input.type(torch.cuda.FloatTensor)\n",
    "#     print(input.get_device())\n",
    "# print(input.dtype)"
   ]
  },
  {
   "cell_type": "code",
   "execution_count": null,
   "metadata": {},
   "outputs": [],
   "source": [
    "import time\n",
    "from mask_rcnn_train import train\n",
    "from dataset import test_MaskRCNNTrainDataset\n",
    "import os\n",
    "date = time.strftime(\"%Y-%m-%d %H-%M-%S\", time.localtime())\n",
    "# only train image_4\n",
    "load_model_path = os.path.join('model', 'Mask R-CNN', 'divide-4',\n",
    "                              '2021-12-12 00-00-07-epoch-100.pkl')\n",
    "for i in [1, 2, 3, 6]:\n",
    "    train_dir = os.path.join('dataset', f'test-{i}-divide-4')\n",
    "    save_model_dir = os.path.join('model', 'Mask R-CNN', f'test-{i}-divide-4')\n",
    "    train(date, train_dir, save_model_dir, load_model_path)"
   ]
  },
  {
   "cell_type": "code",
   "execution_count": 1,
   "metadata": {},
   "outputs": [
    {
     "name": "stdout",
     "output_type": "stream",
     "text": [
      "dataset\\divide-2\n",
      "model\\Mask R-CNN (ResNet-101 + FPN)\n",
      "True\n",
      "Device: cuda\n"
     ]
    },
    {
     "name": "stderr",
     "output_type": "stream",
     "text": [
      "  0%|          | 0/96 [00:00<?, ?it/s]C:\\Users\\Lab620\\Anaconda3\\envs\\VRDL_HW3\\lib\\site-packages\\torch\\_tensor.py:575: UserWarning: floor_divide is deprecated, and will be removed in a future version of pytorch. It currently rounds toward 0 (like the 'trunc' function NOT 'floor'). This results in incorrect rounding for negative values.\n",
      "To keep the current behavior, use torch.div(a, b, rounding_mode='trunc'), or for actual floor division, use torch.div(a, b, rounding_mode='floor'). (Triggered internally at  ..\\aten\\src\\ATen\\native\\BinaryOps.cpp:467.)\n",
      "  return torch.floor_divide(self, other)\n",
      "C:\\Users\\Lab620\\Anaconda3\\envs\\VRDL_HW3\\lib\\site-packages\\torch\\nn\\functional.py:718: UserWarning: Named tensors and all their associated APIs are an experimental feature and subject to change. Please do not use them for anything important until they are released as stable. (Triggered internally at  ..\\c10/core/TensorImpl.h:1156.)\n",
      "  return torch.max_pool2d(input, kernel_size, stride, padding, dilation, ceil_mode)\n",
      "Epoch: 1, lr: 1e-04, total loss: 0.2266, loss_classifier: 0.0685 loss_box_reg: 0.0417 loss_mask: 0.0980 loss_objectness: 0.0086 loss_rpn_box_reg: 0.0293: 100%|██████████| 96/96 [05:33<00:00,  3.47s/it]\n"
     ]
    },
    {
     "name": "stdout",
     "output_type": "stream",
     "text": [
      "Save model at epoch 1.\n"
     ]
    },
    {
     "name": "stderr",
     "output_type": "stream",
     "text": [
      "  0%|          | 0/96 [00:00<?, ?it/s]"
     ]
    },
    {
     "name": "stdout",
     "output_type": "stream",
     "text": [
      "model\\Mask R-CNN (ResNet-101 + FPN)\\2021-12-15 23-37-45-best.pkl\n"
     ]
    },
    {
     "name": "stderr",
     "output_type": "stream",
     "text": [
      "Epoch: 2, lr: 1e-04, total loss: 0.2965, loss_classifier: 0.0836 loss_box_reg: 0.0706 loss_mask: 0.1138 loss_objectness: 0.0143 loss_rpn_box_reg: 0.0409: 100%|██████████| 96/96 [05:23<00:00,  3.37s/it]\n",
      "Epoch: 3, lr: 1e-04, total loss: 0.3039, loss_classifier: 0.0848 loss_box_reg: 0.0726 loss_mask: 0.1130 loss_objectness: 0.0207 loss_rpn_box_reg: 0.0411: 100%|██████████| 96/96 [05:23<00:00,  3.37s/it]\n",
      "Epoch: 4, lr: 1e-04, total loss: 0.2894, loss_classifier: 0.0882 loss_box_reg: 0.0704 loss_mask: 0.1113 loss_objectness: 0.0130 loss_rpn_box_reg: 0.0390: 100%|██████████| 96/96 [05:24<00:00,  3.38s/it]\n",
      "Epoch: 5, lr: 1e-04, total loss: 0.3049, loss_classifier: 0.0895 loss_box_reg: 0.0744 loss_mask: 0.1118 loss_objectness: 0.0220 loss_rpn_box_reg: 0.0408: 100%|██████████| 96/96 [05:24<00:00,  3.38s/it]\n",
      "Epoch: 6, lr: 1e-04, total loss: 0.2989, loss_classifier: 0.1126 loss_box_reg: 0.0732 loss_mask: 0.1122 loss_objectness: 0.0181 loss_rpn_box_reg: 0.0392: 100%|██████████| 96/96 [05:25<00:00,  3.39s/it]\n",
      "Epoch: 7, lr: 1e-04, total loss: 0.2837, loss_classifier: 0.1044 loss_box_reg: 0.0675 loss_mask: 0.1098 loss_objectness: 0.0145 loss_rpn_box_reg: 0.0371: 100%|██████████| 96/96 [05:25<00:00,  3.39s/it]\n",
      "Epoch: 8, lr: 1e-04, total loss: 0.2780, loss_classifier: 0.1046 loss_box_reg: 0.0647 loss_mask: 0.1081 loss_objectness: 0.0152 loss_rpn_box_reg: 0.0360: 100%|██████████| 96/96 [05:25<00:00,  3.39s/it]\n",
      "Epoch: 9, lr: 1e-04, total loss: 0.2767, loss_classifier: 0.1006 loss_box_reg: 0.0662 loss_mask: 0.1081 loss_objectness: 0.0134 loss_rpn_box_reg: 0.0349: 100%|██████████| 96/96 [05:25<00:00,  3.40s/it]\n",
      "Epoch: 10, lr: 1e-04, total loss: 0.2662, loss_classifier: 0.1066 loss_box_reg: 0.0620 loss_mask: 0.1046 loss_objectness: 0.0146 loss_rpn_box_reg: 0.0326: 100%|██████████| 96/96 [05:26<00:00,  3.40s/it]\n",
      "Epoch: 11, lr: 1e-04, total loss: 0.2634, loss_classifier: 0.1111 loss_box_reg: 0.0608 loss_mask: 0.1039 loss_objectness: 0.0131 loss_rpn_box_reg: 0.0337: 100%|██████████| 96/96 [05:24<00:00,  3.38s/it]\n",
      "Epoch: 12, lr: 1e-04, total loss: 0.3047, loss_classifier: 0.1314 loss_box_reg: 0.0770 loss_mask: 0.1123 loss_objectness: 0.0227 loss_rpn_box_reg: 0.0364: 100%|██████████| 96/96 [05:25<00:00,  3.39s/it]\n",
      "Epoch: 13, lr: 1e-04, total loss: 0.2885, loss_classifier: 0.1060 loss_box_reg: 0.0697 loss_mask: 0.1103 loss_objectness: 0.0188 loss_rpn_box_reg: 0.0346: 100%|██████████| 96/96 [05:24<00:00,  3.38s/it]\n",
      "Epoch: 14, lr: 1e-04, total loss: 0.2920, loss_classifier: 0.1343 loss_box_reg: 0.0751 loss_mask: 0.1091 loss_objectness: 0.0174 loss_rpn_box_reg: 0.0358: 100%|██████████| 96/96 [05:25<00:00,  3.39s/it]\n",
      "Epoch: 15, lr: 1e-04, total loss: 0.2821, loss_classifier: 0.1395 loss_box_reg: 0.0708 loss_mask: 0.1076 loss_objectness: 0.0145 loss_rpn_box_reg: 0.0354:  57%|█████▋    | 55/96 [03:09<01:45,  2.58s/it]"
     ]
    }
   ],
   "source": [
    "import time\n",
    "from mask_rcnn_train import train\n",
    "from dataset import test_MaskRCNNTrainDataset\n",
    "import os\n",
    "from mask_rcnn_eval import createdir\n",
    "date = time.strftime(\"%Y-%m-%d %H-%M-%S\", time.localtime())\n",
    "\n",
    "train_dir = os.path.join('dataset', 'divide-2')\n",
    "print(train_dir)\n",
    "save_model_dir = os.path.join('model', 'Mask R-CNN (ResNet-101 + FPN)')\n",
    "createdir(save_model_dir)\n",
    "print(save_model_dir)\n",
    "load_model_path = os.path.join('model', 'Mask R-CNN (ResNet-101 + FPN)', '2021-12-15 03-22-17-best.pkl')\n",
    "# load_model_path = None\n",
    "train(date, train_dir, save_model_dir, load_model_path=load_model_path, model='resnet_101_fpn')"
   ]
  }
 ],
 "metadata": {
  "interpreter": {
   "hash": "4023601d2c66765c2cd41cc7509af1d35fa85332d14551f25660655c523b7ce6"
  },
  "kernelspec": {
   "display_name": "Python 3.7.11 64-bit ('VRDL_HW3': conda)",
   "language": "python",
   "name": "python3"
  },
  "language_info": {
   "codemirror_mode": {
    "name": "ipython",
    "version": 3
   },
   "file_extension": ".py",
   "mimetype": "text/x-python",
   "name": "python",
   "nbconvert_exporter": "python",
   "pygments_lexer": "ipython3",
   "version": "3.7.11"
  },
  "orig_nbformat": 4
 },
 "nbformat": 4,
 "nbformat_minor": 2
}
