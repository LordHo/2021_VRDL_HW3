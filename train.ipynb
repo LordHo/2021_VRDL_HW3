{
 "cells": [
  {
   "cell_type": "code",
   "execution_count": 1,
   "metadata": {},
   "outputs": [],
   "source": [
    "import time\n",
    "from mask_rcnn_train import train\n",
    "from dataset import test_MaskRCNNTrainDataset"
   ]
  },
  {
   "cell_type": "code",
   "execution_count": 2,
   "metadata": {},
   "outputs": [
    {
     "name": "stdout",
     "output_type": "stream",
     "text": [
      "True\n",
      "Device: cuda\n"
     ]
    },
    {
     "name": "stderr",
     "output_type": "stream",
     "text": [
      "  0%|          | 0/96 [00:00<?, ?it/s]C:\\Users\\Lab620\\Anaconda3\\envs\\VRDL_HW3\\lib\\site-packages\\torch\\_tensor.py:575: UserWarning: floor_divide is deprecated, and will be removed in a future version of pytorch. It currently rounds toward 0 (like the 'trunc' function NOT 'floor'). This results in incorrect rounding for negative values.\n",
      "To keep the current behavior, use torch.div(a, b, rounding_mode='trunc'), or for actual floor division, use torch.div(a, b, rounding_mode='floor'). (Triggered internally at  ..\\aten\\src\\ATen\\native\\BinaryOps.cpp:467.)\n",
      "  return torch.floor_divide(self, other)\n",
      "C:\\Users\\Lab620\\Anaconda3\\envs\\VRDL_HW3\\lib\\site-packages\\torch\\nn\\functional.py:718: UserWarning: Named tensors and all their associated APIs are an experimental feature and subject to change. Please do not use them for anything important until they are released as stable. (Triggered internally at  ..\\c10/core/TensorImpl.h:1156.)\n",
      "  return torch.max_pool2d(input, kernel_size, stride, padding, dilation, ceil_mode)\n",
      "Epoch: 1, lr: 1e-04, loss_classifier: 0.18 loss_box_reg: 0.37 loss_mask: 0.27 loss_objectness: 0.10 loss_rpn_box_reg: 0.13: 100%|██████████| 96/96 [04:42<00:00,  2.94s/it]\n"
     ]
    },
    {
     "name": "stdout",
     "output_type": "stream",
     "text": [
      "Save model at epoch 1.\n"
     ]
    },
    {
     "name": "stderr",
     "output_type": "stream",
     "text": [
      "Epoch: 2, lr: 1e-04, loss_classifier: 0.16 loss_box_reg: 0.35 loss_mask: 0.27 loss_objectness: 0.08 loss_rpn_box_reg: 0.13: 100%|██████████| 96/96 [04:38<00:00,  2.90s/it]\n"
     ]
    },
    {
     "name": "stdout",
     "output_type": "stream",
     "text": [
      "Save model at epoch 2.\n"
     ]
    },
    {
     "name": "stderr",
     "output_type": "stream",
     "text": [
      "Epoch: 3, lr: 1e-04, loss_classifier: 0.15 loss_box_reg: 0.34 loss_mask: 0.26 loss_objectness: 0.07 loss_rpn_box_reg: 0.12: 100%|██████████| 96/96 [04:39<00:00,  2.91s/it]\n"
     ]
    },
    {
     "name": "stdout",
     "output_type": "stream",
     "text": [
      "Save model at epoch 3.\n"
     ]
    },
    {
     "name": "stderr",
     "output_type": "stream",
     "text": [
      "Epoch: 4, lr: 1e-04, loss_classifier: 0.13 loss_box_reg: 0.31 loss_mask: 0.25 loss_objectness: 0.07 loss_rpn_box_reg: 0.11: 100%|██████████| 96/96 [04:39<00:00,  2.91s/it]\n"
     ]
    },
    {
     "name": "stdout",
     "output_type": "stream",
     "text": [
      "Save model at epoch 4.\n"
     ]
    },
    {
     "name": "stderr",
     "output_type": "stream",
     "text": [
      "Epoch: 5, lr: 1e-04, loss_classifier: 0.12 loss_box_reg: 0.31 loss_mask: 0.25 loss_objectness: 0.06 loss_rpn_box_reg: 0.11: 100%|██████████| 96/96 [04:35<00:00,  2.87s/it]\n"
     ]
    },
    {
     "name": "stdout",
     "output_type": "stream",
     "text": [
      "Save model at epoch 5.\n"
     ]
    },
    {
     "name": "stderr",
     "output_type": "stream",
     "text": [
      "Epoch: 6, lr: 1e-04, loss_classifier: 0.10 loss_box_reg: 0.29 loss_mask: 0.24 loss_objectness: 0.06 loss_rpn_box_reg: 0.10: 100%|██████████| 96/96 [04:34<00:00,  2.86s/it]\n"
     ]
    },
    {
     "name": "stdout",
     "output_type": "stream",
     "text": [
      "Save model at epoch 6.\n"
     ]
    },
    {
     "name": "stderr",
     "output_type": "stream",
     "text": [
      "Epoch: 7, lr: 1e-04, loss_classifier: 0.10 loss_box_reg: 0.29 loss_mask: 0.24 loss_objectness: 0.05 loss_rpn_box_reg: 0.10: 100%|██████████| 96/96 [04:35<00:00,  2.87s/it]\n"
     ]
    },
    {
     "name": "stdout",
     "output_type": "stream",
     "text": [
      "Save model at epoch 7.\n"
     ]
    },
    {
     "name": "stderr",
     "output_type": "stream",
     "text": [
      "Epoch: 8, lr: 1e-04, loss_classifier: 0.09 loss_box_reg: 0.27 loss_mask: 0.23 loss_objectness: 0.04 loss_rpn_box_reg: 0.09: 100%|██████████| 96/96 [04:35<00:00,  2.87s/it]\n"
     ]
    },
    {
     "name": "stdout",
     "output_type": "stream",
     "text": [
      "Save model at epoch 8.\n"
     ]
    },
    {
     "name": "stderr",
     "output_type": "stream",
     "text": [
      "Epoch: 9, lr: 1e-04, loss_classifier: 0.09 loss_box_reg: 0.25 loss_mask: 0.23 loss_objectness: 0.05 loss_rpn_box_reg: 0.09: 100%|██████████| 96/96 [04:35<00:00,  2.87s/it]\n"
     ]
    },
    {
     "name": "stdout",
     "output_type": "stream",
     "text": [
      "Save model at epoch 9.\n"
     ]
    },
    {
     "name": "stderr",
     "output_type": "stream",
     "text": [
      "Epoch: 10, lr: 1e-04, loss_classifier: 0.09 loss_box_reg: 0.25 loss_mask: 0.23 loss_objectness: 0.04 loss_rpn_box_reg: 0.09: 100%|██████████| 96/96 [04:34<00:00,  2.86s/it]\n"
     ]
    },
    {
     "name": "stdout",
     "output_type": "stream",
     "text": [
      "Save model at epoch 10.\n"
     ]
    },
    {
     "name": "stderr",
     "output_type": "stream",
     "text": [
      "Epoch: 11, lr: 1e-04, loss_classifier: 0.08 loss_box_reg: 0.24 loss_mask: 0.22 loss_objectness: 0.04 loss_rpn_box_reg: 0.09: 100%|██████████| 96/96 [04:35<00:00,  2.87s/it]\n"
     ]
    },
    {
     "name": "stdout",
     "output_type": "stream",
     "text": [
      "Save model at epoch 11.\n"
     ]
    },
    {
     "name": "stderr",
     "output_type": "stream",
     "text": [
      "Epoch: 12, lr: 1e-04, loss_classifier: 0.07 loss_box_reg: 0.23 loss_mask: 0.22 loss_objectness: 0.04 loss_rpn_box_reg: 0.09: 100%|██████████| 96/96 [04:34<00:00,  2.86s/it]\n"
     ]
    },
    {
     "name": "stdout",
     "output_type": "stream",
     "text": [
      "Save model at epoch 12.\n"
     ]
    },
    {
     "name": "stderr",
     "output_type": "stream",
     "text": [
      "Epoch: 13, lr: 1e-04, loss_classifier: 0.07 loss_box_reg: 0.21 loss_mask: 0.21 loss_objectness: 0.04 loss_rpn_box_reg: 0.08: 100%|██████████| 96/96 [04:35<00:00,  2.87s/it]\n"
     ]
    },
    {
     "name": "stdout",
     "output_type": "stream",
     "text": [
      "Save model at epoch 13.\n"
     ]
    },
    {
     "name": "stderr",
     "output_type": "stream",
     "text": [
      "Epoch: 14, lr: 1e-04, loss_classifier: 0.08 loss_box_reg: 0.23 loss_mask: 0.21 loss_objectness: 0.04 loss_rpn_box_reg: 0.08: 100%|██████████| 96/96 [04:35<00:00,  2.87s/it]\n",
      "Epoch: 15, lr: 1e-04, loss_classifier: 0.06 loss_box_reg: 0.21 loss_mask: 0.21 loss_objectness: 0.03 loss_rpn_box_reg: 0.07: 100%|██████████| 96/96 [04:35<00:00,  2.87s/it]\n"
     ]
    },
    {
     "name": "stdout",
     "output_type": "stream",
     "text": [
      "Save model at epoch 15.\n"
     ]
    },
    {
     "name": "stderr",
     "output_type": "stream",
     "text": [
      "Epoch: 16, lr: 1e-04, loss_classifier: 0.06 loss_box_reg: 0.20 loss_mask: 0.20 loss_objectness: 0.03 loss_rpn_box_reg: 0.07: 100%|██████████| 96/96 [04:36<00:00,  2.88s/it]\n"
     ]
    },
    {
     "name": "stdout",
     "output_type": "stream",
     "text": [
      "Save model at epoch 16.\n"
     ]
    },
    {
     "name": "stderr",
     "output_type": "stream",
     "text": [
      "Epoch: 17, lr: 1e-04, loss_classifier: 0.06 loss_box_reg: 0.19 loss_mask: 0.20 loss_objectness: 0.03 loss_rpn_box_reg: 0.07: 100%|██████████| 96/96 [04:35<00:00,  2.87s/it]\n",
      "Epoch: 18, lr: 1e-04, loss_classifier: 0.06 loss_box_reg: 0.20 loss_mask: 0.20 loss_objectness: 0.03 loss_rpn_box_reg: 0.07: 100%|██████████| 96/96 [04:35<00:00,  2.87s/it]\n",
      "Epoch: 19, lr: 1e-04, loss_classifier: 0.06 loss_box_reg: 0.19 loss_mask: 0.20 loss_objectness: 0.03 loss_rpn_box_reg: 0.07: 100%|██████████| 96/96 [04:35<00:00,  2.87s/it]\n"
     ]
    },
    {
     "name": "stdout",
     "output_type": "stream",
     "text": [
      "Save model at epoch 19.\n"
     ]
    },
    {
     "name": "stderr",
     "output_type": "stream",
     "text": [
      "Epoch: 20, lr: 1e-04, loss_classifier: 0.06 loss_box_reg: 0.18 loss_mask: 0.19 loss_objectness: 0.03 loss_rpn_box_reg: 0.07: 100%|██████████| 96/96 [04:35<00:00,  2.87s/it]\n"
     ]
    },
    {
     "name": "stdout",
     "output_type": "stream",
     "text": [
      "Save model at epoch 20.\n"
     ]
    },
    {
     "name": "stderr",
     "output_type": "stream",
     "text": [
      "Epoch: 21, lr: 1e-04, loss_classifier: 0.05 loss_box_reg: 0.17 loss_mask: 0.19 loss_objectness: 0.03 loss_rpn_box_reg: 0.07: 100%|██████████| 96/96 [04:36<00:00,  2.88s/it]\n"
     ]
    },
    {
     "name": "stdout",
     "output_type": "stream",
     "text": [
      "Save model at epoch 21.\n"
     ]
    },
    {
     "name": "stderr",
     "output_type": "stream",
     "text": [
      "Epoch: 22, lr: 1e-04, loss_classifier: 0.05 loss_box_reg: 0.17 loss_mask: 0.19 loss_objectness: 0.03 loss_rpn_box_reg: 0.07: 100%|██████████| 96/96 [04:35<00:00,  2.87s/it]\n"
     ]
    },
    {
     "name": "stdout",
     "output_type": "stream",
     "text": [
      "Save model at epoch 22.\n"
     ]
    },
    {
     "name": "stderr",
     "output_type": "stream",
     "text": [
      "Epoch: 23, lr: 1e-04, loss_classifier: 0.05 loss_box_reg: 0.16 loss_mask: 0.18 loss_objectness: 0.03 loss_rpn_box_reg: 0.07: 100%|██████████| 96/96 [04:35<00:00,  2.87s/it]\n"
     ]
    },
    {
     "name": "stdout",
     "output_type": "stream",
     "text": [
      "Save model at epoch 23.\n"
     ]
    },
    {
     "name": "stderr",
     "output_type": "stream",
     "text": [
      "Epoch: 24, lr: 1e-04, loss_classifier: 0.05 loss_box_reg: 0.16 loss_mask: 0.18 loss_objectness: 0.03 loss_rpn_box_reg: 0.06: 100%|██████████| 96/96 [04:35<00:00,  2.87s/it]\n"
     ]
    },
    {
     "name": "stdout",
     "output_type": "stream",
     "text": [
      "Save model at epoch 24.\n"
     ]
    },
    {
     "name": "stderr",
     "output_type": "stream",
     "text": [
      "Epoch: 25, lr: 1e-04, loss_classifier: 0.05 loss_box_reg: 0.16 loss_mask: 0.18 loss_objectness: 0.03 loss_rpn_box_reg: 0.06: 100%|██████████| 96/96 [04:35<00:00,  2.87s/it]\n"
     ]
    },
    {
     "name": "stdout",
     "output_type": "stream",
     "text": [
      "Save model at epoch 25.\n"
     ]
    },
    {
     "name": "stderr",
     "output_type": "stream",
     "text": [
      "Epoch: 26, lr: 1e-04, loss_classifier: 0.05 loss_box_reg: 0.15 loss_mask: 0.18 loss_objectness: 0.02 loss_rpn_box_reg: 0.06: 100%|██████████| 96/96 [04:35<00:00,  2.87s/it]\n"
     ]
    },
    {
     "name": "stdout",
     "output_type": "stream",
     "text": [
      "Save model at epoch 26.\n"
     ]
    },
    {
     "name": "stderr",
     "output_type": "stream",
     "text": [
      "Epoch: 27, lr: 1e-04, loss_classifier: 0.04 loss_box_reg: 0.15 loss_mask: 0.18 loss_objectness: 0.03 loss_rpn_box_reg: 0.06: 100%|██████████| 96/96 [04:35<00:00,  2.87s/it]\n"
     ]
    },
    {
     "name": "stdout",
     "output_type": "stream",
     "text": [
      "Save model at epoch 27.\n"
     ]
    },
    {
     "name": "stderr",
     "output_type": "stream",
     "text": [
      "Epoch: 28, lr: 1e-04, loss_classifier: 0.05 loss_box_reg: 0.16 loss_mask: 0.17 loss_objectness: 0.03 loss_rpn_box_reg: 0.06: 100%|██████████| 96/96 [04:35<00:00,  2.87s/it]\n",
      "Epoch: 29, lr: 1e-04, loss_classifier: 0.04 loss_box_reg: 0.15 loss_mask: 0.17 loss_objectness: 0.03 loss_rpn_box_reg: 0.06: 100%|██████████| 96/96 [04:35<00:00,  2.87s/it]\n"
     ]
    },
    {
     "name": "stdout",
     "output_type": "stream",
     "text": [
      "Save model at epoch 29.\n"
     ]
    },
    {
     "name": "stderr",
     "output_type": "stream",
     "text": [
      "Epoch: 30, lr: 1e-04, loss_classifier: 0.05 loss_box_reg: 0.14 loss_mask: 0.17 loss_objectness: 0.02 loss_rpn_box_reg: 0.06: 100%|██████████| 96/96 [04:36<00:00,  2.88s/it]\n"
     ]
    },
    {
     "name": "stdout",
     "output_type": "stream",
     "text": [
      "Save model at epoch 30.\n"
     ]
    },
    {
     "name": "stderr",
     "output_type": "stream",
     "text": [
      "Epoch: 31, lr: 1e-04, loss_classifier: 0.04 loss_box_reg: 0.14 loss_mask: 0.17 loss_objectness: 0.02 loss_rpn_box_reg: 0.06: 100%|██████████| 96/96 [04:36<00:00,  2.88s/it]\n"
     ]
    },
    {
     "name": "stdout",
     "output_type": "stream",
     "text": [
      "Save model at epoch 31.\n"
     ]
    },
    {
     "name": "stderr",
     "output_type": "stream",
     "text": [
      "Epoch: 32, lr: 1e-04, loss_classifier: 0.04 loss_box_reg: 0.14 loss_mask: 0.16 loss_objectness: 0.02 loss_rpn_box_reg: 0.05: 100%|██████████| 96/96 [04:35<00:00,  2.87s/it]\n",
      "Epoch: 33, lr: 1e-04, loss_classifier: 0.04 loss_box_reg: 0.14 loss_mask: 0.17 loss_objectness: 0.02 loss_rpn_box_reg: 0.06: 100%|██████████| 96/96 [04:35<00:00,  2.87s/it]\n",
      "Epoch: 34, lr: 1e-04, loss_classifier: 0.04 loss_box_reg: 0.13 loss_mask: 0.16 loss_objectness: 0.02 loss_rpn_box_reg: 0.05: 100%|██████████| 96/96 [04:35<00:00,  2.86s/it]\n"
     ]
    },
    {
     "name": "stdout",
     "output_type": "stream",
     "text": [
      "Save model at epoch 34.\n"
     ]
    },
    {
     "name": "stderr",
     "output_type": "stream",
     "text": [
      "Epoch: 35, lr: 1e-04, loss_classifier: 0.04 loss_box_reg: 0.13 loss_mask: 0.16 loss_objectness: 0.02 loss_rpn_box_reg: 0.05: 100%|██████████| 96/96 [04:36<00:00,  2.88s/it]\n"
     ]
    },
    {
     "name": "stdout",
     "output_type": "stream",
     "text": [
      "Save model at epoch 35.\n"
     ]
    },
    {
     "name": "stderr",
     "output_type": "stream",
     "text": [
      "Epoch: 36, lr: 1e-04, loss_classifier: 0.04 loss_box_reg: 0.13 loss_mask: 0.16 loss_objectness: 0.02 loss_rpn_box_reg: 0.05: 100%|██████████| 96/96 [04:36<00:00,  2.88s/it]\n",
      "Epoch: 37, lr: 1e-04, loss_classifier: 0.04 loss_box_reg: 0.13 loss_mask: 0.16 loss_objectness: 0.02 loss_rpn_box_reg: 0.05: 100%|██████████| 96/96 [04:36<00:00,  2.88s/it]\n"
     ]
    },
    {
     "name": "stdout",
     "output_type": "stream",
     "text": [
      "Save model at epoch 37.\n"
     ]
    },
    {
     "name": "stderr",
     "output_type": "stream",
     "text": [
      "Epoch: 38, lr: 1e-04, loss_classifier: 0.03 loss_box_reg: 0.12 loss_mask: 0.15 loss_objectness: 0.02 loss_rpn_box_reg: 0.05: 100%|██████████| 96/96 [04:35<00:00,  2.87s/it]\n"
     ]
    },
    {
     "name": "stdout",
     "output_type": "stream",
     "text": [
      "Save model at epoch 38.\n"
     ]
    },
    {
     "name": "stderr",
     "output_type": "stream",
     "text": [
      "Epoch: 39, lr: 1e-04, loss_classifier: 0.03 loss_box_reg: 0.12 loss_mask: 0.15 loss_objectness: 0.02 loss_rpn_box_reg: 0.05: 100%|██████████| 96/96 [04:35<00:00,  2.87s/it]\n"
     ]
    },
    {
     "name": "stdout",
     "output_type": "stream",
     "text": [
      "Save model at epoch 39.\n"
     ]
    },
    {
     "name": "stderr",
     "output_type": "stream",
     "text": [
      "Epoch: 40, lr: 1e-04, loss_classifier: 0.03 loss_box_reg: 0.11 loss_mask: 0.15 loss_objectness: 0.02 loss_rpn_box_reg: 0.05: 100%|██████████| 96/96 [04:35<00:00,  2.87s/it]\n"
     ]
    },
    {
     "name": "stdout",
     "output_type": "stream",
     "text": [
      "Save model at epoch 40.\n"
     ]
    },
    {
     "name": "stderr",
     "output_type": "stream",
     "text": [
      "Epoch: 41, lr: 1e-04, loss_classifier: 0.04 loss_box_reg: 0.12 loss_mask: 0.15 loss_objectness: 0.02 loss_rpn_box_reg: 0.05: 100%|██████████| 96/96 [04:35<00:00,  2.87s/it]\n",
      "Epoch: 42, lr: 1e-04, loss_classifier: 0.04 loss_box_reg: 0.12 loss_mask: 0.15 loss_objectness: 0.02 loss_rpn_box_reg: 0.05: 100%|██████████| 96/96 [04:35<00:00,  2.87s/it]\n",
      "Epoch: 43, lr: 1e-04, loss_classifier: 0.03 loss_box_reg: 0.11 loss_mask: 0.15 loss_objectness: 0.02 loss_rpn_box_reg: 0.05: 100%|██████████| 96/96 [04:36<00:00,  2.88s/it]\n",
      "Epoch: 44, lr: 1e-04, loss_classifier: 0.03 loss_box_reg: 0.11 loss_mask: 0.15 loss_objectness: 0.02 loss_rpn_box_reg: 0.05: 100%|██████████| 96/96 [04:35<00:00,  2.87s/it]\n",
      "Epoch: 45, lr: 1e-04, loss_classifier: 0.03 loss_box_reg: 0.11 loss_mask: 0.14 loss_objectness: 0.02 loss_rpn_box_reg: 0.05: 100%|██████████| 96/96 [04:35<00:00,  2.87s/it]\n"
     ]
    },
    {
     "name": "stdout",
     "output_type": "stream",
     "text": [
      "Save model at epoch 45.\n"
     ]
    },
    {
     "name": "stderr",
     "output_type": "stream",
     "text": [
      "Epoch: 46, lr: 1e-04, loss_classifier: 0.03 loss_box_reg: 0.10 loss_mask: 0.14 loss_objectness: 0.02 loss_rpn_box_reg: 0.05: 100%|██████████| 96/96 [04:35<00:00,  2.87s/it]\n"
     ]
    },
    {
     "name": "stdout",
     "output_type": "stream",
     "text": [
      "Save model at epoch 46.\n"
     ]
    },
    {
     "name": "stderr",
     "output_type": "stream",
     "text": [
      "Epoch: 47, lr: 1e-04, loss_classifier: 0.03 loss_box_reg: 0.11 loss_mask: 0.15 loss_objectness: 0.02 loss_rpn_box_reg: 0.05: 100%|██████████| 96/96 [04:36<00:00,  2.88s/it]\n",
      "Epoch: 48, lr: 1e-04, loss_classifier: 0.03 loss_box_reg: 0.10 loss_mask: 0.14 loss_objectness: 0.02 loss_rpn_box_reg: 0.05: 100%|██████████| 96/96 [04:35<00:00,  2.86s/it]\n"
     ]
    },
    {
     "name": "stdout",
     "output_type": "stream",
     "text": [
      "Save model at epoch 48.\n"
     ]
    },
    {
     "name": "stderr",
     "output_type": "stream",
     "text": [
      "Epoch: 49, lr: 1e-04, loss_classifier: 0.03 loss_box_reg: 0.11 loss_mask: 0.14 loss_objectness: 0.02 loss_rpn_box_reg: 0.05: 100%|██████████| 96/96 [04:36<00:00,  2.88s/it]\n"
     ]
    },
    {
     "name": "stdout",
     "output_type": "stream",
     "text": [
      "Save model at epoch 49.\n"
     ]
    },
    {
     "name": "stderr",
     "output_type": "stream",
     "text": [
      "Epoch: 50, lr: 1e-04, loss_classifier: 0.03 loss_box_reg: 0.11 loss_mask: 0.14 loss_objectness: 0.02 loss_rpn_box_reg: 0.05: 100%|██████████| 96/96 [04:35<00:00,  2.87s/it]\n",
      "Epoch: 51, lr: 1e-04, loss_classifier: 0.03 loss_box_reg: 0.10 loss_mask: 0.14 loss_objectness: 0.02 loss_rpn_box_reg: 0.04: 100%|██████████| 96/96 [04:35<00:00,  2.87s/it]\n"
     ]
    },
    {
     "name": "stdout",
     "output_type": "stream",
     "text": [
      "Save model at epoch 51.\n"
     ]
    },
    {
     "name": "stderr",
     "output_type": "stream",
     "text": [
      "Epoch: 52, lr: 1e-04, loss_classifier: 0.03 loss_box_reg: 0.10 loss_mask: 0.14 loss_objectness: 0.02 loss_rpn_box_reg: 0.04: 100%|██████████| 96/96 [04:35<00:00,  2.87s/it]\n"
     ]
    },
    {
     "name": "stdout",
     "output_type": "stream",
     "text": [
      "Save model at epoch 52.\n"
     ]
    },
    {
     "name": "stderr",
     "output_type": "stream",
     "text": [
      "Epoch: 53, lr: 1e-04, loss_classifier: 0.03 loss_box_reg: 0.10 loss_mask: 0.14 loss_objectness: 0.02 loss_rpn_box_reg: 0.05: 100%|██████████| 96/96 [04:36<00:00,  2.88s/it]\n",
      "Epoch: 54, lr: 1e-04, loss_classifier: 0.03 loss_box_reg: 0.10 loss_mask: 0.14 loss_objectness: 0.02 loss_rpn_box_reg: 0.05: 100%|██████████| 96/96 [04:34<00:00,  2.86s/it]\n",
      "Epoch: 55, lr: 1e-04, loss_classifier: 0.03 loss_box_reg: 0.10 loss_mask: 0.14 loss_objectness: 0.02 loss_rpn_box_reg: 0.04: 100%|██████████| 96/96 [04:35<00:00,  2.87s/it]\n"
     ]
    },
    {
     "name": "stdout",
     "output_type": "stream",
     "text": [
      "Save model at epoch 55.\n"
     ]
    },
    {
     "name": "stderr",
     "output_type": "stream",
     "text": [
      "Epoch: 56, lr: 1e-04, loss_classifier: 0.03 loss_box_reg: 0.09 loss_mask: 0.13 loss_objectness: 0.02 loss_rpn_box_reg: 0.04: 100%|██████████| 96/96 [04:35<00:00,  2.87s/it]\n"
     ]
    },
    {
     "name": "stdout",
     "output_type": "stream",
     "text": [
      "Save model at epoch 56.\n"
     ]
    },
    {
     "name": "stderr",
     "output_type": "stream",
     "text": [
      "Epoch: 57, lr: 1e-04, loss_classifier: 0.03 loss_box_reg: 0.10 loss_mask: 0.13 loss_objectness: 0.02 loss_rpn_box_reg: 0.04: 100%|██████████| 96/96 [04:35<00:00,  2.87s/it]\n",
      "Epoch: 58, lr: 1e-04, loss_classifier: 0.03 loss_box_reg: 0.10 loss_mask: 0.13 loss_objectness: 0.02 loss_rpn_box_reg: 0.04: 100%|██████████| 96/96 [04:35<00:00,  2.87s/it]\n",
      "Epoch: 59, lr: 1e-04, loss_classifier: 0.03 loss_box_reg: 0.09 loss_mask: 0.13 loss_objectness: 0.01 loss_rpn_box_reg: 0.04: 100%|██████████| 96/96 [04:35<00:00,  2.87s/it]\n",
      "Epoch: 60, lr: 1e-04, loss_classifier: 0.03 loss_box_reg: 0.10 loss_mask: 0.13 loss_objectness: 0.02 loss_rpn_box_reg: 0.04: 100%|██████████| 96/96 [04:35<00:00,  2.87s/it]\n",
      "Epoch: 61, lr: 1e-05, loss_classifier: 0.03 loss_box_reg: 0.08 loss_mask: 0.13 loss_objectness: 0.02 loss_rpn_box_reg: 0.04: 100%|██████████| 96/96 [04:36<00:00,  2.88s/it]\n"
     ]
    },
    {
     "name": "stdout",
     "output_type": "stream",
     "text": [
      "Save model at epoch 61.\n"
     ]
    },
    {
     "name": "stderr",
     "output_type": "stream",
     "text": [
      "Epoch: 62, lr: 1e-05, loss_classifier: 0.02 loss_box_reg: 0.07 loss_mask: 0.12 loss_objectness: 0.01 loss_rpn_box_reg: 0.03: 100%|██████████| 96/96 [04:35<00:00,  2.87s/it]\n"
     ]
    },
    {
     "name": "stdout",
     "output_type": "stream",
     "text": [
      "Save model at epoch 62.\n"
     ]
    },
    {
     "name": "stderr",
     "output_type": "stream",
     "text": [
      "Epoch: 63, lr: 1e-05, loss_classifier: 0.02 loss_box_reg: 0.06 loss_mask: 0.12 loss_objectness: 0.01 loss_rpn_box_reg: 0.03: 100%|██████████| 96/96 [04:35<00:00,  2.87s/it]\n"
     ]
    },
    {
     "name": "stdout",
     "output_type": "stream",
     "text": [
      "Save model at epoch 63.\n"
     ]
    },
    {
     "name": "stderr",
     "output_type": "stream",
     "text": [
      "Epoch: 64, lr: 1e-05, loss_classifier: 0.02 loss_box_reg: 0.06 loss_mask: 0.12 loss_objectness: 0.01 loss_rpn_box_reg: 0.03: 100%|██████████| 96/96 [04:35<00:00,  2.87s/it]\n"
     ]
    },
    {
     "name": "stdout",
     "output_type": "stream",
     "text": [
      "Save model at epoch 64.\n"
     ]
    },
    {
     "name": "stderr",
     "output_type": "stream",
     "text": [
      "Epoch: 65, lr: 1e-05, loss_classifier: 0.02 loss_box_reg: 0.05 loss_mask: 0.11 loss_objectness: 0.01 loss_rpn_box_reg: 0.03: 100%|██████████| 96/96 [04:35<00:00,  2.87s/it]\n"
     ]
    },
    {
     "name": "stdout",
     "output_type": "stream",
     "text": [
      "Save model at epoch 65.\n"
     ]
    },
    {
     "name": "stderr",
     "output_type": "stream",
     "text": [
      "Epoch: 66, lr: 1e-05, loss_classifier: 0.02 loss_box_reg: 0.05 loss_mask: 0.11 loss_objectness: 0.01 loss_rpn_box_reg: 0.03: 100%|██████████| 96/96 [04:35<00:00,  2.87s/it]\n"
     ]
    },
    {
     "name": "stdout",
     "output_type": "stream",
     "text": [
      "Save model at epoch 66.\n"
     ]
    },
    {
     "name": "stderr",
     "output_type": "stream",
     "text": [
      "Epoch: 67, lr: 1e-05, loss_classifier: 0.02 loss_box_reg: 0.05 loss_mask: 0.11 loss_objectness: 0.01 loss_rpn_box_reg: 0.03: 100%|██████████| 96/96 [04:35<00:00,  2.87s/it]\n"
     ]
    },
    {
     "name": "stdout",
     "output_type": "stream",
     "text": [
      "Save model at epoch 67.\n"
     ]
    },
    {
     "name": "stderr",
     "output_type": "stream",
     "text": [
      "Epoch: 68, lr: 1e-05, loss_classifier: 0.02 loss_box_reg: 0.05 loss_mask: 0.11 loss_objectness: 0.01 loss_rpn_box_reg: 0.03: 100%|██████████| 96/96 [04:35<00:00,  2.87s/it]\n"
     ]
    },
    {
     "name": "stdout",
     "output_type": "stream",
     "text": [
      "Save model at epoch 68.\n"
     ]
    },
    {
     "name": "stderr",
     "output_type": "stream",
     "text": [
      "Epoch: 69, lr: 1e-05, loss_classifier: 0.02 loss_box_reg: 0.05 loss_mask: 0.11 loss_objectness: 0.01 loss_rpn_box_reg: 0.03: 100%|██████████| 96/96 [04:35<00:00,  2.87s/it]\n"
     ]
    },
    {
     "name": "stdout",
     "output_type": "stream",
     "text": [
      "Save model at epoch 69.\n"
     ]
    },
    {
     "name": "stderr",
     "output_type": "stream",
     "text": [
      "Epoch: 70, lr: 1e-05, loss_classifier: 0.02 loss_box_reg: 0.04 loss_mask: 0.11 loss_objectness: 0.01 loss_rpn_box_reg: 0.03: 100%|██████████| 96/96 [04:35<00:00,  2.87s/it]\n"
     ]
    },
    {
     "name": "stdout",
     "output_type": "stream",
     "text": [
      "Save model at epoch 70.\n"
     ]
    },
    {
     "name": "stderr",
     "output_type": "stream",
     "text": [
      "Epoch: 71, lr: 1e-05, loss_classifier: 0.02 loss_box_reg: 0.04 loss_mask: 0.11 loss_objectness: 0.01 loss_rpn_box_reg: 0.03: 100%|██████████| 96/96 [04:35<00:00,  2.87s/it]\n",
      "Epoch: 72, lr: 1e-05, loss_classifier: 0.02 loss_box_reg: 0.04 loss_mask: 0.11 loss_objectness: 0.01 loss_rpn_box_reg: 0.03: 100%|██████████| 96/96 [04:35<00:00,  2.87s/it]\n"
     ]
    },
    {
     "name": "stdout",
     "output_type": "stream",
     "text": [
      "Save model at epoch 72.\n"
     ]
    },
    {
     "name": "stderr",
     "output_type": "stream",
     "text": [
      "Epoch: 73, lr: 1e-05, loss_classifier: 0.01 loss_box_reg: 0.04 loss_mask: 0.11 loss_objectness: 0.01 loss_rpn_box_reg: 0.03: 100%|██████████| 96/96 [04:36<00:00,  2.88s/it]\n"
     ]
    },
    {
     "name": "stdout",
     "output_type": "stream",
     "text": [
      "Save model at epoch 73.\n"
     ]
    },
    {
     "name": "stderr",
     "output_type": "stream",
     "text": [
      "Epoch: 74, lr: 1e-05, loss_classifier: 0.01 loss_box_reg: 0.04 loss_mask: 0.11 loss_objectness: 0.01 loss_rpn_box_reg: 0.03: 100%|██████████| 96/96 [04:36<00:00,  2.88s/it]\n"
     ]
    },
    {
     "name": "stdout",
     "output_type": "stream",
     "text": [
      "Save model at epoch 74.\n"
     ]
    },
    {
     "name": "stderr",
     "output_type": "stream",
     "text": [
      "Epoch: 75, lr: 1e-05, loss_classifier: 0.02 loss_box_reg: 0.04 loss_mask: 0.11 loss_objectness: 0.01 loss_rpn_box_reg: 0.03: 100%|██████████| 96/96 [04:35<00:00,  2.87s/it]\n",
      "Epoch: 76, lr: 1e-05, loss_classifier: 0.01 loss_box_reg: 0.04 loss_mask: 0.11 loss_objectness: 0.01 loss_rpn_box_reg: 0.03: 100%|██████████| 96/96 [04:34<00:00,  2.86s/it]\n"
     ]
    },
    {
     "name": "stdout",
     "output_type": "stream",
     "text": [
      "Save model at epoch 76.\n"
     ]
    },
    {
     "name": "stderr",
     "output_type": "stream",
     "text": [
      "Epoch: 77, lr: 1e-05, loss_classifier: 0.01 loss_box_reg: 0.04 loss_mask: 0.11 loss_objectness: 0.01 loss_rpn_box_reg: 0.03: 100%|██████████| 96/96 [04:36<00:00,  2.88s/it]\n"
     ]
    },
    {
     "name": "stdout",
     "output_type": "stream",
     "text": [
      "Save model at epoch 77.\n"
     ]
    },
    {
     "name": "stderr",
     "output_type": "stream",
     "text": [
      "Epoch: 78, lr: 1e-05, loss_classifier: 0.01 loss_box_reg: 0.04 loss_mask: 0.11 loss_objectness: 0.01 loss_rpn_box_reg: 0.03: 100%|██████████| 96/96 [04:35<00:00,  2.87s/it]\n"
     ]
    },
    {
     "name": "stdout",
     "output_type": "stream",
     "text": [
      "Save model at epoch 78.\n"
     ]
    },
    {
     "name": "stderr",
     "output_type": "stream",
     "text": [
      "Epoch: 79, lr: 1e-05, loss_classifier: 0.01 loss_box_reg: 0.04 loss_mask: 0.11 loss_objectness: 0.01 loss_rpn_box_reg: 0.03: 100%|██████████| 96/96 [04:35<00:00,  2.87s/it]\n",
      "Epoch: 80, lr: 1e-05, loss_classifier: 0.01 loss_box_reg: 0.04 loss_mask: 0.10 loss_objectness: 0.01 loss_rpn_box_reg: 0.03: 100%|██████████| 96/96 [04:35<00:00,  2.87s/it]\n",
      "Epoch: 81, lr: 1e-05, loss_classifier: 0.01 loss_box_reg: 0.03 loss_mask: 0.10 loss_objectness: 0.01 loss_rpn_box_reg: 0.03: 100%|██████████| 96/96 [04:35<00:00,  2.87s/it]\n"
     ]
    },
    {
     "name": "stdout",
     "output_type": "stream",
     "text": [
      "Save model at epoch 81.\n"
     ]
    },
    {
     "name": "stderr",
     "output_type": "stream",
     "text": [
      "Epoch: 82, lr: 1e-05, loss_classifier: 0.01 loss_box_reg: 0.03 loss_mask: 0.10 loss_objectness: 0.01 loss_rpn_box_reg: 0.02: 100%|██████████| 96/96 [04:35<00:00,  2.87s/it]\n"
     ]
    },
    {
     "name": "stdout",
     "output_type": "stream",
     "text": [
      "Save model at epoch 82.\n"
     ]
    },
    {
     "name": "stderr",
     "output_type": "stream",
     "text": [
      "Epoch: 83, lr: 1e-05, loss_classifier: 0.01 loss_box_reg: 0.03 loss_mask: 0.10 loss_objectness: 0.01 loss_rpn_box_reg: 0.02: 100%|██████████| 96/96 [04:36<00:00,  2.88s/it]\n",
      "Epoch: 84, lr: 1e-05, loss_classifier: 0.01 loss_box_reg: 0.03 loss_mask: 0.10 loss_objectness: 0.01 loss_rpn_box_reg: 0.02: 100%|██████████| 96/96 [04:35<00:00,  2.87s/it]\n"
     ]
    },
    {
     "name": "stdout",
     "output_type": "stream",
     "text": [
      "Save model at epoch 84.\n"
     ]
    },
    {
     "name": "stderr",
     "output_type": "stream",
     "text": [
      "Epoch: 85, lr: 1e-05, loss_classifier: 0.01 loss_box_reg: 0.03 loss_mask: 0.10 loss_objectness: 0.01 loss_rpn_box_reg: 0.03: 100%|██████████| 96/96 [04:35<00:00,  2.87s/it]\n"
     ]
    },
    {
     "name": "stdout",
     "output_type": "stream",
     "text": [
      "Save model at epoch 85.\n"
     ]
    },
    {
     "name": "stderr",
     "output_type": "stream",
     "text": [
      "Epoch: 86, lr: 1e-05, loss_classifier: 0.01 loss_box_reg: 0.03 loss_mask: 0.10 loss_objectness: 0.01 loss_rpn_box_reg: 0.02: 100%|██████████| 96/96 [04:35<00:00,  2.87s/it]\n"
     ]
    },
    {
     "name": "stdout",
     "output_type": "stream",
     "text": [
      "Save model at epoch 86.\n"
     ]
    },
    {
     "name": "stderr",
     "output_type": "stream",
     "text": [
      "Epoch: 87, lr: 1e-05, loss_classifier: 0.01 loss_box_reg: 0.03 loss_mask: 0.10 loss_objectness: 0.01 loss_rpn_box_reg: 0.02: 100%|██████████| 96/96 [04:36<00:00,  2.88s/it]\n"
     ]
    },
    {
     "name": "stdout",
     "output_type": "stream",
     "text": [
      "Save model at epoch 87.\n"
     ]
    },
    {
     "name": "stderr",
     "output_type": "stream",
     "text": [
      "Epoch: 88, lr: 1e-05, loss_classifier: 0.01 loss_box_reg: 0.03 loss_mask: 0.10 loss_objectness: 0.01 loss_rpn_box_reg: 0.02: 100%|██████████| 96/96 [04:36<00:00,  2.88s/it]\n"
     ]
    },
    {
     "name": "stdout",
     "output_type": "stream",
     "text": [
      "Save model at epoch 88.\n"
     ]
    },
    {
     "name": "stderr",
     "output_type": "stream",
     "text": [
      "Epoch: 89, lr: 1e-05, loss_classifier: 0.01 loss_box_reg: 0.03 loss_mask: 0.10 loss_objectness: 0.01 loss_rpn_box_reg: 0.02: 100%|██████████| 96/96 [04:35<00:00,  2.87s/it]\n",
      "Epoch: 90, lr: 1e-05, loss_classifier: 0.01 loss_box_reg: 0.03 loss_mask: 0.10 loss_objectness: 0.01 loss_rpn_box_reg: 0.02: 100%|██████████| 96/96 [04:35<00:00,  2.87s/it]\n",
      "Epoch: 91, lr: 1e-05, loss_classifier: 0.01 loss_box_reg: 0.03 loss_mask: 0.10 loss_objectness: 0.01 loss_rpn_box_reg: 0.02: 100%|██████████| 96/96 [04:36<00:00,  2.88s/it]\n"
     ]
    },
    {
     "name": "stdout",
     "output_type": "stream",
     "text": [
      "Save model at epoch 91.\n"
     ]
    },
    {
     "name": "stderr",
     "output_type": "stream",
     "text": [
      "Epoch: 92, lr: 1e-05, loss_classifier: 0.01 loss_box_reg: 0.03 loss_mask: 0.10 loss_objectness: 0.01 loss_rpn_box_reg: 0.02: 100%|██████████| 96/96 [04:35<00:00,  2.87s/it]\n",
      "Epoch: 93, lr: 1e-05, loss_classifier: 0.01 loss_box_reg: 0.03 loss_mask: 0.10 loss_objectness: 0.01 loss_rpn_box_reg: 0.02: 100%|██████████| 96/96 [04:35<00:00,  2.87s/it]\n",
      "Epoch: 94, lr: 1e-05, loss_classifier: 0.01 loss_box_reg: 0.03 loss_mask: 0.10 loss_objectness: 0.01 loss_rpn_box_reg: 0.02: 100%|██████████| 96/96 [04:35<00:00,  2.87s/it]\n"
     ]
    },
    {
     "name": "stdout",
     "output_type": "stream",
     "text": [
      "Save model at epoch 94.\n"
     ]
    },
    {
     "name": "stderr",
     "output_type": "stream",
     "text": [
      "Epoch: 95, lr: 1e-05, loss_classifier: 0.01 loss_box_reg: 0.03 loss_mask: 0.10 loss_objectness: 0.01 loss_rpn_box_reg: 0.02: 100%|██████████| 96/96 [04:36<00:00,  2.88s/it]\n",
      "Epoch: 96, lr: 1e-05, loss_classifier: 0.01 loss_box_reg: 0.03 loss_mask: 0.10 loss_objectness: 0.01 loss_rpn_box_reg: 0.02: 100%|██████████| 96/96 [04:35<00:00,  2.87s/it]\n"
     ]
    },
    {
     "name": "stdout",
     "output_type": "stream",
     "text": [
      "Save model at epoch 96.\n"
     ]
    },
    {
     "name": "stderr",
     "output_type": "stream",
     "text": [
      "Epoch: 97, lr: 1e-05, loss_classifier: 0.01 loss_box_reg: 0.03 loss_mask: 0.10 loss_objectness: 0.01 loss_rpn_box_reg: 0.02: 100%|██████████| 96/96 [04:35<00:00,  2.87s/it]\n",
      "Epoch: 98, lr: 1e-05, loss_classifier: 0.01 loss_box_reg: 0.03 loss_mask: 0.10 loss_objectness: 0.01 loss_rpn_box_reg: 0.02: 100%|██████████| 96/96 [04:36<00:00,  2.88s/it]\n"
     ]
    },
    {
     "name": "stdout",
     "output_type": "stream",
     "text": [
      "Save model at epoch 98.\n"
     ]
    },
    {
     "name": "stderr",
     "output_type": "stream",
     "text": [
      "Epoch: 99, lr: 1e-05, loss_classifier: 0.01 loss_box_reg: 0.03 loss_mask: 0.10 loss_objectness: 0.01 loss_rpn_box_reg: 0.02: 100%|██████████| 96/96 [04:36<00:00,  2.88s/it]\n"
     ]
    },
    {
     "name": "stdout",
     "output_type": "stream",
     "text": [
      "Save model at epoch 99.\n"
     ]
    },
    {
     "name": "stderr",
     "output_type": "stream",
     "text": [
      "Epoch: 100, lr: 1e-05, loss_classifier: 0.01 loss_box_reg: 0.03 loss_mask: 0.10 loss_objectness: 0.01 loss_rpn_box_reg: 0.02: 100%|██████████| 96/96 [04:35<00:00,  2.87s/it]\n"
     ]
    },
    {
     "name": "stdout",
     "output_type": "stream",
     "text": [
      "Save model at epoch 100.\n"
     ]
    }
   ],
   "source": [
    "date = time.strftime(\"%Y-%m-%d %H-%M-%S\", time.localtime())\n",
    "train(date)\n",
    "# test_MaskRCNNTrainDataset()"
   ]
  },
  {
   "cell_type": "markdown",
   "metadata": {},
   "source": []
  },
  {
   "cell_type": "code",
   "execution_count": null,
   "metadata": {},
   "outputs": [],
   "source": [
    "import numpy as np\n",
    "import torch\n",
    "device = torch.device('cuda' if torch.cuda.is_available() else 'cpu')\n",
    "# print(device)\n",
    "\n",
    "input = torch.as_tensor(np.ones(3, dtype=np.float32))\n",
    "if input.dtype == torch.float32:\n",
    "    # input = input.to(device).type(torch.cuda.FloatTensor)\n",
    "    input = input.type(torch.cuda.FloatTensor)\n",
    "    print(input.get_device())\n",
    "print(input.dtype)"
   ]
  }
 ],
 "metadata": {
  "interpreter": {
   "hash": "4023601d2c66765c2cd41cc7509af1d35fa85332d14551f25660655c523b7ce6"
  },
  "kernelspec": {
   "display_name": "Python 3.7.11 64-bit ('VRDL_HW3': conda)",
   "language": "python",
   "name": "python3"
  },
  "language_info": {
   "codemirror_mode": {
    "name": "ipython",
    "version": 3
   },
   "file_extension": ".py",
   "mimetype": "text/x-python",
   "name": "python",
   "nbconvert_exporter": "python",
   "pygments_lexer": "ipython3",
   "version": "3.7.11"
  },
  "orig_nbformat": 4
 },
 "nbformat": 4,
 "nbformat_minor": 2
}
