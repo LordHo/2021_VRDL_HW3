{
 "cells": [
  {
   "cell_type": "code",
   "execution_count": 1,
   "metadata": {},
   "outputs": [],
   "source": [
    "import time\n",
    "from mask_rcnn_train import train\n",
    "from dataset import test_MaskRCNNTrainDataset"
   ]
  },
  {
   "cell_type": "code",
   "execution_count": 2,
   "metadata": {},
   "outputs": [
    {
     "name": "stdout",
     "output_type": "stream",
     "text": [
      "True\n",
      "Device: cuda\n"
     ]
    },
    {
     "name": "stderr",
     "output_type": "stream",
     "text": [
      "  0%|          | 0/96 [00:00<?, ?it/s]C:\\Users\\Lab620\\Anaconda3\\envs\\VRDL_HW3\\lib\\site-packages\\torch\\_tensor.py:575: UserWarning: floor_divide is deprecated, and will be removed in a future version of pytorch. It currently rounds toward 0 (like the 'trunc' function NOT 'floor'). This results in incorrect rounding for negative values.\n",
      "To keep the current behavior, use torch.div(a, b, rounding_mode='trunc'), or for actual floor division, use torch.div(a, b, rounding_mode='floor'). (Triggered internally at  ..\\aten\\src\\ATen\\native\\BinaryOps.cpp:467.)\n",
      "  return torch.floor_divide(self, other)\n",
      "C:\\Users\\Lab620\\Anaconda3\\envs\\VRDL_HW3\\lib\\site-packages\\torch\\nn\\functional.py:718: UserWarning: Named tensors and all their associated APIs are an experimental feature and subject to change. Please do not use them for anything important until they are released as stable. (Triggered internally at  ..\\c10/core/TensorImpl.h:1156.)\n",
      "  return torch.max_pool2d(input, kernel_size, stride, padding, dilation, ceil_mode)\n",
      "Epoch: 1, loss_classifier: 0.03 loss_box_reg: 0.07 loss_mask: 0.00 loss_objectness: 0.03 loss_rpn_box_reg: 0.04: 100%|██████████| 96/96 [04:54<00:00,  3.07s/it]\n"
     ]
    },
    {
     "name": "stdout",
     "output_type": "stream",
     "text": [
      "Save model at epoch 1.\n"
     ]
    },
    {
     "name": "stderr",
     "output_type": "stream",
     "text": [
      "Epoch: 2, loss_classifier: 0.03 loss_box_reg: 0.06 loss_mask: 0.00 loss_objectness: 0.03 loss_rpn_box_reg: 0.04: 100%|██████████| 96/96 [04:51<00:00,  3.04s/it]\n"
     ]
    },
    {
     "name": "stdout",
     "output_type": "stream",
     "text": [
      "Save model at epoch 2.\n"
     ]
    },
    {
     "name": "stderr",
     "output_type": "stream",
     "text": [
      "Epoch: 3, loss_classifier: 0.03 loss_box_reg: 0.06 loss_mask: 0.00 loss_objectness: 0.03 loss_rpn_box_reg: 0.04: 100%|██████████| 96/96 [04:37<00:00,  2.89s/it]\n"
     ]
    },
    {
     "name": "stdout",
     "output_type": "stream",
     "text": [
      "Save model at epoch 3.\n"
     ]
    },
    {
     "name": "stderr",
     "output_type": "stream",
     "text": [
      "Epoch: 4, loss_classifier: 0.02 loss_box_reg: 0.06 loss_mask: 0.00 loss_objectness: 0.03 loss_rpn_box_reg: 0.04: 100%|██████████| 96/96 [04:32<00:00,  2.84s/it]\n"
     ]
    },
    {
     "name": "stdout",
     "output_type": "stream",
     "text": [
      "Save model at epoch 4.\n"
     ]
    },
    {
     "name": "stderr",
     "output_type": "stream",
     "text": [
      "Epoch: 5, loss_classifier: 0.03 loss_box_reg: 0.06 loss_mask: 0.00 loss_objectness: 0.03 loss_rpn_box_reg: 0.04: 100%|██████████| 96/96 [04:32<00:00,  2.84s/it]\n",
      "Epoch: 6, loss_classifier: 0.02 loss_box_reg: 0.06 loss_mask: 0.00 loss_objectness: 0.03 loss_rpn_box_reg: 0.04: 100%|██████████| 96/96 [04:32<00:00,  2.84s/it]\n"
     ]
    },
    {
     "name": "stdout",
     "output_type": "stream",
     "text": [
      "Save model at epoch 6.\n"
     ]
    },
    {
     "name": "stderr",
     "output_type": "stream",
     "text": [
      "Epoch: 7, loss_classifier: 0.03 loss_box_reg: 0.06 loss_mask: 0.00 loss_objectness: 0.03 loss_rpn_box_reg: 0.04: 100%|██████████| 96/96 [04:32<00:00,  2.84s/it]\n"
     ]
    },
    {
     "name": "stdout",
     "output_type": "stream",
     "text": [
      "Save model at epoch 7.\n"
     ]
    },
    {
     "name": "stderr",
     "output_type": "stream",
     "text": [
      "Epoch: 8, loss_classifier: 0.03 loss_box_reg: 0.06 loss_mask: 0.00 loss_objectness: 0.03 loss_rpn_box_reg: 0.04: 100%|██████████| 96/96 [04:33<00:00,  2.84s/it]\n",
      "Epoch: 9, loss_classifier: 0.02 loss_box_reg: 0.06 loss_mask: 0.00 loss_objectness: 0.03 loss_rpn_box_reg: 0.04: 100%|██████████| 96/96 [04:32<00:00,  2.84s/it]\n"
     ]
    },
    {
     "name": "stdout",
     "output_type": "stream",
     "text": [
      "Save model at epoch 9.\n"
     ]
    },
    {
     "name": "stderr",
     "output_type": "stream",
     "text": [
      "Epoch: 10, loss_classifier: 0.02 loss_box_reg: 0.06 loss_mask: 0.00 loss_objectness: 0.03 loss_rpn_box_reg: 0.04: 100%|██████████| 96/96 [04:33<00:00,  2.85s/it]\n",
      "Epoch: 11, loss_classifier: 0.03 loss_box_reg: 0.06 loss_mask: 0.00 loss_objectness: 0.03 loss_rpn_box_reg: 0.04: 100%|██████████| 96/96 [04:33<00:00,  2.84s/it]\n"
     ]
    },
    {
     "name": "stdout",
     "output_type": "stream",
     "text": [
      "Save model at epoch 11.\n"
     ]
    },
    {
     "name": "stderr",
     "output_type": "stream",
     "text": [
      "Epoch: 12, loss_classifier: 0.02 loss_box_reg: 0.06 loss_mask: 0.00 loss_objectness: 0.03 loss_rpn_box_reg: 0.04: 100%|██████████| 96/96 [04:33<00:00,  2.85s/it]\n"
     ]
    },
    {
     "name": "stdout",
     "output_type": "stream",
     "text": [
      "Save model at epoch 12.\n"
     ]
    },
    {
     "name": "stderr",
     "output_type": "stream",
     "text": [
      "Epoch: 13, loss_classifier: 0.02 loss_box_reg: 0.06 loss_mask: 0.00 loss_objectness: 0.03 loss_rpn_box_reg: 0.04: 100%|██████████| 96/96 [04:33<00:00,  2.84s/it]\n"
     ]
    },
    {
     "name": "stdout",
     "output_type": "stream",
     "text": [
      "Save model at epoch 13.\n"
     ]
    },
    {
     "name": "stderr",
     "output_type": "stream",
     "text": [
      "Epoch: 14, loss_classifier: 0.02 loss_box_reg: 0.06 loss_mask: 0.00 loss_objectness: 0.03 loss_rpn_box_reg: 0.04: 100%|██████████| 96/96 [04:33<00:00,  2.85s/it]\n"
     ]
    },
    {
     "name": "stdout",
     "output_type": "stream",
     "text": [
      "Save model at epoch 14.\n"
     ]
    },
    {
     "name": "stderr",
     "output_type": "stream",
     "text": [
      "Epoch: 15, loss_classifier: 0.02 loss_box_reg: 0.06 loss_mask: 0.00 loss_objectness: 0.03 loss_rpn_box_reg: 0.04: 100%|██████████| 96/96 [04:32<00:00,  2.84s/it]\n",
      "Epoch: 16, loss_classifier: 0.02 loss_box_reg: 0.06 loss_mask: 0.00 loss_objectness: 0.03 loss_rpn_box_reg: 0.04: 100%|██████████| 96/96 [04:33<00:00,  2.85s/it]\n"
     ]
    },
    {
     "name": "stdout",
     "output_type": "stream",
     "text": [
      "Save model at epoch 16.\n"
     ]
    },
    {
     "name": "stderr",
     "output_type": "stream",
     "text": [
      "Epoch: 17, loss_classifier: 0.02 loss_box_reg: 0.05 loss_mask: 0.00 loss_objectness: 0.03 loss_rpn_box_reg: 0.04: 100%|██████████| 96/96 [04:33<00:00,  2.85s/it]\n"
     ]
    },
    {
     "name": "stdout",
     "output_type": "stream",
     "text": [
      "Save model at epoch 17.\n"
     ]
    },
    {
     "name": "stderr",
     "output_type": "stream",
     "text": [
      "Epoch: 18, loss_classifier: 0.02 loss_box_reg: 0.05 loss_mask: 0.00 loss_objectness: 0.03 loss_rpn_box_reg: 0.04: 100%|██████████| 96/96 [04:33<00:00,  2.84s/it]\n"
     ]
    },
    {
     "name": "stdout",
     "output_type": "stream",
     "text": [
      "Save model at epoch 18.\n"
     ]
    },
    {
     "name": "stderr",
     "output_type": "stream",
     "text": [
      "Epoch: 19, loss_classifier: 0.02 loss_box_reg: 0.05 loss_mask: 0.00 loss_objectness: 0.03 loss_rpn_box_reg: 0.04: 100%|██████████| 96/96 [04:33<00:00,  2.85s/it]\n",
      "Epoch: 20, loss_classifier: 0.02 loss_box_reg: 0.06 loss_mask: 0.00 loss_objectness: 0.03 loss_rpn_box_reg: 0.04: 100%|██████████| 96/96 [04:33<00:00,  2.85s/it]\n"
     ]
    },
    {
     "name": "stdout",
     "output_type": "stream",
     "text": [
      "Save model at epoch 20.\n"
     ]
    },
    {
     "name": "stderr",
     "output_type": "stream",
     "text": [
      "Epoch: 21, loss_classifier: 0.02 loss_box_reg: 0.05 loss_mask: 0.00 loss_objectness: 0.03 loss_rpn_box_reg: 0.04: 100%|██████████| 96/96 [04:32<00:00,  2.84s/it]\n"
     ]
    },
    {
     "name": "stdout",
     "output_type": "stream",
     "text": [
      "Save model at epoch 21.\n"
     ]
    },
    {
     "name": "stderr",
     "output_type": "stream",
     "text": [
      "Epoch: 22, loss_classifier: 0.02 loss_box_reg: 0.06 loss_mask: 0.00 loss_objectness: 0.03 loss_rpn_box_reg: 0.04: 100%|██████████| 96/96 [04:34<00:00,  2.86s/it]\n",
      "Epoch: 23, loss_classifier: 0.02 loss_box_reg: 0.05 loss_mask: 0.00 loss_objectness: 0.03 loss_rpn_box_reg: 0.04: 100%|██████████| 96/96 [04:32<00:00,  2.84s/it]\n"
     ]
    },
    {
     "name": "stdout",
     "output_type": "stream",
     "text": [
      "Save model at epoch 23.\n"
     ]
    },
    {
     "name": "stderr",
     "output_type": "stream",
     "text": [
      "Epoch: 24, loss_classifier: 0.02 loss_box_reg: 0.05 loss_mask: 0.00 loss_objectness: 0.03 loss_rpn_box_reg: 0.04: 100%|██████████| 96/96 [04:34<00:00,  2.85s/it]\n"
     ]
    },
    {
     "name": "stdout",
     "output_type": "stream",
     "text": [
      "Save model at epoch 24.\n"
     ]
    },
    {
     "name": "stderr",
     "output_type": "stream",
     "text": [
      "Epoch: 25, loss_classifier: 0.02 loss_box_reg: 0.05 loss_mask: 0.00 loss_objectness: 0.03 loss_rpn_box_reg: 0.04: 100%|██████████| 96/96 [04:33<00:00,  2.85s/it]\n",
      "Epoch: 26, loss_classifier: 0.02 loss_box_reg: 0.05 loss_mask: 0.00 loss_objectness: 0.03 loss_rpn_box_reg: 0.04: 100%|██████████| 96/96 [04:32<00:00,  2.84s/it]\n",
      "Epoch: 27, loss_classifier: 0.02 loss_box_reg: 0.05 loss_mask: 0.00 loss_objectness: 0.03 loss_rpn_box_reg: 0.04: 100%|██████████| 96/96 [04:34<00:00,  2.86s/it]\n"
     ]
    },
    {
     "name": "stdout",
     "output_type": "stream",
     "text": [
      "Save model at epoch 27.\n"
     ]
    },
    {
     "name": "stderr",
     "output_type": "stream",
     "text": [
      "Epoch: 28, loss_classifier: 0.02 loss_box_reg: 0.05 loss_mask: 0.00 loss_objectness: 0.03 loss_rpn_box_reg: 0.04: 100%|██████████| 96/96 [04:33<00:00,  2.85s/it]\n",
      "Epoch: 29, loss_classifier: 0.02 loss_box_reg: 0.05 loss_mask: 0.00 loss_objectness: 0.03 loss_rpn_box_reg: 0.04: 100%|██████████| 96/96 [04:34<00:00,  2.86s/it]\n",
      "Epoch: 30, loss_classifier: 0.02 loss_box_reg: 0.05 loss_mask: 0.00 loss_objectness: 0.03 loss_rpn_box_reg: 0.04: 100%|██████████| 96/96 [04:33<00:00,  2.85s/it]\n",
      "Epoch: 31, loss_classifier: 0.02 loss_box_reg: 0.05 loss_mask: 0.00 loss_objectness: 0.03 loss_rpn_box_reg: 0.04: 100%|██████████| 96/96 [04:33<00:00,  2.85s/it]\n"
     ]
    },
    {
     "name": "stdout",
     "output_type": "stream",
     "text": [
      "Save model at epoch 31.\n"
     ]
    },
    {
     "name": "stderr",
     "output_type": "stream",
     "text": [
      "Epoch: 32, loss_classifier: 0.02 loss_box_reg: 0.05 loss_mask: 0.00 loss_objectness: 0.03 loss_rpn_box_reg: 0.04: 100%|██████████| 96/96 [04:33<00:00,  2.85s/it]\n",
      "Epoch: 33, loss_classifier: 0.02 loss_box_reg: 0.05 loss_mask: 0.00 loss_objectness: 0.03 loss_rpn_box_reg: 0.04: 100%|██████████| 96/96 [04:33<00:00,  2.85s/it]\n",
      "Epoch: 34, loss_classifier: 0.02 loss_box_reg: 0.05 loss_mask: 0.00 loss_objectness: 0.03 loss_rpn_box_reg: 0.04: 100%|██████████| 96/96 [04:34<00:00,  2.86s/it]\n",
      "Epoch: 35, loss_classifier: 0.02 loss_box_reg: 0.05 loss_mask: 0.00 loss_objectness: 0.03 loss_rpn_box_reg: 0.04: 100%|██████████| 96/96 [04:33<00:00,  2.85s/it]\n",
      "Epoch: 36, loss_classifier: 0.02 loss_box_reg: 0.05 loss_mask: 0.00 loss_objectness: 0.02 loss_rpn_box_reg: 0.04: 100%|██████████| 96/96 [04:33<00:00,  2.85s/it]\n",
      "Epoch: 37, loss_classifier: 0.02 loss_box_reg: 0.05 loss_mask: 0.00 loss_objectness: 0.03 loss_rpn_box_reg: 0.04: 100%|██████████| 96/96 [04:33<00:00,  2.85s/it]\n",
      "Epoch: 38, loss_classifier: 0.02 loss_box_reg: 0.05 loss_mask: 0.00 loss_objectness: 0.03 loss_rpn_box_reg: 0.04: 100%|██████████| 96/96 [04:32<00:00,  2.84s/it]\n"
     ]
    },
    {
     "name": "stdout",
     "output_type": "stream",
     "text": [
      "Save model at epoch 38.\n"
     ]
    },
    {
     "name": "stderr",
     "output_type": "stream",
     "text": [
      "Epoch: 39, loss_classifier: 0.02 loss_box_reg: 0.05 loss_mask: 0.00 loss_objectness: 0.03 loss_rpn_box_reg: 0.04: 100%|██████████| 96/96 [04:33<00:00,  2.85s/it]\n"
     ]
    },
    {
     "name": "stdout",
     "output_type": "stream",
     "text": [
      "Save model at epoch 39.\n"
     ]
    },
    {
     "name": "stderr",
     "output_type": "stream",
     "text": [
      "Epoch: 40, loss_classifier: 0.02 loss_box_reg: 0.05 loss_mask: 0.00 loss_objectness: 0.03 loss_rpn_box_reg: 0.03: 100%|██████████| 96/96 [04:33<00:00,  2.85s/it]\n",
      "Epoch: 41, loss_classifier: 0.02 loss_box_reg: 0.05 loss_mask: 0.00 loss_objectness: 0.03 loss_rpn_box_reg: 0.04: 100%|██████████| 96/96 [04:36<00:00,  2.88s/it]\n",
      "Epoch: 42, loss_classifier: 0.02 loss_box_reg: 0.05 loss_mask: 0.00 loss_objectness: 0.03 loss_rpn_box_reg: 0.04: 100%|██████████| 96/96 [04:35<00:00,  2.87s/it]\n",
      "Epoch: 43, loss_classifier: 0.02 loss_box_reg: 0.05 loss_mask: 0.00 loss_objectness: 0.03 loss_rpn_box_reg: 0.04: 100%|██████████| 96/96 [04:33<00:00,  2.85s/it]\n",
      "Epoch: 44, loss_classifier: 0.02 loss_box_reg: 0.05 loss_mask: 0.00 loss_objectness: 0.03 loss_rpn_box_reg: 0.04: 100%|██████████| 96/96 [04:33<00:00,  2.85s/it]\n",
      "Epoch: 45, loss_classifier: 0.02 loss_box_reg: 0.05 loss_mask: 0.00 loss_objectness: 0.03 loss_rpn_box_reg: 0.04: 100%|██████████| 96/96 [04:33<00:00,  2.85s/it]\n"
     ]
    },
    {
     "name": "stdout",
     "output_type": "stream",
     "text": [
      "Save model at epoch 45.\n"
     ]
    },
    {
     "name": "stderr",
     "output_type": "stream",
     "text": [
      "Epoch: 46, loss_classifier: 0.02 loss_box_reg: 0.05 loss_mask: 0.00 loss_objectness: 0.03 loss_rpn_box_reg: 0.04: 100%|██████████| 96/96 [04:33<00:00,  2.85s/it]\n"
     ]
    },
    {
     "name": "stdout",
     "output_type": "stream",
     "text": [
      "Save model at epoch 46.\n"
     ]
    },
    {
     "name": "stderr",
     "output_type": "stream",
     "text": [
      "Epoch: 47, loss_classifier: 0.02 loss_box_reg: 0.05 loss_mask: 0.00 loss_objectness: 0.03 loss_rpn_box_reg: 0.04: 100%|██████████| 96/96 [04:33<00:00,  2.85s/it]\n",
      "Epoch: 48, loss_classifier: 0.02 loss_box_reg: 0.05 loss_mask: 0.00 loss_objectness: 0.02 loss_rpn_box_reg: 0.04: 100%|██████████| 96/96 [04:33<00:00,  2.85s/it]\n",
      "Epoch: 49, loss_classifier: 0.02 loss_box_reg: 0.05 loss_mask: 0.00 loss_objectness: 0.03 loss_rpn_box_reg: 0.04: 100%|██████████| 96/96 [04:32<00:00,  2.84s/it]\n"
     ]
    },
    {
     "name": "stdout",
     "output_type": "stream",
     "text": [
      "Save model at epoch 49.\n"
     ]
    },
    {
     "name": "stderr",
     "output_type": "stream",
     "text": [
      "Epoch: 50, loss_classifier: 0.02 loss_box_reg: 0.05 loss_mask: 0.00 loss_objectness: 0.02 loss_rpn_box_reg: 0.04: 100%|██████████| 96/96 [04:33<00:00,  2.85s/it]\n"
     ]
    },
    {
     "name": "stdout",
     "output_type": "stream",
     "text": [
      "Save model at epoch 50.\n"
     ]
    },
    {
     "name": "stderr",
     "output_type": "stream",
     "text": [
      "Epoch: 51, loss_classifier: 0.02 loss_box_reg: 0.05 loss_mask: 0.00 loss_objectness: 0.03 loss_rpn_box_reg: 0.04: 100%|██████████| 96/96 [04:33<00:00,  2.84s/it]\n",
      "Epoch: 52, loss_classifier: 0.02 loss_box_reg: 0.05 loss_mask: 0.00 loss_objectness: 0.03 loss_rpn_box_reg: 0.04: 100%|██████████| 96/96 [04:32<00:00,  2.84s/it]\n",
      "Epoch: 53, loss_classifier: 0.02 loss_box_reg: 0.05 loss_mask: 0.00 loss_objectness: 0.02 loss_rpn_box_reg: 0.04: 100%|██████████| 96/96 [04:34<00:00,  2.86s/it]\n"
     ]
    },
    {
     "name": "stdout",
     "output_type": "stream",
     "text": [
      "Save model at epoch 53.\n"
     ]
    },
    {
     "name": "stderr",
     "output_type": "stream",
     "text": [
      "Epoch: 54, loss_classifier: 0.02 loss_box_reg: 0.05 loss_mask: 0.00 loss_objectness: 0.03 loss_rpn_box_reg: 0.04: 100%|██████████| 96/96 [04:33<00:00,  2.85s/it]\n",
      "Epoch: 55, loss_classifier: 0.02 loss_box_reg: 0.05 loss_mask: 0.00 loss_objectness: 0.02 loss_rpn_box_reg: 0.04: 100%|██████████| 96/96 [04:34<00:00,  2.86s/it]\n",
      "Epoch: 56, loss_classifier: 0.02 loss_box_reg: 0.05 loss_mask: 0.00 loss_objectness: 0.02 loss_rpn_box_reg: 0.03: 100%|██████████| 96/96 [04:33<00:00,  2.85s/it]\n"
     ]
    },
    {
     "name": "stdout",
     "output_type": "stream",
     "text": [
      "Save model at epoch 56.\n"
     ]
    },
    {
     "name": "stderr",
     "output_type": "stream",
     "text": [
      "Epoch: 57, loss_classifier: 0.02 loss_box_reg: 0.05 loss_mask: 0.00 loss_objectness: 0.03 loss_rpn_box_reg: 0.03: 100%|██████████| 96/96 [04:34<00:00,  2.86s/it]\n",
      "Epoch: 58, loss_classifier: 0.02 loss_box_reg: 0.05 loss_mask: 0.00 loss_objectness: 0.02 loss_rpn_box_reg: 0.03: 100%|██████████| 96/96 [04:34<00:00,  2.86s/it]\n",
      "Epoch: 59, loss_classifier: 0.02 loss_box_reg: 0.05 loss_mask: 0.00 loss_objectness: 0.03 loss_rpn_box_reg: 0.04: 100%|██████████| 96/96 [04:33<00:00,  2.84s/it]\n",
      "Epoch: 60, loss_classifier: 0.02 loss_box_reg: 0.05 loss_mask: 0.00 loss_objectness: 0.02 loss_rpn_box_reg: 0.04: 100%|██████████| 96/96 [04:33<00:00,  2.85s/it]\n",
      "Epoch: 61, loss_classifier: 0.02 loss_box_reg: 0.05 loss_mask: 0.00 loss_objectness: 0.02 loss_rpn_box_reg: 0.03: 100%|██████████| 96/96 [04:32<00:00,  2.84s/it]\n",
      "Epoch: 62, loss_classifier: 0.02 loss_box_reg: 0.05 loss_mask: 0.00 loss_objectness: 0.03 loss_rpn_box_reg: 0.03: 100%|██████████| 96/96 [04:32<00:00,  2.84s/it]\n",
      "Epoch: 63, loss_classifier: 0.02 loss_box_reg: 0.05 loss_mask: 0.00 loss_objectness: 0.02 loss_rpn_box_reg: 0.03: 100%|██████████| 96/96 [04:33<00:00,  2.85s/it]\n"
     ]
    },
    {
     "name": "stdout",
     "output_type": "stream",
     "text": [
      "Save model at epoch 63.\n"
     ]
    },
    {
     "name": "stderr",
     "output_type": "stream",
     "text": [
      "Epoch: 64, loss_classifier: 0.02 loss_box_reg: 0.05 loss_mask: 0.00 loss_objectness: 0.02 loss_rpn_box_reg: 0.03: 100%|██████████| 96/96 [04:34<00:00,  2.85s/it]\n",
      "Epoch: 65, loss_classifier: 0.02 loss_box_reg: 0.05 loss_mask: 0.00 loss_objectness: 0.02 loss_rpn_box_reg: 0.03: 100%|██████████| 96/96 [04:33<00:00,  2.85s/it]\n",
      "Epoch: 66, loss_classifier: 0.02 loss_box_reg: 0.04 loss_mask: 0.00 loss_objectness: 0.03 loss_rpn_box_reg: 0.03: 100%|██████████| 96/96 [04:34<00:00,  2.86s/it]\n",
      "Epoch: 67, loss_classifier: 0.02 loss_box_reg: 0.05 loss_mask: 0.00 loss_objectness: 0.03 loss_rpn_box_reg: 0.03: 100%|██████████| 96/96 [04:33<00:00,  2.84s/it]\n",
      "Epoch: 68, loss_classifier: 0.02 loss_box_reg: 0.04 loss_mask: 0.00 loss_objectness: 0.02 loss_rpn_box_reg: 0.03: 100%|██████████| 96/96 [04:33<00:00,  2.85s/it]\n",
      "Epoch: 69, loss_classifier: 0.02 loss_box_reg: 0.05 loss_mask: 0.00 loss_objectness: 0.02 loss_rpn_box_reg: 0.03: 100%|██████████| 96/96 [04:33<00:00,  2.85s/it]\n",
      "Epoch: 70, loss_classifier: 0.02 loss_box_reg: 0.04 loss_mask: 0.00 loss_objectness: 0.02 loss_rpn_box_reg: 0.03: 100%|██████████| 96/96 [04:32<00:00,  2.84s/it]\n",
      "Epoch: 71, loss_classifier: 0.02 loss_box_reg: 0.04 loss_mask: 0.00 loss_objectness: 0.02 loss_rpn_box_reg: 0.03: 100%|██████████| 96/96 [04:33<00:00,  2.85s/it]\n"
     ]
    },
    {
     "name": "stdout",
     "output_type": "stream",
     "text": [
      "Save model at epoch 71.\n"
     ]
    },
    {
     "name": "stderr",
     "output_type": "stream",
     "text": [
      "Epoch: 72, loss_classifier: 0.02 loss_box_reg: 0.05 loss_mask: 0.00 loss_objectness: 0.02 loss_rpn_box_reg: 0.03: 100%|██████████| 96/96 [04:33<00:00,  2.84s/it]\n",
      "Epoch: 73, loss_classifier: 0.02 loss_box_reg: 0.05 loss_mask: 0.00 loss_objectness: 0.02 loss_rpn_box_reg: 0.03: 100%|██████████| 96/96 [04:32<00:00,  2.84s/it]\n",
      "Epoch: 74, loss_classifier: 0.02 loss_box_reg: 0.04 loss_mask: 0.00 loss_objectness: 0.02 loss_rpn_box_reg: 0.03: 100%|██████████| 96/96 [04:33<00:00,  2.85s/it]\n",
      "Epoch: 75, loss_classifier: 0.02 loss_box_reg: 0.04 loss_mask: 0.00 loss_objectness: 0.02 loss_rpn_box_reg: 0.03: 100%|██████████| 96/96 [04:32<00:00,  2.84s/it]\n",
      "Epoch: 76, loss_classifier: 0.02 loss_box_reg: 0.05 loss_mask: 0.00 loss_objectness: 0.02 loss_rpn_box_reg: 0.03: 100%|██████████| 96/96 [04:33<00:00,  2.85s/it]\n",
      "Epoch: 77, loss_classifier: 0.02 loss_box_reg: 0.04 loss_mask: 0.00 loss_objectness: 0.02 loss_rpn_box_reg: 0.03: 100%|██████████| 96/96 [04:33<00:00,  2.85s/it]\n",
      "Epoch: 78, loss_classifier: 0.02 loss_box_reg: 0.04 loss_mask: 0.00 loss_objectness: 0.02 loss_rpn_box_reg: 0.03: 100%|██████████| 96/96 [04:34<00:00,  2.85s/it]\n",
      "Epoch: 79, loss_classifier: 0.02 loss_box_reg: 0.04 loss_mask: 0.00 loss_objectness: 0.02 loss_rpn_box_reg: 0.03: 100%|██████████| 96/96 [04:33<00:00,  2.85s/it]\n",
      "Epoch: 80, loss_classifier: 0.02 loss_box_reg: 0.04 loss_mask: 0.00 loss_objectness: 0.02 loss_rpn_box_reg: 0.03: 100%|██████████| 96/96 [04:32<00:00,  2.84s/it]\n"
     ]
    },
    {
     "name": "stdout",
     "output_type": "stream",
     "text": [
      "Save model at epoch 80.\n"
     ]
    },
    {
     "name": "stderr",
     "output_type": "stream",
     "text": [
      "Epoch: 81, loss_classifier: 0.02 loss_box_reg: 0.04 loss_mask: 0.00 loss_objectness: 0.02 loss_rpn_box_reg: 0.03: 100%|██████████| 96/96 [04:32<00:00,  2.84s/it]\n",
      "Epoch: 82, loss_classifier: 0.02 loss_box_reg: 0.04 loss_mask: 0.00 loss_objectness: 0.02 loss_rpn_box_reg: 0.03: 100%|██████████| 96/96 [04:33<00:00,  2.84s/it]\n"
     ]
    },
    {
     "name": "stdout",
     "output_type": "stream",
     "text": [
      "Save model at epoch 82.\n"
     ]
    },
    {
     "name": "stderr",
     "output_type": "stream",
     "text": [
      "Epoch: 83, loss_classifier: 0.02 loss_box_reg: 0.04 loss_mask: 0.00 loss_objectness: 0.02 loss_rpn_box_reg: 0.03: 100%|██████████| 96/96 [04:33<00:00,  2.85s/it]\n",
      "Epoch: 84, loss_classifier: 0.02 loss_box_reg: 0.04 loss_mask: 0.00 loss_objectness: 0.02 loss_rpn_box_reg: 0.03: 100%|██████████| 96/96 [04:33<00:00,  2.85s/it]\n"
     ]
    },
    {
     "name": "stdout",
     "output_type": "stream",
     "text": [
      "Save model at epoch 84.\n"
     ]
    },
    {
     "name": "stderr",
     "output_type": "stream",
     "text": [
      "Epoch: 85, loss_classifier: 0.02 loss_box_reg: 0.04 loss_mask: 0.00 loss_objectness: 0.02 loss_rpn_box_reg: 0.03: 100%|██████████| 96/96 [04:33<00:00,  2.85s/it]\n",
      "Epoch: 86, loss_classifier: 0.02 loss_box_reg: 0.04 loss_mask: 0.00 loss_objectness: 0.02 loss_rpn_box_reg: 0.03: 100%|██████████| 96/96 [04:33<00:00,  2.85s/it]\n",
      "Epoch: 87, loss_classifier: 0.02 loss_box_reg: 0.04 loss_mask: 0.00 loss_objectness: 0.02 loss_rpn_box_reg: 0.03: 100%|██████████| 96/96 [04:33<00:00,  2.85s/it]\n",
      "Epoch: 88, loss_classifier: 0.02 loss_box_reg: 0.04 loss_mask: 0.00 loss_objectness: 0.02 loss_rpn_box_reg: 0.03: 100%|██████████| 96/96 [04:33<00:00,  2.85s/it]\n",
      "Epoch: 89, loss_classifier: 0.02 loss_box_reg: 0.04 loss_mask: 0.00 loss_objectness: 0.02 loss_rpn_box_reg: 0.03: 100%|██████████| 96/96 [04:32<00:00,  2.84s/it]\n",
      "Epoch: 90, loss_classifier: 0.02 loss_box_reg: 0.04 loss_mask: 0.00 loss_objectness: 0.02 loss_rpn_box_reg: 0.03: 100%|██████████| 96/96 [04:33<00:00,  2.84s/it]\n",
      "Epoch: 91, loss_classifier: 0.02 loss_box_reg: 0.04 loss_mask: 0.00 loss_objectness: 0.02 loss_rpn_box_reg: 0.03: 100%|██████████| 96/96 [04:32<00:00,  2.84s/it]\n",
      "Epoch: 92, loss_classifier: 0.02 loss_box_reg: 0.04 loss_mask: 0.00 loss_objectness: 0.02 loss_rpn_box_reg: 0.03: 100%|██████████| 96/96 [04:35<00:00,  2.87s/it]\n",
      "Epoch: 93, loss_classifier: 0.02 loss_box_reg: 0.04 loss_mask: 0.00 loss_objectness: 0.02 loss_rpn_box_reg: 0.03: 100%|██████████| 96/96 [04:35<00:00,  2.87s/it]\n",
      "Epoch: 94, loss_classifier: 0.02 loss_box_reg: 0.04 loss_mask: 0.00 loss_objectness: 0.02 loss_rpn_box_reg: 0.03: 100%|██████████| 96/96 [04:39<00:00,  2.91s/it]\n",
      "Epoch: 95, loss_classifier: 0.02 loss_box_reg: 0.04 loss_mask: 0.00 loss_objectness: 0.02 loss_rpn_box_reg: 0.03: 100%|██████████| 96/96 [04:43<00:00,  2.96s/it]\n"
     ]
    },
    {
     "name": "stdout",
     "output_type": "stream",
     "text": [
      "Save model at epoch 95.\n"
     ]
    },
    {
     "name": "stderr",
     "output_type": "stream",
     "text": [
      "Epoch: 96, loss_classifier: 0.02 loss_box_reg: 0.04 loss_mask: 0.00 loss_objectness: 0.02 loss_rpn_box_reg: 0.03: 100%|██████████| 96/96 [04:40<00:00,  2.92s/it]\n"
     ]
    },
    {
     "name": "stdout",
     "output_type": "stream",
     "text": [
      "Save model at epoch 96.\n"
     ]
    },
    {
     "name": "stderr",
     "output_type": "stream",
     "text": [
      "Epoch: 97, loss_classifier: 0.02 loss_box_reg: 0.04 loss_mask: 0.00 loss_objectness: 0.02 loss_rpn_box_reg: 0.03: 100%|██████████| 96/96 [04:41<00:00,  2.93s/it]\n",
      "Epoch: 98, loss_classifier: 0.02 loss_box_reg: 0.04 loss_mask: 0.00 loss_objectness: 0.02 loss_rpn_box_reg: 0.03: 100%|██████████| 96/96 [04:42<00:00,  2.95s/it]\n"
     ]
    },
    {
     "name": "stdout",
     "output_type": "stream",
     "text": [
      "Save model at epoch 98.\n"
     ]
    },
    {
     "name": "stderr",
     "output_type": "stream",
     "text": [
      "Epoch: 99, loss_classifier: 0.02 loss_box_reg: 0.04 loss_mask: 0.00 loss_objectness: 0.02 loss_rpn_box_reg: 0.03: 100%|██████████| 96/96 [04:40<00:00,  2.93s/it]\n"
     ]
    },
    {
     "name": "stdout",
     "output_type": "stream",
     "text": [
      "Save model at epoch 99.\n"
     ]
    },
    {
     "name": "stderr",
     "output_type": "stream",
     "text": [
      "Epoch: 100, loss_classifier: 0.02 loss_box_reg: 0.04 loss_mask: 0.00 loss_objectness: 0.03 loss_rpn_box_reg: 0.04:   7%|▋         | 7/96 [00:20<04:24,  2.97s/it]\n"
     ]
    },
    {
     "ename": "KeyboardInterrupt",
     "evalue": "",
     "output_type": "error",
     "traceback": [
      "\u001b[1;31m---------------------------------------------------------------------------\u001b[0m",
      "\u001b[1;31mKeyboardInterrupt\u001b[0m                         Traceback (most recent call last)",
      "\u001b[1;32m<ipython-input-2-11b3079d224f>\u001b[0m in \u001b[0;36m<module>\u001b[1;34m\u001b[0m\n\u001b[0;32m      1\u001b[0m \u001b[0mdate\u001b[0m \u001b[1;33m=\u001b[0m \u001b[0mtime\u001b[0m\u001b[1;33m.\u001b[0m\u001b[0mstrftime\u001b[0m\u001b[1;33m(\u001b[0m\u001b[1;34m\"%Y-%m-%d %H-%M-%S\"\u001b[0m\u001b[1;33m,\u001b[0m \u001b[0mtime\u001b[0m\u001b[1;33m.\u001b[0m\u001b[0mlocaltime\u001b[0m\u001b[1;33m(\u001b[0m\u001b[1;33m)\u001b[0m\u001b[1;33m)\u001b[0m\u001b[1;33m\u001b[0m\u001b[1;33m\u001b[0m\u001b[0m\n\u001b[1;32m----> 2\u001b[1;33m \u001b[0mtrain\u001b[0m\u001b[1;33m(\u001b[0m\u001b[0mdate\u001b[0m\u001b[1;33m)\u001b[0m\u001b[1;33m\u001b[0m\u001b[1;33m\u001b[0m\u001b[0m\n\u001b[0m\u001b[0;32m      3\u001b[0m \u001b[1;31m# test_MaskRCNNTrainDataset()\u001b[0m\u001b[1;33m\u001b[0m\u001b[1;33m\u001b[0m\u001b[1;33m\u001b[0m\u001b[0m\n",
      "\u001b[1;32mc:\\Users\\Lab620\\Documents\\GitHub\\2021_VRDL_HW3\\mask_rcnn_train.py\u001b[0m in \u001b[0;36mtrain\u001b[1;34m(date)\u001b[0m\n\u001b[0;32m     80\u001b[0m         \u001b[0mtotal_train_loss\u001b[0m \u001b[1;33m=\u001b[0m \u001b[0mgetemptytotalloss\u001b[0m\u001b[1;33m(\u001b[0m\u001b[1;33m)\u001b[0m\u001b[1;33m\u001b[0m\u001b[1;33m\u001b[0m\u001b[0m\n\u001b[0;32m     81\u001b[0m         \u001b[0mpbar\u001b[0m \u001b[1;33m=\u001b[0m \u001b[0mtqdm\u001b[0m\u001b[1;33m(\u001b[0m\u001b[0mdataloader\u001b[0m\u001b[1;33m)\u001b[0m\u001b[1;33m\u001b[0m\u001b[1;33m\u001b[0m\u001b[0m\n\u001b[1;32m---> 82\u001b[1;33m         \u001b[1;32mfor\u001b[0m \u001b[0mbatch_index\u001b[0m\u001b[1;33m,\u001b[0m \u001b[1;33m(\u001b[0m\u001b[0mbatch_image\u001b[0m\u001b[1;33m,\u001b[0m \u001b[0mbatch_target\u001b[0m\u001b[1;33m,\u001b[0m \u001b[0mbatch_image_name\u001b[0m\u001b[1;33m)\u001b[0m \u001b[1;32min\u001b[0m \u001b[0menumerate\u001b[0m\u001b[1;33m(\u001b[0m\u001b[0mpbar\u001b[0m\u001b[1;33m)\u001b[0m\u001b[1;33m:\u001b[0m\u001b[1;33m\u001b[0m\u001b[1;33m\u001b[0m\u001b[0m\n\u001b[0m\u001b[0;32m     83\u001b[0m             \u001b[0mx\u001b[0m\u001b[1;33m,\u001b[0m \u001b[0my\u001b[0m \u001b[1;33m=\u001b[0m \u001b[0mDataToDevice\u001b[0m\u001b[1;33m(\u001b[0m\u001b[0mbatch_image\u001b[0m\u001b[1;33m,\u001b[0m \u001b[0mbatch_target\u001b[0m\u001b[1;33m,\u001b[0m \u001b[0mdevice\u001b[0m\u001b[1;33m)\u001b[0m\u001b[1;33m\u001b[0m\u001b[1;33m\u001b[0m\u001b[0m\n\u001b[0;32m     84\u001b[0m \u001b[1;33m\u001b[0m\u001b[0m\n",
      "\u001b[1;32m~\\Anaconda3\\envs\\VRDL_HW3\\lib\\site-packages\\tqdm\\std.py\u001b[0m in \u001b[0;36m__iter__\u001b[1;34m(self)\u001b[0m\n\u001b[0;32m   1176\u001b[0m \u001b[1;33m\u001b[0m\u001b[0m\n\u001b[0;32m   1177\u001b[0m         \u001b[1;32mtry\u001b[0m\u001b[1;33m:\u001b[0m\u001b[1;33m\u001b[0m\u001b[1;33m\u001b[0m\u001b[0m\n\u001b[1;32m-> 1178\u001b[1;33m             \u001b[1;32mfor\u001b[0m \u001b[0mobj\u001b[0m \u001b[1;32min\u001b[0m \u001b[0miterable\u001b[0m\u001b[1;33m:\u001b[0m\u001b[1;33m\u001b[0m\u001b[1;33m\u001b[0m\u001b[0m\n\u001b[0m\u001b[0;32m   1179\u001b[0m                 \u001b[1;32myield\u001b[0m \u001b[0mobj\u001b[0m\u001b[1;33m\u001b[0m\u001b[1;33m\u001b[0m\u001b[0m\n\u001b[0;32m   1180\u001b[0m                 \u001b[1;31m# Update and possibly print the progressbar.\u001b[0m\u001b[1;33m\u001b[0m\u001b[1;33m\u001b[0m\u001b[1;33m\u001b[0m\u001b[0m\n",
      "\u001b[1;32m~\\Anaconda3\\envs\\VRDL_HW3\\lib\\site-packages\\torch\\utils\\data\\dataloader.py\u001b[0m in \u001b[0;36m__next__\u001b[1;34m(self)\u001b[0m\n\u001b[0;32m    519\u001b[0m             \u001b[1;32mif\u001b[0m \u001b[0mself\u001b[0m\u001b[1;33m.\u001b[0m\u001b[0m_sampler_iter\u001b[0m \u001b[1;32mis\u001b[0m \u001b[1;32mNone\u001b[0m\u001b[1;33m:\u001b[0m\u001b[1;33m\u001b[0m\u001b[1;33m\u001b[0m\u001b[0m\n\u001b[0;32m    520\u001b[0m                 \u001b[0mself\u001b[0m\u001b[1;33m.\u001b[0m\u001b[0m_reset\u001b[0m\u001b[1;33m(\u001b[0m\u001b[1;33m)\u001b[0m\u001b[1;33m\u001b[0m\u001b[1;33m\u001b[0m\u001b[0m\n\u001b[1;32m--> 521\u001b[1;33m             \u001b[0mdata\u001b[0m \u001b[1;33m=\u001b[0m \u001b[0mself\u001b[0m\u001b[1;33m.\u001b[0m\u001b[0m_next_data\u001b[0m\u001b[1;33m(\u001b[0m\u001b[1;33m)\u001b[0m\u001b[1;33m\u001b[0m\u001b[1;33m\u001b[0m\u001b[0m\n\u001b[0m\u001b[0;32m    522\u001b[0m             \u001b[0mself\u001b[0m\u001b[1;33m.\u001b[0m\u001b[0m_num_yielded\u001b[0m \u001b[1;33m+=\u001b[0m \u001b[1;36m1\u001b[0m\u001b[1;33m\u001b[0m\u001b[1;33m\u001b[0m\u001b[0m\n\u001b[0;32m    523\u001b[0m             \u001b[1;32mif\u001b[0m \u001b[0mself\u001b[0m\u001b[1;33m.\u001b[0m\u001b[0m_dataset_kind\u001b[0m \u001b[1;33m==\u001b[0m \u001b[0m_DatasetKind\u001b[0m\u001b[1;33m.\u001b[0m\u001b[0mIterable\u001b[0m \u001b[1;32mand\u001b[0m\u001b[0;31m \u001b[0m\u001b[0;31m\\\u001b[0m\u001b[1;33m\u001b[0m\u001b[1;33m\u001b[0m\u001b[0m\n",
      "\u001b[1;32m~\\Anaconda3\\envs\\VRDL_HW3\\lib\\site-packages\\torch\\utils\\data\\dataloader.py\u001b[0m in \u001b[0;36m_next_data\u001b[1;34m(self)\u001b[0m\n\u001b[0;32m    559\u001b[0m     \u001b[1;32mdef\u001b[0m \u001b[0m_next_data\u001b[0m\u001b[1;33m(\u001b[0m\u001b[0mself\u001b[0m\u001b[1;33m)\u001b[0m\u001b[1;33m:\u001b[0m\u001b[1;33m\u001b[0m\u001b[1;33m\u001b[0m\u001b[0m\n\u001b[0;32m    560\u001b[0m         \u001b[0mindex\u001b[0m \u001b[1;33m=\u001b[0m \u001b[0mself\u001b[0m\u001b[1;33m.\u001b[0m\u001b[0m_next_index\u001b[0m\u001b[1;33m(\u001b[0m\u001b[1;33m)\u001b[0m  \u001b[1;31m# may raise StopIteration\u001b[0m\u001b[1;33m\u001b[0m\u001b[1;33m\u001b[0m\u001b[0m\n\u001b[1;32m--> 561\u001b[1;33m         \u001b[0mdata\u001b[0m \u001b[1;33m=\u001b[0m \u001b[0mself\u001b[0m\u001b[1;33m.\u001b[0m\u001b[0m_dataset_fetcher\u001b[0m\u001b[1;33m.\u001b[0m\u001b[0mfetch\u001b[0m\u001b[1;33m(\u001b[0m\u001b[0mindex\u001b[0m\u001b[1;33m)\u001b[0m  \u001b[1;31m# may raise StopIteration\u001b[0m\u001b[1;33m\u001b[0m\u001b[1;33m\u001b[0m\u001b[0m\n\u001b[0m\u001b[0;32m    562\u001b[0m         \u001b[1;32mif\u001b[0m \u001b[0mself\u001b[0m\u001b[1;33m.\u001b[0m\u001b[0m_pin_memory\u001b[0m\u001b[1;33m:\u001b[0m\u001b[1;33m\u001b[0m\u001b[1;33m\u001b[0m\u001b[0m\n\u001b[0;32m    563\u001b[0m             \u001b[0mdata\u001b[0m \u001b[1;33m=\u001b[0m \u001b[0m_utils\u001b[0m\u001b[1;33m.\u001b[0m\u001b[0mpin_memory\u001b[0m\u001b[1;33m.\u001b[0m\u001b[0mpin_memory\u001b[0m\u001b[1;33m(\u001b[0m\u001b[0mdata\u001b[0m\u001b[1;33m)\u001b[0m\u001b[1;33m\u001b[0m\u001b[1;33m\u001b[0m\u001b[0m\n",
      "\u001b[1;32m~\\Anaconda3\\envs\\VRDL_HW3\\lib\\site-packages\\torch\\utils\\data\\_utils\\fetch.py\u001b[0m in \u001b[0;36mfetch\u001b[1;34m(self, possibly_batched_index)\u001b[0m\n\u001b[0;32m     42\u001b[0m     \u001b[1;32mdef\u001b[0m \u001b[0mfetch\u001b[0m\u001b[1;33m(\u001b[0m\u001b[0mself\u001b[0m\u001b[1;33m,\u001b[0m \u001b[0mpossibly_batched_index\u001b[0m\u001b[1;33m)\u001b[0m\u001b[1;33m:\u001b[0m\u001b[1;33m\u001b[0m\u001b[1;33m\u001b[0m\u001b[0m\n\u001b[0;32m     43\u001b[0m         \u001b[1;32mif\u001b[0m \u001b[0mself\u001b[0m\u001b[1;33m.\u001b[0m\u001b[0mauto_collation\u001b[0m\u001b[1;33m:\u001b[0m\u001b[1;33m\u001b[0m\u001b[1;33m\u001b[0m\u001b[0m\n\u001b[1;32m---> 44\u001b[1;33m             \u001b[0mdata\u001b[0m \u001b[1;33m=\u001b[0m \u001b[1;33m[\u001b[0m\u001b[0mself\u001b[0m\u001b[1;33m.\u001b[0m\u001b[0mdataset\u001b[0m\u001b[1;33m[\u001b[0m\u001b[0midx\u001b[0m\u001b[1;33m]\u001b[0m \u001b[1;32mfor\u001b[0m \u001b[0midx\u001b[0m \u001b[1;32min\u001b[0m \u001b[0mpossibly_batched_index\u001b[0m\u001b[1;33m]\u001b[0m\u001b[1;33m\u001b[0m\u001b[1;33m\u001b[0m\u001b[0m\n\u001b[0m\u001b[0;32m     45\u001b[0m         \u001b[1;32melse\u001b[0m\u001b[1;33m:\u001b[0m\u001b[1;33m\u001b[0m\u001b[1;33m\u001b[0m\u001b[0m\n\u001b[0;32m     46\u001b[0m             \u001b[0mdata\u001b[0m \u001b[1;33m=\u001b[0m \u001b[0mself\u001b[0m\u001b[1;33m.\u001b[0m\u001b[0mdataset\u001b[0m\u001b[1;33m[\u001b[0m\u001b[0mpossibly_batched_index\u001b[0m\u001b[1;33m]\u001b[0m\u001b[1;33m\u001b[0m\u001b[1;33m\u001b[0m\u001b[0m\n",
      "\u001b[1;32m~\\Anaconda3\\envs\\VRDL_HW3\\lib\\site-packages\\torch\\utils\\data\\_utils\\fetch.py\u001b[0m in \u001b[0;36m<listcomp>\u001b[1;34m(.0)\u001b[0m\n\u001b[0;32m     42\u001b[0m     \u001b[1;32mdef\u001b[0m \u001b[0mfetch\u001b[0m\u001b[1;33m(\u001b[0m\u001b[0mself\u001b[0m\u001b[1;33m,\u001b[0m \u001b[0mpossibly_batched_index\u001b[0m\u001b[1;33m)\u001b[0m\u001b[1;33m:\u001b[0m\u001b[1;33m\u001b[0m\u001b[1;33m\u001b[0m\u001b[0m\n\u001b[0;32m     43\u001b[0m         \u001b[1;32mif\u001b[0m \u001b[0mself\u001b[0m\u001b[1;33m.\u001b[0m\u001b[0mauto_collation\u001b[0m\u001b[1;33m:\u001b[0m\u001b[1;33m\u001b[0m\u001b[1;33m\u001b[0m\u001b[0m\n\u001b[1;32m---> 44\u001b[1;33m             \u001b[0mdata\u001b[0m \u001b[1;33m=\u001b[0m \u001b[1;33m[\u001b[0m\u001b[0mself\u001b[0m\u001b[1;33m.\u001b[0m\u001b[0mdataset\u001b[0m\u001b[1;33m[\u001b[0m\u001b[0midx\u001b[0m\u001b[1;33m]\u001b[0m \u001b[1;32mfor\u001b[0m \u001b[0midx\u001b[0m \u001b[1;32min\u001b[0m \u001b[0mpossibly_batched_index\u001b[0m\u001b[1;33m]\u001b[0m\u001b[1;33m\u001b[0m\u001b[1;33m\u001b[0m\u001b[0m\n\u001b[0m\u001b[0;32m     45\u001b[0m         \u001b[1;32melse\u001b[0m\u001b[1;33m:\u001b[0m\u001b[1;33m\u001b[0m\u001b[1;33m\u001b[0m\u001b[0m\n\u001b[0;32m     46\u001b[0m             \u001b[0mdata\u001b[0m \u001b[1;33m=\u001b[0m \u001b[0mself\u001b[0m\u001b[1;33m.\u001b[0m\u001b[0mdataset\u001b[0m\u001b[1;33m[\u001b[0m\u001b[0mpossibly_batched_index\u001b[0m\u001b[1;33m]\u001b[0m\u001b[1;33m\u001b[0m\u001b[1;33m\u001b[0m\u001b[0m\n",
      "\u001b[1;32mc:\\Users\\Lab620\\Documents\\GitHub\\2021_VRDL_HW3\\dataset.py\u001b[0m in \u001b[0;36m__getitem__\u001b[1;34m(self, index)\u001b[0m\n\u001b[0;32m     33\u001b[0m         \u001b[0mimage_name\u001b[0m \u001b[1;33m=\u001b[0m \u001b[0mself\u001b[0m\u001b[1;33m.\u001b[0m\u001b[0mimage_list\u001b[0m\u001b[1;33m[\u001b[0m\u001b[0mindex\u001b[0m \u001b[1;33m%\u001b[0m \u001b[0mself\u001b[0m\u001b[1;33m.\u001b[0m\u001b[0m__len__\u001b[0m\u001b[1;33m(\u001b[0m\u001b[1;33m)\u001b[0m\u001b[1;33m]\u001b[0m\u001b[1;33m\u001b[0m\u001b[1;33m\u001b[0m\u001b[0m\n\u001b[0;32m     34\u001b[0m         \u001b[0mimage\u001b[0m \u001b[1;33m=\u001b[0m \u001b[0mself\u001b[0m\u001b[1;33m.\u001b[0m\u001b[0m__getimage__\u001b[0m\u001b[1;33m(\u001b[0m\u001b[0mimage_name\u001b[0m\u001b[1;33m)\u001b[0m\u001b[1;33m\u001b[0m\u001b[1;33m\u001b[0m\u001b[0m\n\u001b[1;32m---> 35\u001b[1;33m         \u001b[0mtargets\u001b[0m \u001b[1;33m=\u001b[0m \u001b[0mself\u001b[0m\u001b[1;33m.\u001b[0m\u001b[0m__gettargets__\u001b[0m\u001b[1;33m(\u001b[0m\u001b[0mimage_name\u001b[0m\u001b[1;33m,\u001b[0m \u001b[0mindex\u001b[0m\u001b[1;33m)\u001b[0m\u001b[1;33m\u001b[0m\u001b[1;33m\u001b[0m\u001b[0m\n\u001b[0m\u001b[0;32m     36\u001b[0m         \u001b[1;32mreturn\u001b[0m \u001b[0mimage\u001b[0m\u001b[1;33m,\u001b[0m \u001b[0mtargets\u001b[0m\u001b[1;33m,\u001b[0m \u001b[0mimage_name\u001b[0m\u001b[1;33m\u001b[0m\u001b[1;33m\u001b[0m\u001b[0m\n\u001b[0;32m     37\u001b[0m \u001b[1;33m\u001b[0m\u001b[0m\n",
      "\u001b[1;32mc:\\Users\\Lab620\\Documents\\GitHub\\2021_VRDL_HW3\\dataset.py\u001b[0m in \u001b[0;36m__gettargets__\u001b[1;34m(self, image_name, index)\u001b[0m\n\u001b[0;32m     90\u001b[0m             \u001b[0mmask_path\u001b[0m \u001b[1;33m=\u001b[0m \u001b[0mos\u001b[0m\u001b[1;33m.\u001b[0m\u001b[0mpath\u001b[0m\u001b[1;33m.\u001b[0m\u001b[0mjoin\u001b[0m\u001b[1;33m(\u001b[0m\u001b[0mself\u001b[0m\u001b[1;33m.\u001b[0m\u001b[0mdir\u001b[0m\u001b[1;33m,\u001b[0m \u001b[0mimage_dir\u001b[0m\u001b[1;33m,\u001b[0m \u001b[1;34m'masks'\u001b[0m\u001b[1;33m,\u001b[0m \u001b[0mmask_name\u001b[0m\u001b[1;33m)\u001b[0m\u001b[1;33m\u001b[0m\u001b[1;33m\u001b[0m\u001b[0m\n\u001b[0;32m     91\u001b[0m \u001b[1;33m\u001b[0m\u001b[0m\n\u001b[1;32m---> 92\u001b[1;33m             \u001b[0mmask\u001b[0m \u001b[1;33m=\u001b[0m \u001b[0mImage\u001b[0m\u001b[1;33m.\u001b[0m\u001b[0mopen\u001b[0m\u001b[1;33m(\u001b[0m\u001b[0mmask_path\u001b[0m\u001b[1;33m)\u001b[0m\u001b[1;33m.\u001b[0m\u001b[0mconvert\u001b[0m\u001b[1;33m(\u001b[0m\u001b[1;34m'L'\u001b[0m\u001b[1;33m)\u001b[0m\u001b[1;33m\u001b[0m\u001b[1;33m\u001b[0m\u001b[0m\n\u001b[0m\u001b[0;32m     93\u001b[0m             \u001b[0mmask\u001b[0m \u001b[1;33m=\u001b[0m \u001b[0mself\u001b[0m\u001b[1;33m.\u001b[0m\u001b[0mPILToTensor\u001b[0m\u001b[1;33m(\u001b[0m\u001b[0mmask\u001b[0m\u001b[1;33m)\u001b[0m\u001b[1;33m\u001b[0m\u001b[1;33m\u001b[0m\u001b[0m\n\u001b[0;32m     94\u001b[0m             \u001b[0mmask\u001b[0m \u001b[1;33m=\u001b[0m \u001b[0mmask\u001b[0m\u001b[1;33m//\u001b[0m\u001b[1;36m255\u001b[0m\u001b[1;33m\u001b[0m\u001b[1;33m\u001b[0m\u001b[0m\n",
      "\u001b[1;32m~\\Anaconda3\\envs\\VRDL_HW3\\lib\\site-packages\\PIL\\Image.py\u001b[0m in \u001b[0;36mopen\u001b[1;34m(fp, mode, formats)\u001b[0m\n\u001b[0;32m   2966\u001b[0m \u001b[1;33m\u001b[0m\u001b[0m\n\u001b[0;32m   2967\u001b[0m     \u001b[1;32mif\u001b[0m \u001b[0mfilename\u001b[0m\u001b[1;33m:\u001b[0m\u001b[1;33m\u001b[0m\u001b[1;33m\u001b[0m\u001b[0m\n\u001b[1;32m-> 2968\u001b[1;33m         \u001b[0mfp\u001b[0m \u001b[1;33m=\u001b[0m \u001b[0mbuiltins\u001b[0m\u001b[1;33m.\u001b[0m\u001b[0mopen\u001b[0m\u001b[1;33m(\u001b[0m\u001b[0mfilename\u001b[0m\u001b[1;33m,\u001b[0m \u001b[1;34m\"rb\"\u001b[0m\u001b[1;33m)\u001b[0m\u001b[1;33m\u001b[0m\u001b[1;33m\u001b[0m\u001b[0m\n\u001b[0m\u001b[0;32m   2969\u001b[0m         \u001b[0mexclusive_fp\u001b[0m \u001b[1;33m=\u001b[0m \u001b[1;32mTrue\u001b[0m\u001b[1;33m\u001b[0m\u001b[1;33m\u001b[0m\u001b[0m\n\u001b[0;32m   2970\u001b[0m \u001b[1;33m\u001b[0m\u001b[0m\n",
      "\u001b[1;31mKeyboardInterrupt\u001b[0m: "
     ]
    }
   ],
   "source": [
    "date = time.strftime(\"%Y-%m-%d %H-%M-%S\", time.localtime())\n",
    "train(date)\n",
    "# test_MaskRCNNTrainDataset()"
   ]
  },
  {
   "cell_type": "markdown",
   "metadata": {},
   "source": []
  },
  {
   "cell_type": "code",
   "execution_count": null,
   "metadata": {},
   "outputs": [],
   "source": [
    "import numpy as np\n",
    "import torch\n",
    "device = torch.device('cuda' if torch.cuda.is_available() else 'cpu')\n",
    "# print(device)\n",
    "\n",
    "input = torch.as_tensor(np.ones(3, dtype=np.float32))\n",
    "if input.dtype == torch.float32:\n",
    "    # input = input.to(device).type(torch.cuda.FloatTensor)\n",
    "    input = input.type(torch.cuda.FloatTensor)\n",
    "    print(input.get_device())\n",
    "print(input.dtype)"
   ]
  }
 ],
 "metadata": {
  "interpreter": {
   "hash": "4023601d2c66765c2cd41cc7509af1d35fa85332d14551f25660655c523b7ce6"
  },
  "kernelspec": {
   "display_name": "Python 3.7.11 64-bit ('VRDL_HW3': conda)",
   "language": "python",
   "name": "python3"
  },
  "language_info": {
   "codemirror_mode": {
    "name": "ipython",
    "version": 3
   },
   "file_extension": ".py",
   "mimetype": "text/x-python",
   "name": "python",
   "nbconvert_exporter": "python",
   "pygments_lexer": "ipython3",
   "version": "3.7.11"
  },
  "orig_nbformat": 4
 },
 "nbformat": 4,
 "nbformat_minor": 2
}
