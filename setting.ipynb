{
 "cells": [
  {
   "cell_type": "code",
   "execution_count": null,
   "metadata": {},
   "outputs": [],
   "source": [
    "!nvcc -V"
   ]
  },
  {
   "cell_type": "code",
   "execution_count": null,
   "metadata": {},
   "outputs": [],
   "source": [
    "!nvidia-smi"
   ]
  },
  {
   "cell_type": "code",
   "execution_count": null,
   "metadata": {},
   "outputs": [],
   "source": [
    "!pip freeze > requirements.txt"
   ]
  },
  {
   "cell_type": "code",
   "execution_count": null,
   "metadata": {},
   "outputs": [],
   "source": [
    "import torch\n",
    "print(torch.cuda.is_available())"
   ]
  },
  {
   "cell_type": "code",
   "execution_count": null,
   "metadata": {},
   "outputs": [],
   "source": [
    "from divide import test_Divide, Divide\n",
    "import os\n",
    "# test_Divide()\n",
    "n = 4\n",
    "source_dir = os.path.join('dataset', 'train')\n",
    "target_dir = os.path.join('dataset', f'divide-{n}')\n",
    "divide = Divide(n, source_dir, target_dir)"
   ]
  },
  {
   "cell_type": "code",
   "execution_count": null,
   "metadata": {},
   "outputs": [],
   "source": [
    "divide.run()"
   ]
  },
  {
   "cell_type": "code",
   "execution_count": null,
   "metadata": {},
   "outputs": [],
   "source": [
    "# !python -m pip install 'git+https://github.com/facebookresearch/detectron2.git'"
   ]
  },
  {
   "cell_type": "code",
   "execution_count": null,
   "metadata": {},
   "outputs": [],
   "source": [
    "import torchvision\n",
    "backbone = torchvision.models.resnet101(pretrained=True)\n",
    "print(backbone.fc.out_features)\n",
    "backbone.out_channels = 1280\n",
    "print(backbone)"
   ]
  },
  {
   "cell_type": "code",
   "execution_count": null,
   "metadata": {},
   "outputs": [],
   "source": [
    "from torchvision.models.detection.backbone_utils import resnet_fpn_backbone\n",
    "backbone = resnet_fpn_backbone('resnet101', pretrained=True, trainable_layers=3)\n",
    "print(backbone)"
   ]
  },
  {
   "cell_type": "code",
   "execution_count": 1,
   "metadata": {},
   "outputs": [],
   "source": [
    "from model import get_model_instance_segmentation\n",
    "model = get_model_instance_segmentation(num_classes=2, model_name='resnet_101_fpn')\n",
    "print(model, file=open('Mask R-CNN (resnet-101+fpn).txt', 'w'))"
   ]
  },
  {
   "cell_type": "code",
   "execution_count": 2,
   "metadata": {},
   "outputs": [],
   "source": [
    "from model import get_model_instance_segmentation\n",
    "model = get_model_instance_segmentation(num_classes=2)\n",
    "print(model, file=open('Mask R-CNN (resnet-50+fpn).txt', 'w'))"
   ]
  },
  {
   "cell_type": "code",
   "execution_count": null,
   "metadata": {},
   "outputs": [],
   "source": [
    "from model import get_mask_rcnn_resnet_101_fpn\n",
    "model = get_mask_rcnn_resnet_101_fpn(num_classes=2)\n",
    "print(model, file=open('Mask R-CNN (resnet-101+fpn).txt', 'w'))"
   ]
  }
 ],
 "metadata": {
  "interpreter": {
   "hash": "4023601d2c66765c2cd41cc7509af1d35fa85332d14551f25660655c523b7ce6"
  },
  "kernelspec": {
   "display_name": "Python 3.8.12 64-bit ('VRDL_HW3': conda)",
   "language": "python",
   "name": "python3"
  },
  "language_info": {
   "codemirror_mode": {
    "name": "ipython",
    "version": 3
   },
   "file_extension": ".py",
   "mimetype": "text/x-python",
   "name": "python",
   "nbconvert_exporter": "python",
   "pygments_lexer": "ipython3",
   "version": "3.7.11"
  },
  "orig_nbformat": 4
 },
 "nbformat": 4,
 "nbformat_minor": 2
}
